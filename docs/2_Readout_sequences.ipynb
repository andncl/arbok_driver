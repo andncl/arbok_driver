{
 "cells": [
  {
   "cell_type": "markdown",
   "id": "d93bc378-64af-4aae-9d61-9d227e5e0f60",
   "metadata": {},
   "source": [
    "## Tutorial 2) Readout sequences"
   ]
  },
  {
   "cell_type": "markdown",
   "id": "49c48298-f88a-46f4-93a9-6e9ec9b644ef",
   "metadata": {},
   "source": [
    "## 0. Introduction"
   ]
  },
  {
   "cell_type": "markdown",
   "id": "118d6201-e4e3-4227-a878-48082f955622",
   "metadata": {},
   "source": [
    "In the first tutorial sequence writing and parameterization with configuration files was demonstrated.\n",
    "This enables user to apply and quantify any waveform on the instrument outputs.\n",
    "\n",
    "Playing arbitrary waveforms is one part of qubit experimetns, reading them out is equally crucial.\n",
    "In this tutorial we explain the concept of `ReadSequence`s and how to use them. \n",
    "\n",
    "The tutorial is structured in the following way:\n",
    "1. The basic `ReadSequence` architecture\n",
    "2. Configuring a dummy readout sequence\n",
    "3. Compiling the Sequence to QUA code"
   ]
  },
  {
   "cell_type": "markdown",
   "id": "878a631b-4d2f-4970-ae53-1952bbbd2d1f",
   "metadata": {},
   "source": [
    "## 1) The basic `ReadSequence` architecture"
   ]
  },
  {
   "cell_type": "markdown",
   "id": "517bcdb6-c3a3-4071-98bd-521c187c8a47",
   "metadata": {},
   "source": [
    "`ReadSequence`\\\n",
    "The ReadSeqeunce is a child class of the SubSequence which we exlpored in Tutorial 1. Arbitrary waveforms can still be played, parameterized and swept.\n",
    "The ReadSequence is meant to handle measurement sequences and describe them in a device agnostic way. For this the classes in the rest of this list are introduced. They all relate to a single given ReadSequence.\n",
    "\n",
    "`Signal`\\\n",
    "Signals represent one or more measurement results from a single physical entity (e.g qubit, SET, quantum dot etc.) A ReadSequence can have an arbitrary number of Signal instances.\n",
    "\n",
    "`Observable`\\\n",
    "Each observable handles a single result that is being accquired during the execution of a ReadSequence. Observables store the qua variables that store measurement results temporarily and the streams they are saved to. Each result is assigned to a single signal instance.\n",
    "\n",
    "`ReadoutPoint`\\\n",
    "A readout point describes a direct readout of a given quantum element at a differnet 'point' (e.g in voltage or frequency space).\n",
    "Qua commands describing this measurement are given in the `qua_measure` method.\n",
    "Per Readout point, multiple observables can be instruduced whose FPGA variables are automatically declared, assigned and saved to the correct stream by this class.\n",
    "\n",
    "`AbstractReadout`\\\n",
    "The AbstractReadout works similarly to the ReadoutPoint but gives you all the freedom. Qua commands can be executed, arbitrary arguments like observables from other AbstractReadouts or even ReadoutPoints can be passed as arguments to process them further. in comparison to the ReadoutPoint, the results (observables) of an AbstractReadout can be assigned to ANY given signal."
   ]
  },
  {
   "cell_type": "markdown",
   "id": "cc758dda-b459-46f6-bc26-ec14a93d2218",
   "metadata": {},
   "source": [
    "This might seem a bit abstract on the first glace but will be a lot more clear after looking how this works in action."
   ]
  },
  {
   "cell_type": "markdown",
   "id": "a77db35c-50ee-49b8-b9d6-bd9654e3d041",
   "metadata": {},
   "source": [
    "<img src=\"images/readout_sequence_scheme.svg\">"
   ]
  },
  {
   "cell_type": "markdown",
   "id": "d02d63b1-c1d1-4a5f-a37f-f339627562d9",
   "metadata": {},
   "source": [
    "This scheme can be further visualized by comparing this with the configuration we will use in this tutorial."
   ]
  },
  {
   "cell_type": "markdown",
   "id": "08e408ee-4a70-4d1d-89b8-d347fb1c47ee",
   "metadata": {},
   "source": [
    "## 2) Configuring a dummy readout sequence"
   ]
  },
  {
   "cell_type": "code",
   "execution_count": 5,
   "id": "4d74203e-ce08-43ec-8445-b605dca8393d",
   "metadata": {},
   "outputs": [],
   "source": [
    "readout_sequence_config = {\n",
    "    'parameters': {\n",
    "        't_between_measurements': {\n",
    "            'value': 50,\n",
    "            'unit': 'cycles',\n",
    "        }\n",
    "    },\n",
    "    'signals':{\n",
    "        'qubit1':{\n",
    "            'elements': {\n",
    "                'sensor1': 'readout_element',\n",
    "            },\n",
    "            'readout_points': {\n",
    "                'ref': {\n",
    "                    'method': 'average',\n",
    "                    'desc':'reference point',\n",
    "                    'observables': ['I', 'Q', 'IQ'],\n",
    "                    'save_values': True\n",
    "                },\n",
    "                'read': {\n",
    "                    'method': 'average',\n",
    "                    'desc': 'redout point',\n",
    "                    'observables': ['I', 'Q', 'IQ'],\n",
    "                    'save_values': True\n",
    "                }\n",
    "            }\n",
    "        },\n",
    "    },\n",
    "    'readout_groups': {\n",
    "        'difference': {\n",
    "            'qubit1__diff': {\n",
    "                'method': 'difference',\n",
    "                'name': 'diff',\n",
    "                'args': {\n",
    "                    'signal': 'qubit1',\n",
    "                    'minuend': 'qubit1.ref.sensor1_IQ',\n",
    "                    'subtrahend': 'qubit1.read.sensor1_IQ',\n",
    "                },\n",
    "            },\n",
    "        }\n",
    "    },\n",
    "}"
   ]
  },
  {
   "cell_type": "code",
   "execution_count": 1,
   "id": "684be28b-5e0d-4987-88b7-1ac5ebf926d9",
   "metadata": {},
   "outputs": [
    {
     "name": "stdout",
     "output_type": "stream",
     "text": [
      "2024-04-09 17:36:33,837 - qm - INFO     - Starting session: 47eea29e-e49e-4be3-a15a-0f1c06237b94\n"
     ]
    }
   ],
   "source": [
    "from arbok_driver import ArbokDriver, Sample, Sequence"
   ]
  },
  {
   "cell_type": "code",
   "execution_count": 2,
   "id": "597f6816-2e00-46e8-9e22-1418692375c4",
   "metadata": {},
   "outputs": [],
   "source": [
    "from example_configs.dummy_sample import dummy_sample\n",
    "from example_sequences.dummy_readout import DummyReadout"
   ]
  },
  {
   "cell_type": "code",
   "execution_count": 3,
   "id": "9d800a93-e089-4f60-a6de-230de09fa58d",
   "metadata": {},
   "outputs": [],
   "source": [
    "qm_driver = ArbokDriver('qm_driver', dummy_sample)\n",
    "# dummy_sequence = Sequence('dummy_squence', dummy_sample)\n",
    "# qm_driver.add_sequence(dummy_sequence)"
   ]
  },
  {
   "cell_type": "code",
   "execution_count": 4,
   "id": "48101b8d-b53d-4532-825b-12d6a2409e72",
   "metadata": {},
   "outputs": [
    {
     "data": {
      "text/plain": [
       "\u001b[1;31mInit signature:\u001b[0m \u001b[0mDummyReadout\u001b[0m\u001b[1;33m(\u001b[0m\u001b[1;33m*\u001b[0m\u001b[0margs\u001b[0m\u001b[1;33m:\u001b[0m \u001b[1;34m'Any'\u001b[0m\u001b[1;33m,\u001b[0m \u001b[1;33m**\u001b[0m\u001b[0mkwargs\u001b[0m\u001b[1;33m:\u001b[0m \u001b[1;34m'Any'\u001b[0m\u001b[1;33m)\u001b[0m \u001b[1;33m->\u001b[0m \u001b[1;34m'Any'\u001b[0m\u001b[1;33m\u001b[0m\u001b[1;33m\u001b[0m\u001b[0m\n",
       "\u001b[1;31mSource:\u001b[0m        \n",
       "\u001b[1;32mclass\u001b[0m \u001b[0mDummyReadout\u001b[0m\u001b[1;33m(\u001b[0m\u001b[0mReadSequence\u001b[0m\u001b[1;33m)\u001b[0m\u001b[1;33m:\u001b[0m\u001b[1;33m\n",
       "\u001b[0m    \u001b[1;34m\"\"\"\n",
       "    Class containing parameters and sequence for a dummy read sequnce\n",
       "    \"\"\"\u001b[0m\u001b[1;33m\n",
       "\u001b[0m    \u001b[1;32mdef\u001b[0m \u001b[0m__init__\u001b[0m\u001b[1;33m(\u001b[0m\u001b[1;33m\n",
       "\u001b[0m            \u001b[0mself\u001b[0m\u001b[1;33m,\u001b[0m\u001b[1;33m\n",
       "\u001b[0m            \u001b[0mname\u001b[0m\u001b[1;33m:\u001b[0m \u001b[0mstr\u001b[0m\u001b[1;33m,\u001b[0m\u001b[1;33m\n",
       "\u001b[0m            \u001b[0msample\u001b[0m\u001b[1;33m:\u001b[0m \u001b[0mSample\u001b[0m\u001b[1;33m,\u001b[0m\u001b[1;33m\n",
       "\u001b[0m            \u001b[0msequence_config\u001b[0m\u001b[1;33m:\u001b[0m \u001b[0mdict\u001b[0m\u001b[1;33m,\u001b[0m\u001b[1;33m\n",
       "\u001b[0m        \u001b[1;33m)\u001b[0m\u001b[1;33m:\u001b[0m\u001b[1;33m\n",
       "\u001b[0m        \u001b[1;34m\"\"\"\n",
       "        Constructor method for 'DummyReadout' class\n",
       "        \n",
       "        Args:\n",
       "            name (str): name of the sequence\n",
       "            sample (Sample): Sample being used\n",
       "            sequence_config (dict): Dict configuring sequence\n",
       "        \"\"\"\u001b[0m\u001b[1;33m\n",
       "\u001b[0m        \u001b[0msuper\u001b[0m\u001b[1;33m(\u001b[0m\u001b[1;33m)\u001b[0m\u001b[1;33m.\u001b[0m\u001b[0m__init__\u001b[0m\u001b[1;33m(\u001b[0m\u001b[1;33m\n",
       "\u001b[0m            \u001b[0mname\u001b[0m\u001b[1;33m,\u001b[0m \u001b[0msample\u001b[0m\u001b[1;33m,\u001b[0m \u001b[0msequence_config\u001b[0m\u001b[1;33m,\u001b[0m\u001b[1;33m\n",
       "\u001b[0m            \u001b[1;33m{\u001b[0m\u001b[1;34m'difference'\u001b[0m\u001b[1;33m:\u001b[0m \u001b[0mDifference\u001b[0m\u001b[1;33m}\u001b[0m\u001b[1;33m,\u001b[0m\u001b[1;33m\n",
       "\u001b[0m            \u001b[1;33m{\u001b[0m\u001b[1;34m'average'\u001b[0m\u001b[1;33m:\u001b[0m \u001b[0mAverage\u001b[0m\u001b[1;33m}\u001b[0m\u001b[1;33m\n",
       "\u001b[0m            \u001b[1;33m)\u001b[0m\u001b[1;33m\n",
       "\u001b[0m\u001b[1;33m\n",
       "\u001b[0m    \u001b[1;32mdef\u001b[0m \u001b[0mqua_sequence\u001b[0m\u001b[1;33m(\u001b[0m\u001b[0mself\u001b[0m\u001b[1;33m)\u001b[0m\u001b[1;33m:\u001b[0m\u001b[1;33m\n",
       "\u001b[0m        \u001b[1;34m\"\"\"QUA sequence to perform mixed down up initialization\"\"\"\u001b[0m\u001b[1;33m\n",
       "\u001b[0m        \u001b[0mqua\u001b[0m\u001b[1;33m.\u001b[0m\u001b[0malign\u001b[0m\u001b[1;33m(\u001b[0m\u001b[1;33m)\u001b[0m\u001b[1;33m\n",
       "\u001b[0m\u001b[1;33m\n",
       "\u001b[0m        \u001b[0mref_points\u001b[0m \u001b[1;33m=\u001b[0m \u001b[1;33m[\u001b[0m\u001b[0mx\u001b[0m \u001b[1;32mfor\u001b[0m \u001b[0mx\u001b[0m \u001b[1;32min\u001b[0m \u001b[0mself\u001b[0m\u001b[1;33m.\u001b[0m\u001b[0mreadout_points\u001b[0m\u001b[1;33m.\u001b[0m\u001b[0mvalues\u001b[0m\u001b[1;33m(\u001b[0m\u001b[1;33m)\u001b[0m \u001b[1;32mif\u001b[0m \u001b[0mx\u001b[0m\u001b[1;33m.\u001b[0m\u001b[0mpoint_name\u001b[0m \u001b[1;33m==\u001b[0m \u001b[1;34m'ref'\u001b[0m\u001b[1;33m]\u001b[0m\u001b[1;33m\n",
       "\u001b[0m        \u001b[1;32mfor\u001b[0m \u001b[0mreadout_point\u001b[0m \u001b[1;32min\u001b[0m \u001b[0mref_points\u001b[0m\u001b[1;33m:\u001b[0m\u001b[1;33m\n",
       "\u001b[0m            \u001b[0mreadout_point\u001b[0m\u001b[1;33m.\u001b[0m\u001b[0mqua_measure_and_save\u001b[0m\u001b[1;33m(\u001b[0m\u001b[1;33m)\u001b[0m\u001b[1;33m\n",
       "\u001b[0m\u001b[1;33m\n",
       "\u001b[0m        \u001b[0mqua\u001b[0m\u001b[1;33m.\u001b[0m\u001b[0mwait\u001b[0m\u001b[1;33m(\u001b[0m\u001b[0mself\u001b[0m\u001b[1;33m.\u001b[0m\u001b[0mt_between_measurements\u001b[0m\u001b[1;33m(\u001b[0m\u001b[1;33m)\u001b[0m\u001b[1;33m)\u001b[0m\u001b[1;33m\n",
       "\u001b[0m        \u001b[0mread_points\u001b[0m \u001b[1;33m=\u001b[0m \u001b[1;33m[\u001b[0m\u001b[0mx\u001b[0m \u001b[1;32mfor\u001b[0m \u001b[0mx\u001b[0m \u001b[1;32min\u001b[0m \u001b[0mself\u001b[0m\u001b[1;33m.\u001b[0m\u001b[0mreadout_points\u001b[0m\u001b[1;33m.\u001b[0m\u001b[0mvalues\u001b[0m\u001b[1;33m(\u001b[0m\u001b[1;33m)\u001b[0m \u001b[1;32mif\u001b[0m \u001b[0mx\u001b[0m\u001b[1;33m.\u001b[0m\u001b[0mpoint_name\u001b[0m \u001b[1;33m==\u001b[0m \u001b[1;34m'read'\u001b[0m\u001b[1;33m]\u001b[0m\u001b[1;33m\n",
       "\u001b[0m        \u001b[1;32mfor\u001b[0m \u001b[0mreadout_point\u001b[0m \u001b[1;32min\u001b[0m \u001b[0mread_points\u001b[0m\u001b[1;33m:\u001b[0m\u001b[1;33m\n",
       "\u001b[0m            \u001b[0mreadout_point\u001b[0m\u001b[1;33m.\u001b[0m\u001b[0mqua_measure_and_save\u001b[0m\u001b[1;33m(\u001b[0m\u001b[1;33m)\u001b[0m\u001b[1;33m\n",
       "\u001b[0m\u001b[1;33m\n",
       "\u001b[0m        \u001b[1;32mfor\u001b[0m \u001b[0m_\u001b[0m \u001b[1;33m,\u001b[0m \u001b[0mreadout\u001b[0m \u001b[1;32min\u001b[0m \u001b[0mself\u001b[0m\u001b[1;33m.\u001b[0m\u001b[0mdifference\u001b[0m\u001b[1;33m.\u001b[0m\u001b[0mitems\u001b[0m\u001b[1;33m(\u001b[0m\u001b[1;33m)\u001b[0m\u001b[1;33m:\u001b[0m\u001b[1;33m\n",
       "\u001b[0m            \u001b[0mreadout\u001b[0m\u001b[1;33m.\u001b[0m\u001b[0mqua_measure_and_save\u001b[0m\u001b[1;33m(\u001b[0m\u001b[1;33m)\u001b[0m\u001b[1;33m\u001b[0m\u001b[1;33m\u001b[0m\u001b[0m\n",
       "\u001b[1;31mFile:\u001b[0m           c:\\users\\z5440260\\gitrepos\\arbok_driver\\docs\\example_sequences\\dummy_readout.py\n",
       "\u001b[1;31mType:\u001b[0m           InstrumentMeta\n",
       "\u001b[1;31mSubclasses:\u001b[0m     "
      ]
     },
     "metadata": {},
     "output_type": "display_data"
    }
   ],
   "source": [
    "DummyReadout??"
   ]
  },
  {
   "cell_type": "code",
   "execution_count": 6,
   "id": "73a01938-f7a4-42dd-b049-b01dcda342ea",
   "metadata": {},
   "outputs": [
    {
     "ename": "NameError",
     "evalue": "name 'dummy_sequence' is not defined",
     "output_type": "error",
     "traceback": [
      "\u001b[1;31m---------------------------------------------------------------------------\u001b[0m",
      "\u001b[1;31mNameError\u001b[0m                                 Traceback (most recent call last)",
      "Cell \u001b[1;32mIn[6], line 2\u001b[0m\n\u001b[0;32m      1\u001b[0m dummy_readout \u001b[38;5;241m=\u001b[39m DummyReadout(\u001b[38;5;124m'\u001b[39m\u001b[38;5;124mdummy_readout\u001b[39m\u001b[38;5;124m'\u001b[39m, dummy_sample, readout_sequence_config)\n\u001b[1;32m----> 2\u001b[0m \u001b[43mdummy_sequence\u001b[49m\u001b[38;5;241m.\u001b[39madd_subsequence(dummy_readout)\n",
      "\u001b[1;31mNameError\u001b[0m: name 'dummy_sequence' is not defined"
     ]
    }
   ],
   "source": [
    "dummy_readout = DummyReadout('dummy_readout', dummy_sample, readout_sequence_config)\n",
    "dummy_sequence.add_subsequence(dummy_readout)"
   ]
  },
  {
   "cell_type": "markdown",
   "id": "ea893de7-48b3-4a54-97d6-7536a698a86f",
   "metadata": {},
   "source": [
    "## 3) Compiling a `ReadoutSequence` to QUA code"
   ]
  },
  {
   "cell_type": "code",
   "execution_count": null,
   "id": "875c61a5-8af8-49c3-b951-f70db8a73b4a",
   "metadata": {},
   "outputs": [],
   "source": [
    "qua_program = qm_driver.get_qua_program()\n",
    "qm_driver.print_qua_program_to_file(\n",
    "    'readout_qua_program.py', qua_program)\n",
    "import compiled_readout_qua_program\n",
    "compiled_readout_qua_program??"
   ]
  }
 ],
 "metadata": {
  "kernelspec": {
   "display_name": "arbok_env10",
   "language": "python",
   "name": "arbok_env10"
  },
  "language_info": {
   "codemirror_mode": {
    "name": "ipython",
    "version": 3
   },
   "file_extension": ".py",
   "mimetype": "text/x-python",
   "name": "python",
   "nbconvert_exporter": "python",
   "pygments_lexer": "ipython3",
   "version": "3.10.13"
  }
 },
 "nbformat": 4,
 "nbformat_minor": 5
}
