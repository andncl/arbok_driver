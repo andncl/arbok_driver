{
 "cells": [
  {
   "cell_type": "markdown",
   "id": "d93bc378-64af-4aae-9d61-9d227e5e0f60",
   "metadata": {},
   "source": [
    "## Tutorial 2) Readout sequences"
   ]
  },
  {
   "cell_type": "markdown",
   "id": "49c48298-f88a-46f4-93a9-6e9ec9b644ef",
   "metadata": {},
   "source": [
    "## 0. Introduction"
   ]
  },
  {
   "cell_type": "markdown",
   "id": "118d6201-e4e3-4227-a878-48082f955622",
   "metadata": {},
   "source": [
    "In the first tutorial sequence writing and parameterization with configuration files was demonstrated.\n",
    "This enables user to apply and quantify any waveform on the instrument outputs.\n",
    "\n",
    "Playing arbitrary waveforms is one part of qubit experimetns, reading them out is equally crucial.\n",
    "In this tutorial we explain the concept of `ReadSequence`s and how to use them. \n",
    "\n",
    "The tutorial is structured in the following way:\n",
    "1. The basic `ReadSequence` architecture\n",
    "2. Configuring a dummy readout sequence\n",
    "3. Compiling the Sequence to QUA code\n",
    "4. Parameter sweeps and measurements\n",
    "5. Scaling readout sequences to bigger systems\n",
    "\n",
    "Chapter 1-4 demonstrates how a `ReadSequence` is built, how to configure and how to compile it. Part 4 connects this with sweeps of arbitrary parameters and part 5 demonstrates how to scale up the examined systems without altering the ReadSequence class."
   ]
  },
  {
   "cell_type": "markdown",
   "id": "878a631b-4d2f-4970-ae53-1952bbbd2d1f",
   "metadata": {},
   "source": [
    "## 1. The basic `ReadSequence` architecture"
   ]
  },
  {
   "cell_type": "markdown",
   "id": "517bcdb6-c3a3-4071-98bd-521c187c8a47",
   "metadata": {},
   "source": [
    "`ReadSequence`\\\n",
    "The ReadSeqeunce is a child class of the SubSequence which we exlpored in Tutorial 1. Arbitrary waveforms can still be played, parameterized and swept.\n",
    "The ReadSequence is meant to handle measurement sequences and describe them in a device agnostic way. For this the classes in the rest of this list are introduced. They all relate to a single given ReadSequence.\n",
    "\n",
    "`Signal`\\\n",
    "Signals represent one or more measurement results from a single physical entity (e.g qubit, SET, quantum dot etc.) A ReadSequence can have an arbitrary number of Signal instances.\n",
    "\n",
    "`Observable`\\\n",
    "Each observable handles a single result that is being accquired during the execution of a ReadSequence. Observables store the qua variables that store measurement results temporarily and the streams they are saved to. Each result is assigned to a single signal instance.\n",
    "\n",
    "`ReadoutPoint`\\\n",
    "A readout point describes a direct readout of a given quantum element at a differnet 'point' (e.g in voltage or frequency space).\n",
    "Qua commands describing this measurement are given in the `qua_measure` method.\n",
    "Per Readout point, multiple observables can be instruduced whose FPGA variables are automatically declared, assigned and saved to the correct stream by this class.\n",
    "\n",
    "`AbstractReadout`\\\n",
    "The AbstractReadout works similarly to the ReadoutPoint but gives you all the freedom. Qua commands can be executed, arbitrary arguments like observables from other AbstractReadouts or even ReadoutPoints can be passed as arguments to process them further. in comparison to the ReadoutPoint, the results (observables) of an AbstractReadout can be assigned to ANY given signal."
   ]
  },
  {
   "cell_type": "markdown",
   "id": "cc758dda-b459-46f6-bc26-ec14a93d2218",
   "metadata": {},
   "source": [
    "This might seem a bit abstract on the first glace but will be a lot more clear after looking how this works in action."
   ]
  },
  {
   "cell_type": "markdown",
   "id": "a77db35c-50ee-49b8-b9d6-bd9654e3d041",
   "metadata": {},
   "source": [
    "<img src=\"images/readout_sequence_scheme.svg\">"
   ]
  },
  {
   "cell_type": "markdown",
   "id": "d02d63b1-c1d1-4a5f-a37f-f339627562d9",
   "metadata": {},
   "source": [
    "This scheme can be further visualized by comparing this with the configuration we will use in this tutorial."
   ]
  },
  {
   "cell_type": "markdown",
   "id": "08e408ee-4a70-4d1d-89b8-d347fb1c47ee",
   "metadata": {},
   "source": [
    "## 2. Configuring a dummy readout sequence"
   ]
  },
  {
   "cell_type": "markdown",
   "id": "4fe8d5df-9bda-44ab-82da-6c3de7e1c472",
   "metadata": {},
   "source": [
    "### 2.1 The three parts of the configuration"
   ]
  },
  {
   "cell_type": "markdown",
   "id": "a6633382-3a7a-4d0a-9148-1e308a18bdc9",
   "metadata": {},
   "source": [
    "Below you an example configuration is given. I might seem overwhelming at first but can easily be sliced into logical blocks.\n",
    "\n",
    "The given dictionairy has **three** keys.\n",
    "\n",
    "1) The 'parameters' section acts identically to the configuration of a `SubSequence` that we discussed before. Parameters are created according to provided names, values, units etc.\n",
    "2) The 'signals' section defines the physical entities we want to measure that are grouped into `Signal`s. To define a signal, the involved readout elements of the quantum machine need to be provided as well as its `ReadoutPoints` that are being used in the measurement.\n",
    "3) The last key is the 'readout_groups' within which multiple logical groups are defined that again contain configurations for `AbstracReadout`s. Those groups are convenient if you want to execute many readout operations at the same time. An abstract readout is simply configured by giving the desired **'method'** (1), a **name** under which the result should be stored on the signal (2) and the **arguments** that are required for the given 'method' (3).\n"
   ]
  },
  {
   "cell_type": "code",
   "execution_count": 1,
   "id": "4d74203e-ce08-43ec-8445-b605dca8393d",
   "metadata": {},
   "outputs": [],
   "source": [
    "readout_sequence_config = {\n",
    "    'parameters': {\n",
    "        't_between_measurements': {\n",
    "            'value': 50,\n",
    "            'unit': 'cycles',\n",
    "        }\n",
    "    },\n",
    "    'signals':{\n",
    "        'qubit1':{\n",
    "            'elements': {\n",
    "                'sensor1': 'readout_element',\n",
    "            },\n",
    "            'readout_points': {\n",
    "                'reference': {\n",
    "                    'method': 'average',\n",
    "                    'desc':'reference point',\n",
    "                    'observables': ['I', 'Q', 'IQ'],\n",
    "                    'save_values': True\n",
    "                },\n",
    "                'read': {\n",
    "                    'method': 'average',\n",
    "                    'desc': 'redout point',\n",
    "                    'observables': ['I', 'Q', 'IQ'],\n",
    "                    'save_values': True\n",
    "                }\n",
    "            }\n",
    "        },\n",
    "    },\n",
    "    'readout_groups': {\n",
    "        'difference': {\n",
    "            'qubit1__diff': {\n",
    "                'method': 'difference',\n",
    "                'name': 'diff',\n",
    "                'args': {\n",
    "                    'signal': 'qubit1',\n",
    "                    'minuend': 'qubit1.reference.sensor1_IQ',\n",
    "                    'subtrahend': 'qubit1.read.sensor1_IQ',\n",
    "                },\n",
    "            },\n",
    "        }\n",
    "    },\n",
    "}"
   ]
  },
  {
   "cell_type": "markdown",
   "id": "5a186cf9-a580-4705-a6bf-1d9b18afaf45",
   "metadata": {},
   "source": [
    "### 2.2 Writing custom `Readsequence`s"
   ]
  },
  {
   "cell_type": "markdown",
   "id": "efd9f6c8-7262-4317-b514-cc37f5d7056d",
   "metadata": {},
   "source": [
    "In the next step we will have a look at a custom `ReadSequence` that takes a 'reference' and a 'read' measurement for each signal that has those `ReadPoint`s provided.\n",
    "After that the difference between those accquired results is calculated (in real time on the FPGA) and saved in the respective buffer."
   ]
  },
  {
   "cell_type": "code",
   "execution_count": 2,
   "id": "684be28b-5e0d-4987-88b7-1ac5ebf926d9",
   "metadata": {},
   "outputs": [
    {
     "name": "stdout",
     "output_type": "stream",
     "text": [
      "2024-04-12 13:25:51,606 - qm - INFO     - Starting session: ce62e7b2-5eb3-489b-a95e-f084c96c2e1a\n"
     ]
    }
   ],
   "source": [
    "from example_configs.dummy_sample import dummy_sample\n",
    "from example_sequences.dummy_readout import DummyReadout"
   ]
  },
  {
   "cell_type": "markdown",
   "id": "0c3e0d78-820e-408f-89cc-0b5aa2bc0c28",
   "metadata": {},
   "source": [
    "Let us have a look at the source code. Writing a custom class can be quite simple as only two methods need to be provided:\n",
    "\n",
    "`__init__`:\\\n",
    "This method is called when the given class is instanciated. We need to provide a name, the used `Sample` and a configuration as given above.\n",
    "Within this method the parent class `ReadSequence` '__init__' method is being called as well with super(). All arguments are forwarded to the parent and the available types of `ReadoutPoint`s and `AbstractReadout`s are being passed as well. All keys provided in those dictionaries can be used in the 'method' section of the sequence configuration discussed above.\n",
    "\n",
    "`qua_sequence`:\\\n",
    "This method contains qua commands to be executed on the hardware defining our measurement. In this example not a lot of explicit qua code can be seen but rather method calls to `qua_measure_and_save`. Those helper classes store the respective qua code in their own methods. \n",
    "It can be seen that explicit FPGA variable declarion and stream/ memory management is not required. This is all handled automatically by the given observables. Rememer, an `Observable` is always responsible for a single measurement result and stores its qua variables, and data streams and puts them in the correct place in the qua program."
   ]
  },
  {
   "cell_type": "code",
   "execution_count": 3,
   "id": "48101b8d-b53d-4532-825b-12d6a2409e72",
   "metadata": {},
   "outputs": [
    {
     "data": {
      "text/plain": [
       "\u001b[1;31mInit signature:\u001b[0m \u001b[0mDummyReadout\u001b[0m\u001b[1;33m(\u001b[0m\u001b[1;33m*\u001b[0m\u001b[0margs\u001b[0m\u001b[1;33m:\u001b[0m \u001b[1;34m'Any'\u001b[0m\u001b[1;33m,\u001b[0m \u001b[1;33m**\u001b[0m\u001b[0mkwargs\u001b[0m\u001b[1;33m:\u001b[0m \u001b[1;34m'Any'\u001b[0m\u001b[1;33m)\u001b[0m \u001b[1;33m->\u001b[0m \u001b[1;34m'Any'\u001b[0m\u001b[1;33m\u001b[0m\u001b[1;33m\u001b[0m\u001b[0m\n",
       "\u001b[1;31mSource:\u001b[0m        \n",
       "\u001b[1;32mclass\u001b[0m \u001b[0mDummyReadout\u001b[0m\u001b[1;33m(\u001b[0m\u001b[0mReadSequence\u001b[0m\u001b[1;33m)\u001b[0m\u001b[1;33m:\u001b[0m\u001b[1;33m\n",
       "\u001b[0m    \u001b[1;34m\"\"\"\n",
       "    Class containing parameters and sequence for a dummy read sequnce\n",
       "    \"\"\"\u001b[0m\u001b[1;33m\n",
       "\u001b[0m    \u001b[1;32mdef\u001b[0m \u001b[0m__init__\u001b[0m\u001b[1;33m(\u001b[0m\u001b[1;33m\n",
       "\u001b[0m            \u001b[0mself\u001b[0m\u001b[1;33m,\u001b[0m\u001b[1;33m\n",
       "\u001b[0m            \u001b[0mname\u001b[0m\u001b[1;33m:\u001b[0m \u001b[0mstr\u001b[0m\u001b[1;33m,\u001b[0m\u001b[1;33m\n",
       "\u001b[0m            \u001b[0msample\u001b[0m\u001b[1;33m:\u001b[0m \u001b[0mSample\u001b[0m\u001b[1;33m,\u001b[0m\u001b[1;33m\n",
       "\u001b[0m            \u001b[0msequence_config\u001b[0m\u001b[1;33m:\u001b[0m \u001b[0mdict\u001b[0m\u001b[1;33m,\u001b[0m\u001b[1;33m\n",
       "\u001b[0m        \u001b[1;33m)\u001b[0m\u001b[1;33m:\u001b[0m\u001b[1;33m\n",
       "\u001b[0m        \u001b[1;34m\"\"\"\n",
       "        Constructor method for 'DummyReadout' class\n",
       "        \n",
       "        Args:\n",
       "            name (str): name of the sequence\n",
       "            sample (Sample): Sample being used\n",
       "            sequence_config (dict): Dict configuring sequence\n",
       "        \"\"\"\u001b[0m\u001b[1;33m\n",
       "\u001b[0m        \u001b[0msuper\u001b[0m\u001b[1;33m(\u001b[0m\u001b[1;33m)\u001b[0m\u001b[1;33m.\u001b[0m\u001b[0m__init__\u001b[0m\u001b[1;33m(\u001b[0m\u001b[1;33m\n",
       "\u001b[0m            \u001b[0mname\u001b[0m\u001b[1;33m,\u001b[0m \u001b[0msample\u001b[0m\u001b[1;33m,\u001b[0m \u001b[0msequence_config\u001b[0m\u001b[1;33m,\u001b[0m\u001b[1;33m\n",
       "\u001b[0m            \u001b[1;33m{\u001b[0m\u001b[1;34m'difference'\u001b[0m\u001b[1;33m:\u001b[0m \u001b[0mDifference\u001b[0m\u001b[1;33m}\u001b[0m\u001b[1;33m,\u001b[0m\u001b[1;33m\n",
       "\u001b[0m            \u001b[1;33m{\u001b[0m\u001b[1;34m'average'\u001b[0m\u001b[1;33m:\u001b[0m \u001b[0mAverage\u001b[0m\u001b[1;33m}\u001b[0m\u001b[1;33m\n",
       "\u001b[0m            \u001b[1;33m)\u001b[0m\u001b[1;33m\n",
       "\u001b[0m\u001b[1;33m\n",
       "\u001b[0m    \u001b[1;32mdef\u001b[0m \u001b[0mqua_sequence\u001b[0m\u001b[1;33m(\u001b[0m\u001b[0mself\u001b[0m\u001b[1;33m)\u001b[0m\u001b[1;33m:\u001b[0m\u001b[1;33m\n",
       "\u001b[0m        \u001b[1;34m\"\"\"QUA sequence to perform mixed down up initialization\"\"\"\u001b[0m\u001b[1;33m\n",
       "\u001b[0m        \u001b[0mqua\u001b[0m\u001b[1;33m.\u001b[0m\u001b[0malign\u001b[0m\u001b[1;33m(\u001b[0m\u001b[1;33m)\u001b[0m\u001b[1;33m\n",
       "\u001b[0m\u001b[1;33m\n",
       "\u001b[0m        \u001b[0mref_points\u001b[0m \u001b[1;33m=\u001b[0m \u001b[1;33m[\u001b[0m\u001b[0mx\u001b[0m \u001b[1;32mfor\u001b[0m \u001b[0mx\u001b[0m \u001b[1;32min\u001b[0m \u001b[0mself\u001b[0m\u001b[1;33m.\u001b[0m\u001b[0mreadout_points\u001b[0m\u001b[1;33m.\u001b[0m\u001b[0mvalues\u001b[0m\u001b[1;33m(\u001b[0m\u001b[1;33m)\u001b[0m \u001b[1;32mif\u001b[0m \u001b[0mx\u001b[0m\u001b[1;33m.\u001b[0m\u001b[0mpoint_name\u001b[0m \u001b[1;33m==\u001b[0m \u001b[1;34m'reference'\u001b[0m\u001b[1;33m]\u001b[0m\u001b[1;33m\n",
       "\u001b[0m        \u001b[1;32mfor\u001b[0m \u001b[0mreadout_point\u001b[0m \u001b[1;32min\u001b[0m \u001b[0mref_points\u001b[0m\u001b[1;33m:\u001b[0m\u001b[1;33m\n",
       "\u001b[0m            \u001b[0mreadout_point\u001b[0m\u001b[1;33m.\u001b[0m\u001b[0mqua_measure_and_save\u001b[0m\u001b[1;33m(\u001b[0m\u001b[1;33m)\u001b[0m\u001b[1;33m\n",
       "\u001b[0m\u001b[1;33m\n",
       "\u001b[0m        \u001b[0mqua\u001b[0m\u001b[1;33m.\u001b[0m\u001b[0mwait\u001b[0m\u001b[1;33m(\u001b[0m\u001b[0mself\u001b[0m\u001b[1;33m.\u001b[0m\u001b[0mt_between_measurements\u001b[0m\u001b[1;33m(\u001b[0m\u001b[1;33m)\u001b[0m\u001b[1;33m)\u001b[0m\u001b[1;33m\n",
       "\u001b[0m        \u001b[0mread_points\u001b[0m \u001b[1;33m=\u001b[0m \u001b[1;33m[\u001b[0m\u001b[0mx\u001b[0m \u001b[1;32mfor\u001b[0m \u001b[0mx\u001b[0m \u001b[1;32min\u001b[0m \u001b[0mself\u001b[0m\u001b[1;33m.\u001b[0m\u001b[0mreadout_points\u001b[0m\u001b[1;33m.\u001b[0m\u001b[0mvalues\u001b[0m\u001b[1;33m(\u001b[0m\u001b[1;33m)\u001b[0m \u001b[1;32mif\u001b[0m \u001b[0mx\u001b[0m\u001b[1;33m.\u001b[0m\u001b[0mpoint_name\u001b[0m \u001b[1;33m==\u001b[0m \u001b[1;34m'read'\u001b[0m\u001b[1;33m]\u001b[0m\u001b[1;33m\n",
       "\u001b[0m        \u001b[1;32mfor\u001b[0m \u001b[0mreadout_point\u001b[0m \u001b[1;32min\u001b[0m \u001b[0mread_points\u001b[0m\u001b[1;33m:\u001b[0m\u001b[1;33m\n",
       "\u001b[0m            \u001b[0mreadout_point\u001b[0m\u001b[1;33m.\u001b[0m\u001b[0mqua_measure_and_save\u001b[0m\u001b[1;33m(\u001b[0m\u001b[1;33m)\u001b[0m\u001b[1;33m\n",
       "\u001b[0m\u001b[1;33m\n",
       "\u001b[0m        \u001b[1;32mfor\u001b[0m \u001b[0m_\u001b[0m \u001b[1;33m,\u001b[0m \u001b[0mreadout\u001b[0m \u001b[1;32min\u001b[0m \u001b[0mself\u001b[0m\u001b[1;33m.\u001b[0m\u001b[0mdifference\u001b[0m\u001b[1;33m.\u001b[0m\u001b[0mitems\u001b[0m\u001b[1;33m(\u001b[0m\u001b[1;33m)\u001b[0m\u001b[1;33m:\u001b[0m\u001b[1;33m\n",
       "\u001b[0m            \u001b[0mreadout\u001b[0m\u001b[1;33m.\u001b[0m\u001b[0mqua_measure_and_save\u001b[0m\u001b[1;33m(\u001b[0m\u001b[1;33m)\u001b[0m\u001b[1;33m\u001b[0m\u001b[1;33m\u001b[0m\u001b[0m\n",
       "\u001b[1;31mFile:\u001b[0m           c:\\users\\z5440260\\gitrepos\\arbok_driver\\docs\\example_sequences\\dummy_readout.py\n",
       "\u001b[1;31mType:\u001b[0m           InstrumentMeta\n",
       "\u001b[1;31mSubclasses:\u001b[0m     "
      ]
     },
     "metadata": {},
     "output_type": "display_data"
    }
   ],
   "source": [
    "DummyReadout??"
   ]
  },
  {
   "cell_type": "code",
   "execution_count": 4,
   "id": "9de6b87b-03a0-4710-bce8-e7e53261aeee",
   "metadata": {},
   "outputs": [],
   "source": [
    "dummy_readout = DummyReadout('dummy_readout', dummy_sample, readout_sequence_config)"
   ]
  },
  {
   "cell_type": "markdown",
   "id": "c238f851-c758-4029-89f6-d69e17c9ce87",
   "metadata": {},
   "source": [
    "With the discussed configuration, a sample object and the dummy readout class above, we instanciated a DummyReadout."
   ]
  },
  {
   "cell_type": "markdown",
   "id": "4c3cf0e8-8c51-48dd-b650-cf1879cb06ae",
   "metadata": {},
   "source": [
    "### 2.3 Attributes and helpers of `ReadSequence`"
   ]
  },
  {
   "cell_type": "markdown",
   "id": "8f248039-4ba8-4617-9088-29b3e69ec61e",
   "metadata": {},
   "source": [
    "In this section we will explore the attributes and helper of a `ReadSeqeunce` that a user can interact with after instanciation with a configuration file. The given examples uses the `DummyReadout` from above and the example configuration from the section before that. "
   ]
  },
  {
   "cell_type": "markdown",
   "id": "5b43c11e-cdcc-4ede-82b0-e933f5e5b1f2",
   "metadata": {},
   "source": [
    "For the sake of readability jupyter inline tools from rich are imported."
   ]
  },
  {
   "cell_type": "code",
   "execution_count": 5,
   "id": "5f6b1e0b-661a-4537-bc61-8ed9904f4161",
   "metadata": {},
   "outputs": [],
   "source": [
    "%load_ext rich"
   ]
  },
  {
   "cell_type": "markdown",
   "id": "9436321b-5f02-4d10-bf81-b9e062490c7d",
   "metadata": {},
   "source": [
    "As in tutorial 1, an `ArbokDriver` and an empty `Sequence` is created to which we add our dummy_readout."
   ]
  },
  {
   "cell_type": "code",
   "execution_count": 6,
   "id": "73a01938-f7a4-42dd-b049-b01dcda342ea",
   "metadata": {},
   "outputs": [],
   "source": [
    "from arbok_driver import ArbokDriver, Sample, Sequence"
   ]
  },
  {
   "cell_type": "code",
   "execution_count": 7,
   "id": "9d800a93-e089-4f60-a6de-230de09fa58d",
   "metadata": {},
   "outputs": [],
   "source": [
    "qm_driver = ArbokDriver('qm_driver', dummy_sample)\n",
    "dummy_sequence = Sequence('dummy_squence', dummy_sample)\n",
    "qm_driver.add_sequence(dummy_sequence)\n",
    "dummy_sequence.add_subsequence(dummy_readout)"
   ]
  },
  {
   "cell_type": "markdown",
   "id": "17fa78b9-5c54-48b8-8d3d-f94a894fd907",
   "metadata": {},
   "source": [
    "The easiest way to quickly inspect any qcodes instrument is to call its `print_readable_snapshot` method."
   ]
  },
  {
   "cell_type": "markdown",
   "id": "bdaa9595-fbb0-48c3-8e2d-545ae709c4f6",
   "metadata": {},
   "source": [
    "#### 2.3.1 Parameters"
   ]
  },
  {
   "cell_type": "markdown",
   "id": "2998e4e1-647e-43b8-86cc-f64242647cd6",
   "metadata": {},
   "source": [
    "First of all, a standard `SequenceParameter` can be found. This is the one we defined in the 'parameters' section of the configuration above as 't_between_measurements' and behaves exactly as a parameter in a simple `SubSequence`.\n",
    "\n",
    "Then many parameters with rather lengthy names can be found whose value is given as 'Not available'. Those are the 'GettableParameters' we will be able to measure once the program is run on the hardware. Their names are always unique since sequence and signal names have to be unique as well. Therefore those names are used as well to define streams within qua."
   ]
  },
  {
   "cell_type": "code",
   "execution_count": 8,
   "id": "4455b28b-f93a-4ab7-9a01-a0eacc446a41",
   "metadata": {
    "scrolled": true
   },
   "outputs": [
    {
     "name": "stdout",
     "output_type": "stream",
     "text": [
      "dummy_readout:\n",
      "\tparameter                                   value\n",
      "--------------------------------------------------------------------------------\n",
      "IDN                                          :\tNone \n",
      "dummy_readout__qubit1__diff                  :\tNot available \n",
      "dummy_readout__qubit1__read__sensor1_I       :\tNot available \n",
      "dummy_readout__qubit1__read__sensor1_IQ      :\tNot available \n",
      "dummy_readout__qubit1__read__sensor1_Q       :\tNot available \n",
      "dummy_readout__qubit1__reference__sensor1_I  :\tNot available \n",
      "dummy_readout__qubit1__reference__sensor1_IQ :\tNot available \n",
      "dummy_readout__qubit1__reference__sensor1_Q  :\tNot available \n",
      "t_between_measurements                       :\t50 (cycles)\n"
     ]
    }
   ],
   "source": [
    "dummy_readout.print_readable_snapshot()"
   ]
  },
  {
   "cell_type": "markdown",
   "id": "f76f4074-d790-4864-a589-d04d115703de",
   "metadata": {},
   "source": [
    "#### 2.3.2 Observables"
   ]
  },
  {
   "cell_type": "markdown",
   "id": "97568aa2-a646-4763-a0e7-9b1ead958846",
   "metadata": {},
   "source": [
    "From the parameter name you can easily find the respective observable. Double underscores in the name indicate that the following name is an attribute of the previous class. Lets give it a try:"
   ]
  },
  {
   "cell_type": "code",
   "execution_count": 9,
   "id": "fb01afcf-7a3d-496e-810c-c2a4ac749f62",
   "metadata": {},
   "outputs": [
    {
     "data": {
      "text/html": [
       "<pre style=\"white-space:pre;overflow-x:auto;line-height:normal;font-family:Menlo,'DejaVu Sans Mono',consolas,'Courier New',monospace\"></pre>\n"
      ],
      "text/plain": []
     },
     "metadata": {},
     "output_type": "display_data"
    },
    {
     "data": {
      "text/plain": [
       "\u001b[1m<\u001b[0m\u001b[1;95marbok_driver.observable.AbstractObservable\u001b[0m\u001b[39m object at \u001b[0m\u001b[1;36m0x0000016A48FDAE00\u001b[0m\u001b[1m>\u001b[0m"
      ]
     },
     "execution_count": 9,
     "metadata": {},
     "output_type": "execute_result"
    }
   ],
   "source": [
    "dummy_readout.qubit1.diff"
   ]
  },
  {
   "cell_type": "code",
   "execution_count": 10,
   "id": "8583b9a7-3a6d-4df3-8376-1afa47949f9e",
   "metadata": {},
   "outputs": [
    {
     "data": {
      "text/html": [
       "<pre style=\"white-space:pre;overflow-x:auto;line-height:normal;font-family:Menlo,'DejaVu Sans Mono',consolas,'Courier New',monospace\"></pre>\n"
      ],
      "text/plain": []
     },
     "metadata": {},
     "output_type": "display_data"
    },
    {
     "data": {
      "text/plain": [
       "\u001b[1m<\u001b[0m\u001b[1;95marbok_driver.observable.Observable\u001b[0m\u001b[39m object at \u001b[0m\u001b[1;36m0x0000016A48FDA170\u001b[0m\u001b[1m>\u001b[0m"
      ]
     },
     "execution_count": 10,
     "metadata": {},
     "output_type": "execute_result"
    }
   ],
   "source": [
    "dummy_readout.qubit1.reference.sensor1_IQ"
   ]
  },
  {
   "cell_type": "markdown",
   "id": "196bf228-70f8-424d-85f7-20bdfd08b536",
   "metadata": {},
   "source": [
    "Calling an observable returns you its `GettableParameter`:"
   ]
  },
  {
   "cell_type": "code",
   "execution_count": 11,
   "id": "2b876fe9-7ee9-464d-a6ca-6a6e7bf505d2",
   "metadata": {},
   "outputs": [
    {
     "data": {
      "text/html": [
       "<pre style=\"white-space:pre;overflow-x:auto;line-height:normal;font-family:Menlo,'DejaVu Sans Mono',consolas,'Courier New',monospace\"></pre>\n"
      ],
      "text/plain": []
     },
     "metadata": {},
     "output_type": "display_data"
    },
    {
     "data": {
      "text/plain": [
       "\u001b[1m<\u001b[0m\u001b[1;95marbok_driver.gettable_parameter.GettableParameter:\u001b[0m\u001b[39m dummy_readout__qubit1__diff at \u001b[0m\u001b[1;36m1556002745808\u001b[0m\u001b[1m>\u001b[0m"
      ]
     },
     "execution_count": 11,
     "metadata": {},
     "output_type": "execute_result"
    }
   ],
   "source": [
    "dummy_readout.qubit1.diff()"
   ]
  },
  {
   "cell_type": "markdown",
   "id": "452f6a0e-22f7-4a84-927b-e8091ad325a0",
   "metadata": {},
   "source": [
    "#### 2.3.3 Signals"
   ]
  },
  {
   "cell_type": "markdown",
   "id": "e3736363-0d9c-4e6b-8c85-f840548f17d2",
   "metadata": {},
   "source": [
    "All present signales can be accquired by calling the signals attribute of the `ReadSequence`."
   ]
  },
  {
   "cell_type": "code",
   "execution_count": 12,
   "id": "aa7acd8f-2def-401a-828c-236ffab3efae",
   "metadata": {},
   "outputs": [
    {
     "data": {
      "text/html": [
       "<pre style=\"white-space:pre;overflow-x:auto;line-height:normal;font-family:Menlo,'DejaVu Sans Mono',consolas,'Courier New',monospace\"></pre>\n"
      ],
      "text/plain": []
     },
     "metadata": {},
     "output_type": "display_data"
    },
    {
     "data": {
      "text/plain": [
       "\u001b[1m{\u001b[0m\u001b[32m'qubit1'\u001b[0m: \u001b[1m<\u001b[0m\u001b[1;95marbok_driver.signal.Signal\u001b[0m\u001b[39m object at \u001b[0m\u001b[1;36m0x0000016A48FD9C90\u001b[0m\u001b[1m>\u001b[0m\u001b[1m}\u001b[0m"
      ]
     },
     "execution_count": 12,
     "metadata": {},
     "output_type": "execute_result"
    }
   ],
   "source": [
    "dummy_readout.signals"
   ]
  },
  {
   "cell_type": "markdown",
   "id": "06d273fa-eff6-484d-9502-85f010392f58",
   "metadata": {},
   "source": [
    "#### 2.3.4 Readout points and abstract readouts"
   ]
  },
  {
   "cell_type": "markdown",
   "id": "76ffbdb4-e5fe-4100-8d01-2510521e89c5",
   "metadata": {},
   "source": [
    "All `ReadoutPoints` of a sequence can be found but also the ones that are linked to a specific `Signal`:"
   ]
  },
  {
   "cell_type": "code",
   "execution_count": 13,
   "id": "88385a3a-e561-46d4-b6ea-5967821fd7f4",
   "metadata": {},
   "outputs": [
    {
     "data": {
      "text/html": [
       "<pre style=\"white-space:pre;overflow-x:auto;line-height:normal;font-family:Menlo,'DejaVu Sans Mono',consolas,'Courier New',monospace\"></pre>\n"
      ],
      "text/plain": []
     },
     "metadata": {},
     "output_type": "display_data"
    },
    {
     "data": {
      "text/plain": [
       "\n",
       "\u001b[1m{\u001b[0m\n",
       "    \u001b[32m'qubit1__reference'\u001b[0m: \u001b[1m<\u001b[0m\u001b[1;95mexample_sequences.average_readout.Average\u001b[0m\u001b[39m object at \u001b[0m\u001b[1;36m0x0000016A48FDAF80\u001b[0m\u001b[39m>,\u001b[0m\n",
       "\u001b[39m    \u001b[0m\u001b[32m'qubit1__read'\u001b[0m\u001b[39m: <example_sequences.average_readout.Average object at \u001b[0m\u001b[1;36m0x0000016A48FD9510\u001b[0m\u001b[1m>\u001b[0m\n",
       "\u001b[1m}\u001b[0m"
      ]
     },
     "execution_count": 13,
     "metadata": {},
     "output_type": "execute_result"
    }
   ],
   "source": [
    "dummy_readout.readout_points"
   ]
  },
  {
   "cell_type": "code",
   "execution_count": 14,
   "id": "ec81960a-24f3-47b7-9bc3-e2957532343d",
   "metadata": {},
   "outputs": [
    {
     "data": {
      "text/html": [
       "<pre style=\"white-space:pre;overflow-x:auto;line-height:normal;font-family:Menlo,'DejaVu Sans Mono',consolas,'Courier New',monospace\"></pre>\n"
      ],
      "text/plain": []
     },
     "metadata": {},
     "output_type": "display_data"
    },
    {
     "data": {
      "text/plain": [
       "\n",
       "\u001b[1m{\u001b[0m\n",
       "    \u001b[32m'qubit1__reference'\u001b[0m: \u001b[1m<\u001b[0m\u001b[1;95mexample_sequences.average_readout.Average\u001b[0m\u001b[39m object at \u001b[0m\u001b[1;36m0x0000016A48FDAF80\u001b[0m\u001b[39m>,\u001b[0m\n",
       "\u001b[39m    \u001b[0m\u001b[32m'qubit1__read'\u001b[0m\u001b[39m: <example_sequences.average_readout.Average object at \u001b[0m\u001b[1;36m0x0000016A48FD9510\u001b[0m\u001b[1m>\u001b[0m\n",
       "\u001b[1m}\u001b[0m"
      ]
     },
     "execution_count": 14,
     "metadata": {},
     "output_type": "execute_result"
    }
   ],
   "source": [
    "dummy_readout.qubit1.readout_points"
   ]
  },
  {
   "cell_type": "markdown",
   "id": "f01378c7-9858-41a4-af00-f1c06fee1a54",
   "metadata": {},
   "source": [
    "The same is true for `AbstractReadout`. However those are not necessarily signal specific thus they are not bound to a `Signal`."
   ]
  },
  {
   "cell_type": "code",
   "execution_count": 15,
   "id": "94577396-9191-42d0-9d36-e4a5edbeb3f2",
   "metadata": {},
   "outputs": [
    {
     "data": {
      "text/html": [
       "<pre style=\"white-space:pre;overflow-x:auto;line-height:normal;font-family:Menlo,'DejaVu Sans Mono',consolas,'Courier New',monospace\"></pre>\n"
      ],
      "text/plain": []
     },
     "metadata": {},
     "output_type": "display_data"
    },
    {
     "data": {
      "text/plain": [
       "\u001b[1m{\u001b[0m\u001b[32m'qubit1__diff'\u001b[0m: \u001b[1m<\u001b[0m\u001b[1;95mexample_sequences.difference.Difference\u001b[0m\u001b[39m object at \u001b[0m\u001b[1;36m0x0000016A48FDAA70\u001b[0m\u001b[1m>\u001b[0m\u001b[1m}\u001b[0m"
      ]
     },
     "execution_count": 15,
     "metadata": {},
     "output_type": "execute_result"
    }
   ],
   "source": [
    "dummy_readout.abstract_readouts"
   ]
  },
  {
   "cell_type": "markdown",
   "id": "0ded3c6e-f4f1-40c2-8904-17e1a3a49cc7",
   "metadata": {},
   "source": [
    "`ReadoutPoint`s and `AbstractReadout`s can instroduce multiple `Observables`s (single results). The 'average' method being used in the given example introduces 3 observables:"
   ]
  },
  {
   "cell_type": "code",
   "execution_count": 16,
   "id": "da05faef-1db5-4351-9028-8eb9d4f50050",
   "metadata": {},
   "outputs": [
    {
     "data": {
      "text/html": [
       "<pre style=\"white-space:pre;overflow-x:auto;line-height:normal;font-family:Menlo,'DejaVu Sans Mono',consolas,'Courier New',monospace\"></pre>\n"
      ],
      "text/plain": []
     },
     "metadata": {},
     "output_type": "display_data"
    },
    {
     "data": {
      "text/plain": [
       "\n",
       "\u001b[1m{\u001b[0m\n",
       "    \u001b[32m'dummy_readout__qubit1__reference__sensor1_I'\u001b[0m: \u001b[1m<\u001b[0m\u001b[1;95marbok_driver.observable.Observable\u001b[0m\u001b[39m object at \u001b[0m\u001b[1;36m0x0000016A48FD9600\u001b[0m\u001b[39m>,\u001b[0m\n",
       "\u001b[39m    \u001b[0m\u001b[32m'dummy_readout__qubit1__reference__sensor1_Q'\u001b[0m\u001b[39m: <arbok_driver.observable.Observable object at \u001b[0m\u001b[1;36m0x0000016A48FDA110\u001b[0m\u001b[39m>,\u001b[0m\n",
       "\u001b[39m    \u001b[0m\u001b[32m'dummy_readout__qubit1__reference__sensor1_IQ'\u001b[0m\u001b[39m: <arbok_driver.observable.Observable object at \u001b[0m\u001b[1;36m0x0000016A48FDA170\u001b[0m\u001b[1m>\u001b[0m\n",
       "\u001b[1m}\u001b[0m"
      ]
     },
     "execution_count": 16,
     "metadata": {},
     "output_type": "execute_result"
    }
   ],
   "source": [
    "dummy_readout.qubit1.reference.observables"
   ]
  },
  {
   "cell_type": "markdown",
   "id": "ea893de7-48b3-4a54-97d6-7536a698a86f",
   "metadata": {},
   "source": [
    "## 3. Compiling a `ReadSequence` to QUA code"
   ]
  },
  {
   "cell_type": "markdown",
   "id": "e6d3d1ed-6ef8-405f-878f-0672d3a1fb4e",
   "metadata": {},
   "source": [
    "After instanciating the `ReadSequence` it can be compiled to QUA code as shown below:"
   ]
  },
  {
   "cell_type": "code",
   "execution_count": 17,
   "id": "875c61a5-8af8-49c3-b951-f70db8a73b4a",
   "metadata": {},
   "outputs": [
    {
     "data": {
      "text/plain": [
       "\u001b[1;31mType:\u001b[0m        module\n",
       "\u001b[1;31mString form:\u001b[0m <module 'qua_programs.tut2_readout' from 'C:\\\\Users\\\\z5440260\\\\GitRepos\\\\arbok_driver\\\\docs\\\\qua_programs\\\\tut2_readout.py'>\n",
       "\u001b[1;31mFile:\u001b[0m        c:\\users\\z5440260\\gitrepos\\arbok_driver\\docs\\qua_programs\\tut2_readout.py\n",
       "\u001b[1;31mSource:\u001b[0m     \n",
       "\u001b[1;33m\n",
       "\u001b[0m\u001b[1;31m# Single QUA script generated at 2024-04-12 13:25:52.707227\u001b[0m\u001b[1;33m\n",
       "\u001b[0m\u001b[1;31m# QUA library version: 1.1.7\u001b[0m\u001b[1;33m\n",
       "\u001b[0m\u001b[1;33m\n",
       "\u001b[0m\u001b[1;32mfrom\u001b[0m \u001b[0mqm\u001b[0m\u001b[1;33m.\u001b[0m\u001b[0mqua\u001b[0m \u001b[1;32mimport\u001b[0m \u001b[1;33m*\u001b[0m\u001b[1;33m\n",
       "\u001b[0m\u001b[1;33m\n",
       "\u001b[0m\u001b[1;32mwith\u001b[0m \u001b[0mprogram\u001b[0m\u001b[1;33m(\u001b[0m\u001b[1;33m)\u001b[0m \u001b[1;32mas\u001b[0m \u001b[0mprog\u001b[0m\u001b[1;33m:\u001b[0m\u001b[1;33m\n",
       "\u001b[0m    \u001b[0mv1\u001b[0m \u001b[1;33m=\u001b[0m \u001b[0mdeclare\u001b[0m\u001b[1;33m(\u001b[0m\u001b[0mfixed\u001b[0m\u001b[1;33m,\u001b[0m \u001b[1;33m)\u001b[0m\u001b[1;33m\n",
       "\u001b[0m    \u001b[0mv2\u001b[0m \u001b[1;33m=\u001b[0m \u001b[0mdeclare\u001b[0m\u001b[1;33m(\u001b[0m\u001b[0mfixed\u001b[0m\u001b[1;33m,\u001b[0m \u001b[1;33m)\u001b[0m\u001b[1;33m\n",
       "\u001b[0m    \u001b[0mv3\u001b[0m \u001b[1;33m=\u001b[0m \u001b[0mdeclare\u001b[0m\u001b[1;33m(\u001b[0m\u001b[0mfixed\u001b[0m\u001b[1;33m,\u001b[0m \u001b[1;33m)\u001b[0m\u001b[1;33m\n",
       "\u001b[0m    \u001b[0mv4\u001b[0m \u001b[1;33m=\u001b[0m \u001b[0mdeclare\u001b[0m\u001b[1;33m(\u001b[0m\u001b[0mfixed\u001b[0m\u001b[1;33m,\u001b[0m \u001b[1;33m)\u001b[0m\u001b[1;33m\n",
       "\u001b[0m    \u001b[0mv5\u001b[0m \u001b[1;33m=\u001b[0m \u001b[0mdeclare\u001b[0m\u001b[1;33m(\u001b[0m\u001b[0mfixed\u001b[0m\u001b[1;33m,\u001b[0m \u001b[1;33m)\u001b[0m\u001b[1;33m\n",
       "\u001b[0m    \u001b[0mv6\u001b[0m \u001b[1;33m=\u001b[0m \u001b[0mdeclare\u001b[0m\u001b[1;33m(\u001b[0m\u001b[0mfixed\u001b[0m\u001b[1;33m,\u001b[0m \u001b[1;33m)\u001b[0m\u001b[1;33m\n",
       "\u001b[0m    \u001b[0mv7\u001b[0m \u001b[1;33m=\u001b[0m \u001b[0mdeclare\u001b[0m\u001b[1;33m(\u001b[0m\u001b[0mfixed\u001b[0m\u001b[1;33m,\u001b[0m \u001b[1;33m)\u001b[0m\u001b[1;33m\n",
       "\u001b[0m    \u001b[1;32mwith\u001b[0m \u001b[0minfinite_loop_\u001b[0m\u001b[1;33m(\u001b[0m\u001b[1;33m)\u001b[0m\u001b[1;33m:\u001b[0m\u001b[1;33m\n",
       "\u001b[0m        \u001b[0mpause\u001b[0m\u001b[1;33m(\u001b[0m\u001b[1;33m)\u001b[0m\u001b[1;33m\n",
       "\u001b[0m        \u001b[0malign\u001b[0m\u001b[1;33m(\u001b[0m\u001b[1;33m)\u001b[0m\u001b[1;33m\n",
       "\u001b[0m        \u001b[0mmeasure\u001b[0m\u001b[1;33m(\u001b[0m\u001b[1;34m\"measure\"\u001b[0m\u001b[1;33m,\u001b[0m \u001b[1;34m\"readout_element\"\u001b[0m\u001b[1;33m,\u001b[0m \u001b[1;32mNone\u001b[0m\u001b[1;33m,\u001b[0m \u001b[0mintegration\u001b[0m\u001b[1;33m.\u001b[0m\u001b[0mfull\u001b[0m\u001b[1;33m(\u001b[0m\u001b[1;34m\"x\"\u001b[0m\u001b[1;33m,\u001b[0m \u001b[0mv1\u001b[0m\u001b[1;33m,\u001b[0m \u001b[1;34m\"\"\u001b[0m\u001b[1;33m)\u001b[0m\u001b[1;33m,\u001b[0m \u001b[0mintegration\u001b[0m\u001b[1;33m.\u001b[0m\u001b[0mfull\u001b[0m\u001b[1;33m(\u001b[0m\u001b[1;34m\"y\"\u001b[0m\u001b[1;33m,\u001b[0m \u001b[0mv2\u001b[0m\u001b[1;33m,\u001b[0m \u001b[1;34m\"\"\u001b[0m\u001b[1;33m)\u001b[0m\u001b[1;33m)\u001b[0m\u001b[1;33m\n",
       "\u001b[0m        \u001b[0massign\u001b[0m\u001b[1;33m(\u001b[0m\u001b[0mv3\u001b[0m\u001b[1;33m,\u001b[0m \u001b[1;33m(\u001b[0m\u001b[0mv1\u001b[0m\u001b[1;33m+\u001b[0m\u001b[0mv2\u001b[0m\u001b[1;33m)\u001b[0m\u001b[1;33m)\u001b[0m\u001b[1;33m\n",
       "\u001b[0m        \u001b[0mr1\u001b[0m \u001b[1;33m=\u001b[0m \u001b[0mdeclare_stream\u001b[0m\u001b[1;33m(\u001b[0m\u001b[1;33m)\u001b[0m\u001b[1;33m\n",
       "\u001b[0m        \u001b[0msave\u001b[0m\u001b[1;33m(\u001b[0m\u001b[0mv1\u001b[0m\u001b[1;33m,\u001b[0m \u001b[0mr1\u001b[0m\u001b[1;33m)\u001b[0m\u001b[1;33m\n",
       "\u001b[0m        \u001b[0mr2\u001b[0m \u001b[1;33m=\u001b[0m \u001b[0mdeclare_stream\u001b[0m\u001b[1;33m(\u001b[0m\u001b[1;33m)\u001b[0m\u001b[1;33m\n",
       "\u001b[0m        \u001b[0msave\u001b[0m\u001b[1;33m(\u001b[0m\u001b[0mv2\u001b[0m\u001b[1;33m,\u001b[0m \u001b[0mr2\u001b[0m\u001b[1;33m)\u001b[0m\u001b[1;33m\n",
       "\u001b[0m        \u001b[0mr3\u001b[0m \u001b[1;33m=\u001b[0m \u001b[0mdeclare_stream\u001b[0m\u001b[1;33m(\u001b[0m\u001b[1;33m)\u001b[0m\u001b[1;33m\n",
       "\u001b[0m        \u001b[0msave\u001b[0m\u001b[1;33m(\u001b[0m\u001b[0mv3\u001b[0m\u001b[1;33m,\u001b[0m \u001b[0mr3\u001b[0m\u001b[1;33m)\u001b[0m\u001b[1;33m\n",
       "\u001b[0m        \u001b[0mwait\u001b[0m\u001b[1;33m(\u001b[0m\u001b[1;36m50\u001b[0m\u001b[1;33m,\u001b[0m \u001b[1;33m)\u001b[0m\u001b[1;33m\n",
       "\u001b[0m        \u001b[0mmeasure\u001b[0m\u001b[1;33m(\u001b[0m\u001b[1;34m\"measure\"\u001b[0m\u001b[1;33m,\u001b[0m \u001b[1;34m\"readout_element\"\u001b[0m\u001b[1;33m,\u001b[0m \u001b[1;32mNone\u001b[0m\u001b[1;33m,\u001b[0m \u001b[0mintegration\u001b[0m\u001b[1;33m.\u001b[0m\u001b[0mfull\u001b[0m\u001b[1;33m(\u001b[0m\u001b[1;34m\"x\"\u001b[0m\u001b[1;33m,\u001b[0m \u001b[0mv4\u001b[0m\u001b[1;33m,\u001b[0m \u001b[1;34m\"\"\u001b[0m\u001b[1;33m)\u001b[0m\u001b[1;33m,\u001b[0m \u001b[0mintegration\u001b[0m\u001b[1;33m.\u001b[0m\u001b[0mfull\u001b[0m\u001b[1;33m(\u001b[0m\u001b[1;34m\"y\"\u001b[0m\u001b[1;33m,\u001b[0m \u001b[0mv5\u001b[0m\u001b[1;33m,\u001b[0m \u001b[1;34m\"\"\u001b[0m\u001b[1;33m)\u001b[0m\u001b[1;33m)\u001b[0m\u001b[1;33m\n",
       "\u001b[0m        \u001b[0massign\u001b[0m\u001b[1;33m(\u001b[0m\u001b[0mv6\u001b[0m\u001b[1;33m,\u001b[0m \u001b[1;33m(\u001b[0m\u001b[0mv4\u001b[0m\u001b[1;33m+\u001b[0m\u001b[0mv5\u001b[0m\u001b[1;33m)\u001b[0m\u001b[1;33m)\u001b[0m\u001b[1;33m\n",
       "\u001b[0m        \u001b[0mr4\u001b[0m \u001b[1;33m=\u001b[0m \u001b[0mdeclare_stream\u001b[0m\u001b[1;33m(\u001b[0m\u001b[1;33m)\u001b[0m\u001b[1;33m\n",
       "\u001b[0m        \u001b[0msave\u001b[0m\u001b[1;33m(\u001b[0m\u001b[0mv4\u001b[0m\u001b[1;33m,\u001b[0m \u001b[0mr4\u001b[0m\u001b[1;33m)\u001b[0m\u001b[1;33m\n",
       "\u001b[0m        \u001b[0mr5\u001b[0m \u001b[1;33m=\u001b[0m \u001b[0mdeclare_stream\u001b[0m\u001b[1;33m(\u001b[0m\u001b[1;33m)\u001b[0m\u001b[1;33m\n",
       "\u001b[0m        \u001b[0msave\u001b[0m\u001b[1;33m(\u001b[0m\u001b[0mv5\u001b[0m\u001b[1;33m,\u001b[0m \u001b[0mr5\u001b[0m\u001b[1;33m)\u001b[0m\u001b[1;33m\n",
       "\u001b[0m        \u001b[0mr6\u001b[0m \u001b[1;33m=\u001b[0m \u001b[0mdeclare_stream\u001b[0m\u001b[1;33m(\u001b[0m\u001b[1;33m)\u001b[0m\u001b[1;33m\n",
       "\u001b[0m        \u001b[0msave\u001b[0m\u001b[1;33m(\u001b[0m\u001b[0mv6\u001b[0m\u001b[1;33m,\u001b[0m \u001b[0mr6\u001b[0m\u001b[1;33m)\u001b[0m\u001b[1;33m\n",
       "\u001b[0m        \u001b[0massign\u001b[0m\u001b[1;33m(\u001b[0m\u001b[0mv7\u001b[0m\u001b[1;33m,\u001b[0m \u001b[1;33m(\u001b[0m\u001b[0mv3\u001b[0m\u001b[1;33m-\u001b[0m\u001b[0mv6\u001b[0m\u001b[1;33m)\u001b[0m\u001b[1;33m)\u001b[0m\u001b[1;33m\n",
       "\u001b[0m        \u001b[0mr7\u001b[0m \u001b[1;33m=\u001b[0m \u001b[0mdeclare_stream\u001b[0m\u001b[1;33m(\u001b[0m\u001b[1;33m)\u001b[0m\u001b[1;33m\n",
       "\u001b[0m        \u001b[0msave\u001b[0m\u001b[1;33m(\u001b[0m\u001b[0mv7\u001b[0m\u001b[1;33m,\u001b[0m \u001b[0mr7\u001b[0m\u001b[1;33m)\u001b[0m\u001b[1;33m\n",
       "\u001b[0m    \u001b[1;32mwith\u001b[0m \u001b[0mstream_processing\u001b[0m\u001b[1;33m(\u001b[0m\u001b[1;33m)\u001b[0m\u001b[1;33m:\u001b[0m\u001b[1;33m\n",
       "\u001b[0m        \u001b[0mr1\u001b[0m\u001b[1;33m.\u001b[0m\u001b[0mbuffer\u001b[0m\u001b[1;33m(\u001b[0m\u001b[1;36m1\u001b[0m\u001b[1;33m)\u001b[0m\u001b[1;33m.\u001b[0m\u001b[0msave\u001b[0m\u001b[1;33m(\u001b[0m\u001b[1;34m\"dummy_readout__qubit1__reference__sensor1_I_buffer\"\u001b[0m\u001b[1;33m)\u001b[0m\u001b[1;33m\n",
       "\u001b[0m        \u001b[0mr1\u001b[0m\u001b[1;33m.\u001b[0m\u001b[0msave_all\u001b[0m\u001b[1;33m(\u001b[0m\u001b[1;34m\"dummy_readout__qubit1__reference__sensor1_I\"\u001b[0m\u001b[1;33m)\u001b[0m\u001b[1;33m\n",
       "\u001b[0m        \u001b[0mr2\u001b[0m\u001b[1;33m.\u001b[0m\u001b[0mbuffer\u001b[0m\u001b[1;33m(\u001b[0m\u001b[1;36m1\u001b[0m\u001b[1;33m)\u001b[0m\u001b[1;33m.\u001b[0m\u001b[0msave\u001b[0m\u001b[1;33m(\u001b[0m\u001b[1;34m\"dummy_readout__qubit1__reference__sensor1_Q_buffer\"\u001b[0m\u001b[1;33m)\u001b[0m\u001b[1;33m\n",
       "\u001b[0m        \u001b[0mr2\u001b[0m\u001b[1;33m.\u001b[0m\u001b[0msave_all\u001b[0m\u001b[1;33m(\u001b[0m\u001b[1;34m\"dummy_readout__qubit1__reference__sensor1_Q\"\u001b[0m\u001b[1;33m)\u001b[0m\u001b[1;33m\n",
       "\u001b[0m        \u001b[0mr3\u001b[0m\u001b[1;33m.\u001b[0m\u001b[0mbuffer\u001b[0m\u001b[1;33m(\u001b[0m\u001b[1;36m1\u001b[0m\u001b[1;33m)\u001b[0m\u001b[1;33m.\u001b[0m\u001b[0msave\u001b[0m\u001b[1;33m(\u001b[0m\u001b[1;34m\"dummy_readout__qubit1__reference__sensor1_IQ_buffer\"\u001b[0m\u001b[1;33m)\u001b[0m\u001b[1;33m\n",
       "\u001b[0m        \u001b[0mr3\u001b[0m\u001b[1;33m.\u001b[0m\u001b[0msave_all\u001b[0m\u001b[1;33m(\u001b[0m\u001b[1;34m\"dummy_readout__qubit1__reference__sensor1_IQ\"\u001b[0m\u001b[1;33m)\u001b[0m\u001b[1;33m\n",
       "\u001b[0m        \u001b[0mr4\u001b[0m\u001b[1;33m.\u001b[0m\u001b[0mbuffer\u001b[0m\u001b[1;33m(\u001b[0m\u001b[1;36m1\u001b[0m\u001b[1;33m)\u001b[0m\u001b[1;33m.\u001b[0m\u001b[0msave\u001b[0m\u001b[1;33m(\u001b[0m\u001b[1;34m\"dummy_readout__qubit1__read__sensor1_I_buffer\"\u001b[0m\u001b[1;33m)\u001b[0m\u001b[1;33m\n",
       "\u001b[0m        \u001b[0mr4\u001b[0m\u001b[1;33m.\u001b[0m\u001b[0msave_all\u001b[0m\u001b[1;33m(\u001b[0m\u001b[1;34m\"dummy_readout__qubit1__read__sensor1_I\"\u001b[0m\u001b[1;33m)\u001b[0m\u001b[1;33m\n",
       "\u001b[0m        \u001b[0mr5\u001b[0m\u001b[1;33m.\u001b[0m\u001b[0mbuffer\u001b[0m\u001b[1;33m(\u001b[0m\u001b[1;36m1\u001b[0m\u001b[1;33m)\u001b[0m\u001b[1;33m.\u001b[0m\u001b[0msave\u001b[0m\u001b[1;33m(\u001b[0m\u001b[1;34m\"dummy_readout__qubit1__read__sensor1_Q_buffer\"\u001b[0m\u001b[1;33m)\u001b[0m\u001b[1;33m\n",
       "\u001b[0m        \u001b[0mr5\u001b[0m\u001b[1;33m.\u001b[0m\u001b[0msave_all\u001b[0m\u001b[1;33m(\u001b[0m\u001b[1;34m\"dummy_readout__qubit1__read__sensor1_Q\"\u001b[0m\u001b[1;33m)\u001b[0m\u001b[1;33m\n",
       "\u001b[0m        \u001b[0mr6\u001b[0m\u001b[1;33m.\u001b[0m\u001b[0mbuffer\u001b[0m\u001b[1;33m(\u001b[0m\u001b[1;36m1\u001b[0m\u001b[1;33m)\u001b[0m\u001b[1;33m.\u001b[0m\u001b[0msave\u001b[0m\u001b[1;33m(\u001b[0m\u001b[1;34m\"dummy_readout__qubit1__read__sensor1_IQ_buffer\"\u001b[0m\u001b[1;33m)\u001b[0m\u001b[1;33m\n",
       "\u001b[0m        \u001b[0mr6\u001b[0m\u001b[1;33m.\u001b[0m\u001b[0msave_all\u001b[0m\u001b[1;33m(\u001b[0m\u001b[1;34m\"dummy_readout__qubit1__read__sensor1_IQ\"\u001b[0m\u001b[1;33m)\u001b[0m\u001b[1;33m\n",
       "\u001b[0m        \u001b[0mr7\u001b[0m\u001b[1;33m.\u001b[0m\u001b[0mbuffer\u001b[0m\u001b[1;33m(\u001b[0m\u001b[1;36m1\u001b[0m\u001b[1;33m)\u001b[0m\u001b[1;33m.\u001b[0m\u001b[0msave\u001b[0m\u001b[1;33m(\u001b[0m\u001b[1;34m\"dummy_readout__qubit1__diff_buffer\"\u001b[0m\u001b[1;33m)\u001b[0m\u001b[1;33m\n",
       "\u001b[0m        \u001b[0mr7\u001b[0m\u001b[1;33m.\u001b[0m\u001b[0msave_all\u001b[0m\u001b[1;33m(\u001b[0m\u001b[1;34m\"dummy_readout__qubit1__diff\"\u001b[0m\u001b[1;33m)\u001b[0m\u001b[1;33m\n",
       "\u001b[0m\u001b[1;33m\n",
       "\u001b[0m\u001b[1;33m\n",
       "\u001b[0m\u001b[0mconfig\u001b[0m \u001b[1;33m=\u001b[0m \u001b[1;32mNone\u001b[0m\u001b[1;33m\n",
       "\u001b[0m\u001b[1;33m\n",
       "\u001b[0m\u001b[0mloaded_config\u001b[0m \u001b[1;33m=\u001b[0m \u001b[1;32mNone\u001b[0m\u001b[1;33m\u001b[0m\u001b[1;33m\u001b[0m\u001b[0m"
      ]
     },
     "metadata": {},
     "output_type": "display_data"
    }
   ],
   "source": [
    "qua_program = qm_driver.get_qua_program()\n",
    "\n",
    "qm_driver.print_qua_program_to_file(\n",
    "    'qua_programs/tut2_readout.py', qua_program)\n",
    "from qua_programs import tut2_readout\n",
    "tut2_readout??"
   ]
  },
  {
   "cell_type": "markdown",
   "id": "b799f918-7179-4c62-abac-4df460de47a1",
   "metadata": {},
   "source": [
    "As seen in the output, arbok takes care of all repetitive parts of the QUA program like declaring variables or streams. It only allocated memory for variables that are actually used within the measurement.\n",
    "\n",
    "The user can therefore focus on writing the pulse sequences instead of managing FPGA resources."
   ]
  },
  {
   "cell_type": "markdown",
   "id": "7e505cfc-21d7-47d4-beb3-a115a011a126",
   "metadata": {},
   "source": [
    "## 4. Parameter sweeps and measurements "
   ]
  },
  {
   "cell_type": "markdown",
   "id": "b2497f83-5de8-4139-b1bb-0085ba90034a",
   "metadata": {},
   "source": [
    "Now we know how to set up sequences with measurements. Let us combine this with adding parameter sweeps as shown in tutorial 1. Just call the sequence and `set_sweeps` by given one dict per sweep axis with the parameter to sweep as key and the sweep array as value."
   ]
  },
  {
   "cell_type": "code",
   "execution_count": 18,
   "id": "e010980c-eeed-4158-ab70-1c1e2f6a6e82",
   "metadata": {},
   "outputs": [],
   "source": [
    "import numpy as np"
   ]
  },
  {
   "cell_type": "code",
   "execution_count": 19,
   "id": "e1e7889e-0614-4b35-94a4-2f6b2136b482",
   "metadata": {},
   "outputs": [],
   "source": [
    "dummy_sequence.set_sweeps(\n",
    "    {\n",
    "        dummy_readout.t_between_measurements: np.arange(10,100,10, dtype = int)\n",
    "    },\n",
    ")"
   ]
  },
  {
   "cell_type": "code",
   "execution_count": 20,
   "id": "5cb8f0bb-1415-4a74-b715-f1c645c877a9",
   "metadata": {},
   "outputs": [
    {
     "name": "stderr",
     "output_type": "stream",
     "text": [
      "C:\\Users\\z5440260\\GitRepos\\arbok_driver\\arbok_driver\\sweep.py:218: UserWarning: Your input array None for t_between_measurements will be parametrized, check output\n",
      "  warnings.warn(\n"
     ]
    },
    {
     "data": {
      "text/plain": [
       "\u001b[1;31mType:\u001b[0m        module\n",
       "\u001b[1;31mString form:\u001b[0m <module 'qua_programs.tut2_readout_with_sweep' from 'C:\\\\Users\\\\z5440260\\\\GitRepos\\\\arbok_driver\\\\docs\\\\qua_programs\\\\tut2_readout_with_sweep.py'>\n",
       "\u001b[1;31mFile:\u001b[0m        c:\\users\\z5440260\\gitrepos\\arbok_driver\\docs\\qua_programs\\tut2_readout_with_sweep.py\n",
       "\u001b[1;31mSource:\u001b[0m     \n",
       "\u001b[1;33m\n",
       "\u001b[0m\u001b[1;31m# Single QUA script generated at 2024-04-12 13:25:52.902401\u001b[0m\u001b[1;33m\n",
       "\u001b[0m\u001b[1;31m# QUA library version: 1.1.7\u001b[0m\u001b[1;33m\n",
       "\u001b[0m\u001b[1;33m\n",
       "\u001b[0m\u001b[1;32mfrom\u001b[0m \u001b[0mqm\u001b[0m\u001b[1;33m.\u001b[0m\u001b[0mqua\u001b[0m \u001b[1;32mimport\u001b[0m \u001b[1;33m*\u001b[0m\u001b[1;33m\n",
       "\u001b[0m\u001b[1;33m\n",
       "\u001b[0m\u001b[1;32mwith\u001b[0m \u001b[0mprogram\u001b[0m\u001b[1;33m(\u001b[0m\u001b[1;33m)\u001b[0m \u001b[1;32mas\u001b[0m \u001b[0mprog\u001b[0m\u001b[1;33m:\u001b[0m\u001b[1;33m\n",
       "\u001b[0m    \u001b[0mv1\u001b[0m \u001b[1;33m=\u001b[0m \u001b[0mdeclare\u001b[0m\u001b[1;33m(\u001b[0m\u001b[0mint\u001b[0m\u001b[1;33m,\u001b[0m \u001b[1;33m)\u001b[0m\u001b[1;33m\n",
       "\u001b[0m    \u001b[0mv2\u001b[0m \u001b[1;33m=\u001b[0m \u001b[0mdeclare\u001b[0m\u001b[1;33m(\u001b[0m\u001b[0mfixed\u001b[0m\u001b[1;33m,\u001b[0m \u001b[1;33m)\u001b[0m\u001b[1;33m\n",
       "\u001b[0m    \u001b[0mv3\u001b[0m \u001b[1;33m=\u001b[0m \u001b[0mdeclare\u001b[0m\u001b[1;33m(\u001b[0m\u001b[0mfixed\u001b[0m\u001b[1;33m,\u001b[0m \u001b[1;33m)\u001b[0m\u001b[1;33m\n",
       "\u001b[0m    \u001b[0mv4\u001b[0m \u001b[1;33m=\u001b[0m \u001b[0mdeclare\u001b[0m\u001b[1;33m(\u001b[0m\u001b[0mfixed\u001b[0m\u001b[1;33m,\u001b[0m \u001b[1;33m)\u001b[0m\u001b[1;33m\n",
       "\u001b[0m    \u001b[0mv5\u001b[0m \u001b[1;33m=\u001b[0m \u001b[0mdeclare\u001b[0m\u001b[1;33m(\u001b[0m\u001b[0mfixed\u001b[0m\u001b[1;33m,\u001b[0m \u001b[1;33m)\u001b[0m\u001b[1;33m\n",
       "\u001b[0m    \u001b[0mv6\u001b[0m \u001b[1;33m=\u001b[0m \u001b[0mdeclare\u001b[0m\u001b[1;33m(\u001b[0m\u001b[0mfixed\u001b[0m\u001b[1;33m,\u001b[0m \u001b[1;33m)\u001b[0m\u001b[1;33m\n",
       "\u001b[0m    \u001b[0mv7\u001b[0m \u001b[1;33m=\u001b[0m \u001b[0mdeclare\u001b[0m\u001b[1;33m(\u001b[0m\u001b[0mfixed\u001b[0m\u001b[1;33m,\u001b[0m \u001b[1;33m)\u001b[0m\u001b[1;33m\n",
       "\u001b[0m    \u001b[0mv8\u001b[0m \u001b[1;33m=\u001b[0m \u001b[0mdeclare\u001b[0m\u001b[1;33m(\u001b[0m\u001b[0mfixed\u001b[0m\u001b[1;33m,\u001b[0m \u001b[1;33m)\u001b[0m\u001b[1;33m\n",
       "\u001b[0m    \u001b[0mv9\u001b[0m \u001b[1;33m=\u001b[0m \u001b[0mdeclare\u001b[0m\u001b[1;33m(\u001b[0m\u001b[0mint\u001b[0m\u001b[1;33m,\u001b[0m \u001b[1;33m)\u001b[0m\u001b[1;33m\n",
       "\u001b[0m    \u001b[1;32mwith\u001b[0m \u001b[0minfinite_loop_\u001b[0m\u001b[1;33m(\u001b[0m\u001b[1;33m)\u001b[0m\u001b[1;33m:\u001b[0m\u001b[1;33m\n",
       "\u001b[0m        \u001b[0mpause\u001b[0m\u001b[1;33m(\u001b[0m\u001b[1;33m)\u001b[0m\u001b[1;33m\n",
       "\u001b[0m        \u001b[1;32mwith\u001b[0m \u001b[0mfor_\u001b[0m\u001b[1;33m(\u001b[0m\u001b[0mv1\u001b[0m\u001b[1;33m,\u001b[0m\u001b[1;36m10\u001b[0m\u001b[1;33m,\u001b[0m\u001b[1;33m(\u001b[0m\u001b[0mv1\u001b[0m\u001b[1;33m<\u001b[0m\u001b[1;36m100.0\u001b[0m\u001b[1;33m)\u001b[0m\u001b[1;33m,\u001b[0m\u001b[1;33m(\u001b[0m\u001b[0mv1\u001b[0m\u001b[1;33m+\u001b[0m\u001b[1;36m10.0\u001b[0m\u001b[1;33m)\u001b[0m\u001b[1;33m)\u001b[0m\u001b[1;33m:\u001b[0m\u001b[1;33m\n",
       "\u001b[0m            \u001b[0malign\u001b[0m\u001b[1;33m(\u001b[0m\u001b[1;33m)\u001b[0m\u001b[1;33m\n",
       "\u001b[0m            \u001b[0mmeasure\u001b[0m\u001b[1;33m(\u001b[0m\u001b[1;34m\"measure\"\u001b[0m\u001b[1;33m,\u001b[0m \u001b[1;34m\"readout_element\"\u001b[0m\u001b[1;33m,\u001b[0m \u001b[1;32mNone\u001b[0m\u001b[1;33m,\u001b[0m \u001b[0mintegration\u001b[0m\u001b[1;33m.\u001b[0m\u001b[0mfull\u001b[0m\u001b[1;33m(\u001b[0m\u001b[1;34m\"x\"\u001b[0m\u001b[1;33m,\u001b[0m \u001b[0mv2\u001b[0m\u001b[1;33m,\u001b[0m \u001b[1;34m\"\"\u001b[0m\u001b[1;33m)\u001b[0m\u001b[1;33m,\u001b[0m \u001b[0mintegration\u001b[0m\u001b[1;33m.\u001b[0m\u001b[0mfull\u001b[0m\u001b[1;33m(\u001b[0m\u001b[1;34m\"y\"\u001b[0m\u001b[1;33m,\u001b[0m \u001b[0mv3\u001b[0m\u001b[1;33m,\u001b[0m \u001b[1;34m\"\"\u001b[0m\u001b[1;33m)\u001b[0m\u001b[1;33m)\u001b[0m\u001b[1;33m\n",
       "\u001b[0m            \u001b[0massign\u001b[0m\u001b[1;33m(\u001b[0m\u001b[0mv4\u001b[0m\u001b[1;33m,\u001b[0m \u001b[1;33m(\u001b[0m\u001b[0mv2\u001b[0m\u001b[1;33m+\u001b[0m\u001b[0mv3\u001b[0m\u001b[1;33m)\u001b[0m\u001b[1;33m)\u001b[0m\u001b[1;33m\n",
       "\u001b[0m            \u001b[0mr1\u001b[0m \u001b[1;33m=\u001b[0m \u001b[0mdeclare_stream\u001b[0m\u001b[1;33m(\u001b[0m\u001b[1;33m)\u001b[0m\u001b[1;33m\n",
       "\u001b[0m            \u001b[0msave\u001b[0m\u001b[1;33m(\u001b[0m\u001b[0mv2\u001b[0m\u001b[1;33m,\u001b[0m \u001b[0mr1\u001b[0m\u001b[1;33m)\u001b[0m\u001b[1;33m\n",
       "\u001b[0m            \u001b[0mr2\u001b[0m \u001b[1;33m=\u001b[0m \u001b[0mdeclare_stream\u001b[0m\u001b[1;33m(\u001b[0m\u001b[1;33m)\u001b[0m\u001b[1;33m\n",
       "\u001b[0m            \u001b[0msave\u001b[0m\u001b[1;33m(\u001b[0m\u001b[0mv3\u001b[0m\u001b[1;33m,\u001b[0m \u001b[0mr2\u001b[0m\u001b[1;33m)\u001b[0m\u001b[1;33m\n",
       "\u001b[0m            \u001b[0mr3\u001b[0m \u001b[1;33m=\u001b[0m \u001b[0mdeclare_stream\u001b[0m\u001b[1;33m(\u001b[0m\u001b[1;33m)\u001b[0m\u001b[1;33m\n",
       "\u001b[0m            \u001b[0msave\u001b[0m\u001b[1;33m(\u001b[0m\u001b[0mv4\u001b[0m\u001b[1;33m,\u001b[0m \u001b[0mr3\u001b[0m\u001b[1;33m)\u001b[0m\u001b[1;33m\n",
       "\u001b[0m            \u001b[0mwait\u001b[0m\u001b[1;33m(\u001b[0m\u001b[0mv1\u001b[0m\u001b[1;33m,\u001b[0m \u001b[1;33m)\u001b[0m\u001b[1;33m\n",
       "\u001b[0m            \u001b[0mmeasure\u001b[0m\u001b[1;33m(\u001b[0m\u001b[1;34m\"measure\"\u001b[0m\u001b[1;33m,\u001b[0m \u001b[1;34m\"readout_element\"\u001b[0m\u001b[1;33m,\u001b[0m \u001b[1;32mNone\u001b[0m\u001b[1;33m,\u001b[0m \u001b[0mintegration\u001b[0m\u001b[1;33m.\u001b[0m\u001b[0mfull\u001b[0m\u001b[1;33m(\u001b[0m\u001b[1;34m\"x\"\u001b[0m\u001b[1;33m,\u001b[0m \u001b[0mv5\u001b[0m\u001b[1;33m,\u001b[0m \u001b[1;34m\"\"\u001b[0m\u001b[1;33m)\u001b[0m\u001b[1;33m,\u001b[0m \u001b[0mintegration\u001b[0m\u001b[1;33m.\u001b[0m\u001b[0mfull\u001b[0m\u001b[1;33m(\u001b[0m\u001b[1;34m\"y\"\u001b[0m\u001b[1;33m,\u001b[0m \u001b[0mv6\u001b[0m\u001b[1;33m,\u001b[0m \u001b[1;34m\"\"\u001b[0m\u001b[1;33m)\u001b[0m\u001b[1;33m)\u001b[0m\u001b[1;33m\n",
       "\u001b[0m            \u001b[0massign\u001b[0m\u001b[1;33m(\u001b[0m\u001b[0mv7\u001b[0m\u001b[1;33m,\u001b[0m \u001b[1;33m(\u001b[0m\u001b[0mv5\u001b[0m\u001b[1;33m+\u001b[0m\u001b[0mv6\u001b[0m\u001b[1;33m)\u001b[0m\u001b[1;33m)\u001b[0m\u001b[1;33m\n",
       "\u001b[0m            \u001b[0mr4\u001b[0m \u001b[1;33m=\u001b[0m \u001b[0mdeclare_stream\u001b[0m\u001b[1;33m(\u001b[0m\u001b[1;33m)\u001b[0m\u001b[1;33m\n",
       "\u001b[0m            \u001b[0msave\u001b[0m\u001b[1;33m(\u001b[0m\u001b[0mv5\u001b[0m\u001b[1;33m,\u001b[0m \u001b[0mr4\u001b[0m\u001b[1;33m)\u001b[0m\u001b[1;33m\n",
       "\u001b[0m            \u001b[0mr5\u001b[0m \u001b[1;33m=\u001b[0m \u001b[0mdeclare_stream\u001b[0m\u001b[1;33m(\u001b[0m\u001b[1;33m)\u001b[0m\u001b[1;33m\n",
       "\u001b[0m            \u001b[0msave\u001b[0m\u001b[1;33m(\u001b[0m\u001b[0mv6\u001b[0m\u001b[1;33m,\u001b[0m \u001b[0mr5\u001b[0m\u001b[1;33m)\u001b[0m\u001b[1;33m\n",
       "\u001b[0m            \u001b[0mr6\u001b[0m \u001b[1;33m=\u001b[0m \u001b[0mdeclare_stream\u001b[0m\u001b[1;33m(\u001b[0m\u001b[1;33m)\u001b[0m\u001b[1;33m\n",
       "\u001b[0m            \u001b[0msave\u001b[0m\u001b[1;33m(\u001b[0m\u001b[0mv7\u001b[0m\u001b[1;33m,\u001b[0m \u001b[0mr6\u001b[0m\u001b[1;33m)\u001b[0m\u001b[1;33m\n",
       "\u001b[0m            \u001b[0massign\u001b[0m\u001b[1;33m(\u001b[0m\u001b[0mv8\u001b[0m\u001b[1;33m,\u001b[0m \u001b[1;33m(\u001b[0m\u001b[0mv4\u001b[0m\u001b[1;33m-\u001b[0m\u001b[0mv7\u001b[0m\u001b[1;33m)\u001b[0m\u001b[1;33m)\u001b[0m\u001b[1;33m\n",
       "\u001b[0m            \u001b[0mr7\u001b[0m \u001b[1;33m=\u001b[0m \u001b[0mdeclare_stream\u001b[0m\u001b[1;33m(\u001b[0m\u001b[1;33m)\u001b[0m\u001b[1;33m\n",
       "\u001b[0m            \u001b[0msave\u001b[0m\u001b[1;33m(\u001b[0m\u001b[0mv8\u001b[0m\u001b[1;33m,\u001b[0m \u001b[0mr7\u001b[0m\u001b[1;33m)\u001b[0m\u001b[1;33m\n",
       "\u001b[0m    \u001b[1;32mwith\u001b[0m \u001b[0mstream_processing\u001b[0m\u001b[1;33m(\u001b[0m\u001b[1;33m)\u001b[0m\u001b[1;33m:\u001b[0m\u001b[1;33m\n",
       "\u001b[0m        \u001b[0mr1\u001b[0m\u001b[1;33m.\u001b[0m\u001b[0mbuffer\u001b[0m\u001b[1;33m(\u001b[0m\u001b[1;36m9\u001b[0m\u001b[1;33m)\u001b[0m\u001b[1;33m.\u001b[0m\u001b[0msave\u001b[0m\u001b[1;33m(\u001b[0m\u001b[1;34m\"dummy_readout__qubit1__reference__sensor1_I_buffer\"\u001b[0m\u001b[1;33m)\u001b[0m\u001b[1;33m\n",
       "\u001b[0m        \u001b[0mr1\u001b[0m\u001b[1;33m.\u001b[0m\u001b[0msave_all\u001b[0m\u001b[1;33m(\u001b[0m\u001b[1;34m\"dummy_readout__qubit1__reference__sensor1_I\"\u001b[0m\u001b[1;33m)\u001b[0m\u001b[1;33m\n",
       "\u001b[0m        \u001b[0mr2\u001b[0m\u001b[1;33m.\u001b[0m\u001b[0mbuffer\u001b[0m\u001b[1;33m(\u001b[0m\u001b[1;36m9\u001b[0m\u001b[1;33m)\u001b[0m\u001b[1;33m.\u001b[0m\u001b[0msave\u001b[0m\u001b[1;33m(\u001b[0m\u001b[1;34m\"dummy_readout__qubit1__reference__sensor1_Q_buffer\"\u001b[0m\u001b[1;33m)\u001b[0m\u001b[1;33m\n",
       "\u001b[0m        \u001b[0mr2\u001b[0m\u001b[1;33m.\u001b[0m\u001b[0msave_all\u001b[0m\u001b[1;33m(\u001b[0m\u001b[1;34m\"dummy_readout__qubit1__reference__sensor1_Q\"\u001b[0m\u001b[1;33m)\u001b[0m\u001b[1;33m\n",
       "\u001b[0m        \u001b[0mr3\u001b[0m\u001b[1;33m.\u001b[0m\u001b[0mbuffer\u001b[0m\u001b[1;33m(\u001b[0m\u001b[1;36m9\u001b[0m\u001b[1;33m)\u001b[0m\u001b[1;33m.\u001b[0m\u001b[0msave\u001b[0m\u001b[1;33m(\u001b[0m\u001b[1;34m\"dummy_readout__qubit1__reference__sensor1_IQ_buffer\"\u001b[0m\u001b[1;33m)\u001b[0m\u001b[1;33m\n",
       "\u001b[0m        \u001b[0mr3\u001b[0m\u001b[1;33m.\u001b[0m\u001b[0msave_all\u001b[0m\u001b[1;33m(\u001b[0m\u001b[1;34m\"dummy_readout__qubit1__reference__sensor1_IQ\"\u001b[0m\u001b[1;33m)\u001b[0m\u001b[1;33m\n",
       "\u001b[0m        \u001b[0mr4\u001b[0m\u001b[1;33m.\u001b[0m\u001b[0mbuffer\u001b[0m\u001b[1;33m(\u001b[0m\u001b[1;36m9\u001b[0m\u001b[1;33m)\u001b[0m\u001b[1;33m.\u001b[0m\u001b[0msave\u001b[0m\u001b[1;33m(\u001b[0m\u001b[1;34m\"dummy_readout__qubit1__read__sensor1_I_buffer\"\u001b[0m\u001b[1;33m)\u001b[0m\u001b[1;33m\n",
       "\u001b[0m        \u001b[0mr4\u001b[0m\u001b[1;33m.\u001b[0m\u001b[0msave_all\u001b[0m\u001b[1;33m(\u001b[0m\u001b[1;34m\"dummy_readout__qubit1__read__sensor1_I\"\u001b[0m\u001b[1;33m)\u001b[0m\u001b[1;33m\n",
       "\u001b[0m        \u001b[0mr5\u001b[0m\u001b[1;33m.\u001b[0m\u001b[0mbuffer\u001b[0m\u001b[1;33m(\u001b[0m\u001b[1;36m9\u001b[0m\u001b[1;33m)\u001b[0m\u001b[1;33m.\u001b[0m\u001b[0msave\u001b[0m\u001b[1;33m(\u001b[0m\u001b[1;34m\"dummy_readout__qubit1__read__sensor1_Q_buffer\"\u001b[0m\u001b[1;33m)\u001b[0m\u001b[1;33m\n",
       "\u001b[0m        \u001b[0mr5\u001b[0m\u001b[1;33m.\u001b[0m\u001b[0msave_all\u001b[0m\u001b[1;33m(\u001b[0m\u001b[1;34m\"dummy_readout__qubit1__read__sensor1_Q\"\u001b[0m\u001b[1;33m)\u001b[0m\u001b[1;33m\n",
       "\u001b[0m        \u001b[0mr6\u001b[0m\u001b[1;33m.\u001b[0m\u001b[0mbuffer\u001b[0m\u001b[1;33m(\u001b[0m\u001b[1;36m9\u001b[0m\u001b[1;33m)\u001b[0m\u001b[1;33m.\u001b[0m\u001b[0msave\u001b[0m\u001b[1;33m(\u001b[0m\u001b[1;34m\"dummy_readout__qubit1__read__sensor1_IQ_buffer\"\u001b[0m\u001b[1;33m)\u001b[0m\u001b[1;33m\n",
       "\u001b[0m        \u001b[0mr6\u001b[0m\u001b[1;33m.\u001b[0m\u001b[0msave_all\u001b[0m\u001b[1;33m(\u001b[0m\u001b[1;34m\"dummy_readout__qubit1__read__sensor1_IQ\"\u001b[0m\u001b[1;33m)\u001b[0m\u001b[1;33m\n",
       "\u001b[0m        \u001b[0mr7\u001b[0m\u001b[1;33m.\u001b[0m\u001b[0mbuffer\u001b[0m\u001b[1;33m(\u001b[0m\u001b[1;36m9\u001b[0m\u001b[1;33m)\u001b[0m\u001b[1;33m.\u001b[0m\u001b[0msave\u001b[0m\u001b[1;33m(\u001b[0m\u001b[1;34m\"dummy_readout__qubit1__diff_buffer\"\u001b[0m\u001b[1;33m)\u001b[0m\u001b[1;33m\n",
       "\u001b[0m        \u001b[0mr7\u001b[0m\u001b[1;33m.\u001b[0m\u001b[0msave_all\u001b[0m\u001b[1;33m(\u001b[0m\u001b[1;34m\"dummy_readout__qubit1__diff\"\u001b[0m\u001b[1;33m)\u001b[0m\u001b[1;33m\n",
       "\u001b[0m\u001b[1;33m\n",
       "\u001b[0m\u001b[1;33m\n",
       "\u001b[0m\u001b[0mconfig\u001b[0m \u001b[1;33m=\u001b[0m \u001b[1;32mNone\u001b[0m\u001b[1;33m\n",
       "\u001b[0m\u001b[1;33m\n",
       "\u001b[0m\u001b[0mloaded_config\u001b[0m \u001b[1;33m=\u001b[0m \u001b[1;32mNone\u001b[0m\u001b[1;33m\u001b[0m\u001b[1;33m\u001b[0m\u001b[0m"
      ]
     },
     "metadata": {},
     "output_type": "display_data"
    }
   ],
   "source": [
    "qua_program = qm_driver.get_qua_program()\n",
    "qm_driver.print_qua_program_to_file(\n",
    "    'qua_programs/tut2_readout_with_sweep.py', qua_program)\n",
    "from qua_programs import tut2_readout_with_sweep\n",
    "tut2_readout_with_sweep??"
   ]
  },
  {
   "cell_type": "markdown",
   "id": "726153fb-283d-4f75-aa3e-e9c2bc0bc8c5",
   "metadata": {},
   "source": [
    "## 5. Scaling readout sequences to bigger systems"
   ]
  },
  {
   "cell_type": "markdown",
   "id": "3e1a19cf-c4c2-4fea-937c-b438028bb4d5",
   "metadata": {},
   "source": [
    "To use this type of readout on a bigger system, you only need to touch the configuration. All sequences are always meant to be designed to be sample agnostic. In the case below we add a second signal 'qubit2' with the same ReadPoints and the respective AbstractReadout to take the difference between those results. Scroll down to see the QUA program of this sequence."
   ]
  },
  {
   "cell_type": "code",
   "execution_count": 21,
   "id": "2ac9f318-854c-4e57-90f1-989c4b3b8d20",
   "metadata": {},
   "outputs": [],
   "source": [
    "readout_sequence_config2 = {\n",
    "    'parameters': {\n",
    "        't_between_measurements': {\n",
    "            'value': 50,\n",
    "            'unit': 'cycles',\n",
    "        }\n",
    "    },\n",
    "    'signals':{\n",
    "        'qubit1':{\n",
    "            'elements': {\n",
    "                'sensor1': 'readout_element',\n",
    "            },\n",
    "            'readout_points': {\n",
    "                'reference': {\n",
    "                    'method': 'average',\n",
    "                    'desc':'reference point',\n",
    "                    'observables': ['I', 'Q', 'IQ'],\n",
    "                    'save_values': True\n",
    "                },\n",
    "                'read': {\n",
    "                    'method': 'average',\n",
    "                    'desc': 'redout point',\n",
    "                    'observables': ['I', 'Q', 'IQ'],\n",
    "                    'save_values': True\n",
    "                }\n",
    "            }\n",
    "        },\n",
    "        'qubit2':{\n",
    "            'elements': {\n",
    "                'sensor1': 'readout_element',\n",
    "            },\n",
    "            'readout_points': {\n",
    "                'reference': {\n",
    "                    'method': 'average',\n",
    "                    'desc':'reference point',\n",
    "                    'observables': ['I', 'Q', 'IQ'],\n",
    "                    'save_values': True\n",
    "                },\n",
    "                'read': {\n",
    "                    'method': 'average',\n",
    "                    'desc': 'redout point',\n",
    "                    'observables': ['I', 'Q', 'IQ'],\n",
    "                    'save_values': True\n",
    "                }\n",
    "            }\n",
    "        },\n",
    "    },\n",
    "    'readout_groups': {\n",
    "        'difference': {\n",
    "            'qubit1__diff': {\n",
    "                'method': 'difference',\n",
    "                'name': 'diff',\n",
    "                'args': {\n",
    "                    'signal': 'qubit1',\n",
    "                    'minuend': 'qubit1.reference.sensor1_IQ',\n",
    "                    'subtrahend': 'qubit1.read.sensor1_IQ',\n",
    "                },\n",
    "            },\n",
    "            'qubit2__diff': {\n",
    "                'method': 'difference',\n",
    "                'name': 'diff',\n",
    "                'args': {\n",
    "                    'signal': 'qubit2',\n",
    "                    'minuend': 'qubit2.reference.sensor1_IQ',\n",
    "                    'subtrahend': 'qubit2.read.sensor1_IQ',\n",
    "                },\n",
    "            },\n",
    "        }\n",
    "    },\n",
    "}"
   ]
  },
  {
   "cell_type": "markdown",
   "id": "1e90fa8a-5341-455c-8a80-6ac908116f7d",
   "metadata": {},
   "source": [
    "Creating the driver and sequences:"
   ]
  },
  {
   "cell_type": "code",
   "execution_count": 22,
   "id": "5e7f3fb5-fa5c-443e-ac8a-df9d9dcb1477",
   "metadata": {},
   "outputs": [],
   "source": [
    "dummy_readout2 = DummyReadout('dummy_readout2', dummy_sample,\n",
    "                              readout_sequence_config2)"
   ]
  },
  {
   "cell_type": "code",
   "execution_count": 23,
   "id": "946de62c-a08a-45c8-b286-31db7ef273a8",
   "metadata": {},
   "outputs": [],
   "source": [
    "qm_driver2 = ArbokDriver('qm_driver2', dummy_sample)\n",
    "dummy_sequence2 = Sequence('dummy_squence2', dummy_sample)\n",
    "qm_driver2.add_sequence(dummy_sequence2)\n",
    "dummy_sequence2.add_subsequence(dummy_readout2)"
   ]
  },
  {
   "cell_type": "markdown",
   "id": "0a1538fb-1f37-409f-b75e-3f1ba054eea1",
   "metadata": {},
   "source": [
    "Below see how the corresponding parameters were created without even touching the DummySequence. This example represents the philosophy of arbok:\n",
    "- write device and setup agnostic control/read sequences\n",
    "- quantify those sequences with configuration files"
   ]
  },
  {
   "cell_type": "code",
   "execution_count": 24,
   "id": "ce724b25-54ce-4378-9de8-57be54c94db5",
   "metadata": {},
   "outputs": [
    {
     "name": "stdout",
     "output_type": "stream",
     "text": [
      "dummy_readout2:\n",
      "\tparameter                                    value\n",
      "--------------------------------------------------------------------------------\n",
      "IDN                                           :\tNone \n",
      "dummy_readout2__qubit1__diff                  :\tNot available \n",
      "dummy_readout2__qubit1__read__sensor1_I       :\tNot available \n",
      "dummy_readout2__qubit1__read__sensor1_IQ      :\tNot available \n",
      "dummy_readout2__qubit1__read__sensor1_Q       :\tNot available \n",
      "dummy_readout2__qubit1__reference__sensor1_I  :\tNot available \n",
      "dummy_readout2__qubit1__reference__sensor1_IQ :\tNot available \n",
      "dummy_readout2__qubit1__reference__sensor1_Q  :\tNot available \n",
      "dummy_readout2__qubit2__diff                  :\tNot available \n",
      "dummy_readout2__qubit2__read__sensor1_I       :\tNot available \n",
      "dummy_readout2__qubit2__read__sensor1_IQ      :\tNot available \n",
      "dummy_readout2__qubit2__read__sensor1_Q       :\tNot available \n",
      "dummy_readout2__qubit2__reference__sensor1_I  :\tNot available \n",
      "dummy_readout2__qubit2__reference__sensor1_IQ :\tNot available \n",
      "dummy_readout2__qubit2__reference__sensor1_Q  :\tNot available \n",
      "t_between_measurements                        :\t50 (cycles)\n"
     ]
    }
   ],
   "source": [
    "dummy_readout2.print_readable_snapshot()"
   ]
  },
  {
   "cell_type": "markdown",
   "id": "582fd8e5-ae5b-42c0-a313-03a3a01763fe",
   "metadata": {},
   "source": [
    "QUA variables and streams are automatically put in place and the sequence is executed as expect for the system with double the size."
   ]
  },
  {
   "cell_type": "code",
   "execution_count": 25,
   "id": "784f1062-93c8-4d2e-a700-15a24445286e",
   "metadata": {},
   "outputs": [
    {
     "data": {
      "text/plain": [
       "\u001b[1;31mType:\u001b[0m        module\n",
       "\u001b[1;31mString form:\u001b[0m <module 'qua_programs.tut2_double_readout' from 'C:\\\\Users\\\\z5440260\\\\GitRepos\\\\arbok_driver\\\\docs\\\\qua_programs\\\\tut2_double_readout.py'>\n",
       "\u001b[1;31mFile:\u001b[0m        c:\\users\\z5440260\\gitrepos\\arbok_driver\\docs\\qua_programs\\tut2_double_readout.py\n",
       "\u001b[1;31mSource:\u001b[0m     \n",
       "\u001b[1;33m\n",
       "\u001b[0m\u001b[1;31m# Single QUA script generated at 2024-04-12 13:25:53.211391\u001b[0m\u001b[1;33m\n",
       "\u001b[0m\u001b[1;31m# QUA library version: 1.1.7\u001b[0m\u001b[1;33m\n",
       "\u001b[0m\u001b[1;33m\n",
       "\u001b[0m\u001b[1;32mfrom\u001b[0m \u001b[0mqm\u001b[0m\u001b[1;33m.\u001b[0m\u001b[0mqua\u001b[0m \u001b[1;32mimport\u001b[0m \u001b[1;33m*\u001b[0m\u001b[1;33m\n",
       "\u001b[0m\u001b[1;33m\n",
       "\u001b[0m\u001b[1;32mwith\u001b[0m \u001b[0mprogram\u001b[0m\u001b[1;33m(\u001b[0m\u001b[1;33m)\u001b[0m \u001b[1;32mas\u001b[0m \u001b[0mprog\u001b[0m\u001b[1;33m:\u001b[0m\u001b[1;33m\n",
       "\u001b[0m    \u001b[0mv1\u001b[0m \u001b[1;33m=\u001b[0m \u001b[0mdeclare\u001b[0m\u001b[1;33m(\u001b[0m\u001b[0mfixed\u001b[0m\u001b[1;33m,\u001b[0m \u001b[1;33m)\u001b[0m\u001b[1;33m\n",
       "\u001b[0m    \u001b[0mv2\u001b[0m \u001b[1;33m=\u001b[0m \u001b[0mdeclare\u001b[0m\u001b[1;33m(\u001b[0m\u001b[0mfixed\u001b[0m\u001b[1;33m,\u001b[0m \u001b[1;33m)\u001b[0m\u001b[1;33m\n",
       "\u001b[0m    \u001b[0mv3\u001b[0m \u001b[1;33m=\u001b[0m \u001b[0mdeclare\u001b[0m\u001b[1;33m(\u001b[0m\u001b[0mfixed\u001b[0m\u001b[1;33m,\u001b[0m \u001b[1;33m)\u001b[0m\u001b[1;33m\n",
       "\u001b[0m    \u001b[0mv4\u001b[0m \u001b[1;33m=\u001b[0m \u001b[0mdeclare\u001b[0m\u001b[1;33m(\u001b[0m\u001b[0mfixed\u001b[0m\u001b[1;33m,\u001b[0m \u001b[1;33m)\u001b[0m\u001b[1;33m\n",
       "\u001b[0m    \u001b[0mv5\u001b[0m \u001b[1;33m=\u001b[0m \u001b[0mdeclare\u001b[0m\u001b[1;33m(\u001b[0m\u001b[0mfixed\u001b[0m\u001b[1;33m,\u001b[0m \u001b[1;33m)\u001b[0m\u001b[1;33m\n",
       "\u001b[0m    \u001b[0mv6\u001b[0m \u001b[1;33m=\u001b[0m \u001b[0mdeclare\u001b[0m\u001b[1;33m(\u001b[0m\u001b[0mfixed\u001b[0m\u001b[1;33m,\u001b[0m \u001b[1;33m)\u001b[0m\u001b[1;33m\n",
       "\u001b[0m    \u001b[0mv7\u001b[0m \u001b[1;33m=\u001b[0m \u001b[0mdeclare\u001b[0m\u001b[1;33m(\u001b[0m\u001b[0mfixed\u001b[0m\u001b[1;33m,\u001b[0m \u001b[1;33m)\u001b[0m\u001b[1;33m\n",
       "\u001b[0m    \u001b[0mv8\u001b[0m \u001b[1;33m=\u001b[0m \u001b[0mdeclare\u001b[0m\u001b[1;33m(\u001b[0m\u001b[0mfixed\u001b[0m\u001b[1;33m,\u001b[0m \u001b[1;33m)\u001b[0m\u001b[1;33m\n",
       "\u001b[0m    \u001b[0mv9\u001b[0m \u001b[1;33m=\u001b[0m \u001b[0mdeclare\u001b[0m\u001b[1;33m(\u001b[0m\u001b[0mfixed\u001b[0m\u001b[1;33m,\u001b[0m \u001b[1;33m)\u001b[0m\u001b[1;33m\n",
       "\u001b[0m    \u001b[0mv10\u001b[0m \u001b[1;33m=\u001b[0m \u001b[0mdeclare\u001b[0m\u001b[1;33m(\u001b[0m\u001b[0mfixed\u001b[0m\u001b[1;33m,\u001b[0m \u001b[1;33m)\u001b[0m\u001b[1;33m\n",
       "\u001b[0m    \u001b[0mv11\u001b[0m \u001b[1;33m=\u001b[0m \u001b[0mdeclare\u001b[0m\u001b[1;33m(\u001b[0m\u001b[0mfixed\u001b[0m\u001b[1;33m,\u001b[0m \u001b[1;33m)\u001b[0m\u001b[1;33m\n",
       "\u001b[0m    \u001b[0mv12\u001b[0m \u001b[1;33m=\u001b[0m \u001b[0mdeclare\u001b[0m\u001b[1;33m(\u001b[0m\u001b[0mfixed\u001b[0m\u001b[1;33m,\u001b[0m \u001b[1;33m)\u001b[0m\u001b[1;33m\n",
       "\u001b[0m    \u001b[0mv13\u001b[0m \u001b[1;33m=\u001b[0m \u001b[0mdeclare\u001b[0m\u001b[1;33m(\u001b[0m\u001b[0mfixed\u001b[0m\u001b[1;33m,\u001b[0m \u001b[1;33m)\u001b[0m\u001b[1;33m\n",
       "\u001b[0m    \u001b[0mv14\u001b[0m \u001b[1;33m=\u001b[0m \u001b[0mdeclare\u001b[0m\u001b[1;33m(\u001b[0m\u001b[0mfixed\u001b[0m\u001b[1;33m,\u001b[0m \u001b[1;33m)\u001b[0m\u001b[1;33m\n",
       "\u001b[0m    \u001b[1;32mwith\u001b[0m \u001b[0minfinite_loop_\u001b[0m\u001b[1;33m(\u001b[0m\u001b[1;33m)\u001b[0m\u001b[1;33m:\u001b[0m\u001b[1;33m\n",
       "\u001b[0m        \u001b[0mpause\u001b[0m\u001b[1;33m(\u001b[0m\u001b[1;33m)\u001b[0m\u001b[1;33m\n",
       "\u001b[0m        \u001b[0malign\u001b[0m\u001b[1;33m(\u001b[0m\u001b[1;33m)\u001b[0m\u001b[1;33m\n",
       "\u001b[0m        \u001b[0mmeasure\u001b[0m\u001b[1;33m(\u001b[0m\u001b[1;34m\"measure\"\u001b[0m\u001b[1;33m,\u001b[0m \u001b[1;34m\"readout_element\"\u001b[0m\u001b[1;33m,\u001b[0m \u001b[1;32mNone\u001b[0m\u001b[1;33m,\u001b[0m \u001b[0mintegration\u001b[0m\u001b[1;33m.\u001b[0m\u001b[0mfull\u001b[0m\u001b[1;33m(\u001b[0m\u001b[1;34m\"x\"\u001b[0m\u001b[1;33m,\u001b[0m \u001b[0mv1\u001b[0m\u001b[1;33m,\u001b[0m \u001b[1;34m\"\"\u001b[0m\u001b[1;33m)\u001b[0m\u001b[1;33m,\u001b[0m \u001b[0mintegration\u001b[0m\u001b[1;33m.\u001b[0m\u001b[0mfull\u001b[0m\u001b[1;33m(\u001b[0m\u001b[1;34m\"y\"\u001b[0m\u001b[1;33m,\u001b[0m \u001b[0mv2\u001b[0m\u001b[1;33m,\u001b[0m \u001b[1;34m\"\"\u001b[0m\u001b[1;33m)\u001b[0m\u001b[1;33m)\u001b[0m\u001b[1;33m\n",
       "\u001b[0m        \u001b[0massign\u001b[0m\u001b[1;33m(\u001b[0m\u001b[0mv3\u001b[0m\u001b[1;33m,\u001b[0m \u001b[1;33m(\u001b[0m\u001b[0mv1\u001b[0m\u001b[1;33m+\u001b[0m\u001b[0mv2\u001b[0m\u001b[1;33m)\u001b[0m\u001b[1;33m)\u001b[0m\u001b[1;33m\n",
       "\u001b[0m        \u001b[0mr1\u001b[0m \u001b[1;33m=\u001b[0m \u001b[0mdeclare_stream\u001b[0m\u001b[1;33m(\u001b[0m\u001b[1;33m)\u001b[0m\u001b[1;33m\n",
       "\u001b[0m        \u001b[0msave\u001b[0m\u001b[1;33m(\u001b[0m\u001b[0mv1\u001b[0m\u001b[1;33m,\u001b[0m \u001b[0mr1\u001b[0m\u001b[1;33m)\u001b[0m\u001b[1;33m\n",
       "\u001b[0m        \u001b[0mr2\u001b[0m \u001b[1;33m=\u001b[0m \u001b[0mdeclare_stream\u001b[0m\u001b[1;33m(\u001b[0m\u001b[1;33m)\u001b[0m\u001b[1;33m\n",
       "\u001b[0m        \u001b[0msave\u001b[0m\u001b[1;33m(\u001b[0m\u001b[0mv2\u001b[0m\u001b[1;33m,\u001b[0m \u001b[0mr2\u001b[0m\u001b[1;33m)\u001b[0m\u001b[1;33m\n",
       "\u001b[0m        \u001b[0mr3\u001b[0m \u001b[1;33m=\u001b[0m \u001b[0mdeclare_stream\u001b[0m\u001b[1;33m(\u001b[0m\u001b[1;33m)\u001b[0m\u001b[1;33m\n",
       "\u001b[0m        \u001b[0msave\u001b[0m\u001b[1;33m(\u001b[0m\u001b[0mv3\u001b[0m\u001b[1;33m,\u001b[0m \u001b[0mr3\u001b[0m\u001b[1;33m)\u001b[0m\u001b[1;33m\n",
       "\u001b[0m        \u001b[0mmeasure\u001b[0m\u001b[1;33m(\u001b[0m\u001b[1;34m\"measure\"\u001b[0m\u001b[1;33m,\u001b[0m \u001b[1;34m\"readout_element\"\u001b[0m\u001b[1;33m,\u001b[0m \u001b[1;32mNone\u001b[0m\u001b[1;33m,\u001b[0m \u001b[0mintegration\u001b[0m\u001b[1;33m.\u001b[0m\u001b[0mfull\u001b[0m\u001b[1;33m(\u001b[0m\u001b[1;34m\"x\"\u001b[0m\u001b[1;33m,\u001b[0m \u001b[0mv7\u001b[0m\u001b[1;33m,\u001b[0m \u001b[1;34m\"\"\u001b[0m\u001b[1;33m)\u001b[0m\u001b[1;33m,\u001b[0m \u001b[0mintegration\u001b[0m\u001b[1;33m.\u001b[0m\u001b[0mfull\u001b[0m\u001b[1;33m(\u001b[0m\u001b[1;34m\"y\"\u001b[0m\u001b[1;33m,\u001b[0m \u001b[0mv8\u001b[0m\u001b[1;33m,\u001b[0m \u001b[1;34m\"\"\u001b[0m\u001b[1;33m)\u001b[0m\u001b[1;33m)\u001b[0m\u001b[1;33m\n",
       "\u001b[0m        \u001b[0massign\u001b[0m\u001b[1;33m(\u001b[0m\u001b[0mv9\u001b[0m\u001b[1;33m,\u001b[0m \u001b[1;33m(\u001b[0m\u001b[0mv7\u001b[0m\u001b[1;33m+\u001b[0m\u001b[0mv8\u001b[0m\u001b[1;33m)\u001b[0m\u001b[1;33m)\u001b[0m\u001b[1;33m\n",
       "\u001b[0m        \u001b[0mr7\u001b[0m \u001b[1;33m=\u001b[0m \u001b[0mdeclare_stream\u001b[0m\u001b[1;33m(\u001b[0m\u001b[1;33m)\u001b[0m\u001b[1;33m\n",
       "\u001b[0m        \u001b[0msave\u001b[0m\u001b[1;33m(\u001b[0m\u001b[0mv7\u001b[0m\u001b[1;33m,\u001b[0m \u001b[0mr7\u001b[0m\u001b[1;33m)\u001b[0m\u001b[1;33m\n",
       "\u001b[0m        \u001b[0mr8\u001b[0m \u001b[1;33m=\u001b[0m \u001b[0mdeclare_stream\u001b[0m\u001b[1;33m(\u001b[0m\u001b[1;33m)\u001b[0m\u001b[1;33m\n",
       "\u001b[0m        \u001b[0msave\u001b[0m\u001b[1;33m(\u001b[0m\u001b[0mv8\u001b[0m\u001b[1;33m,\u001b[0m \u001b[0mr8\u001b[0m\u001b[1;33m)\u001b[0m\u001b[1;33m\n",
       "\u001b[0m        \u001b[0mr9\u001b[0m \u001b[1;33m=\u001b[0m \u001b[0mdeclare_stream\u001b[0m\u001b[1;33m(\u001b[0m\u001b[1;33m)\u001b[0m\u001b[1;33m\n",
       "\u001b[0m        \u001b[0msave\u001b[0m\u001b[1;33m(\u001b[0m\u001b[0mv9\u001b[0m\u001b[1;33m,\u001b[0m \u001b[0mr9\u001b[0m\u001b[1;33m)\u001b[0m\u001b[1;33m\n",
       "\u001b[0m        \u001b[0mwait\u001b[0m\u001b[1;33m(\u001b[0m\u001b[1;36m50\u001b[0m\u001b[1;33m,\u001b[0m \u001b[1;33m)\u001b[0m\u001b[1;33m\n",
       "\u001b[0m        \u001b[0mmeasure\u001b[0m\u001b[1;33m(\u001b[0m\u001b[1;34m\"measure\"\u001b[0m\u001b[1;33m,\u001b[0m \u001b[1;34m\"readout_element\"\u001b[0m\u001b[1;33m,\u001b[0m \u001b[1;32mNone\u001b[0m\u001b[1;33m,\u001b[0m \u001b[0mintegration\u001b[0m\u001b[1;33m.\u001b[0m\u001b[0mfull\u001b[0m\u001b[1;33m(\u001b[0m\u001b[1;34m\"x\"\u001b[0m\u001b[1;33m,\u001b[0m \u001b[0mv4\u001b[0m\u001b[1;33m,\u001b[0m \u001b[1;34m\"\"\u001b[0m\u001b[1;33m)\u001b[0m\u001b[1;33m,\u001b[0m \u001b[0mintegration\u001b[0m\u001b[1;33m.\u001b[0m\u001b[0mfull\u001b[0m\u001b[1;33m(\u001b[0m\u001b[1;34m\"y\"\u001b[0m\u001b[1;33m,\u001b[0m \u001b[0mv5\u001b[0m\u001b[1;33m,\u001b[0m \u001b[1;34m\"\"\u001b[0m\u001b[1;33m)\u001b[0m\u001b[1;33m)\u001b[0m\u001b[1;33m\n",
       "\u001b[0m        \u001b[0massign\u001b[0m\u001b[1;33m(\u001b[0m\u001b[0mv6\u001b[0m\u001b[1;33m,\u001b[0m \u001b[1;33m(\u001b[0m\u001b[0mv4\u001b[0m\u001b[1;33m+\u001b[0m\u001b[0mv5\u001b[0m\u001b[1;33m)\u001b[0m\u001b[1;33m)\u001b[0m\u001b[1;33m\n",
       "\u001b[0m        \u001b[0mr4\u001b[0m \u001b[1;33m=\u001b[0m \u001b[0mdeclare_stream\u001b[0m\u001b[1;33m(\u001b[0m\u001b[1;33m)\u001b[0m\u001b[1;33m\n",
       "\u001b[0m        \u001b[0msave\u001b[0m\u001b[1;33m(\u001b[0m\u001b[0mv4\u001b[0m\u001b[1;33m,\u001b[0m \u001b[0mr4\u001b[0m\u001b[1;33m)\u001b[0m\u001b[1;33m\n",
       "\u001b[0m        \u001b[0mr5\u001b[0m \u001b[1;33m=\u001b[0m \u001b[0mdeclare_stream\u001b[0m\u001b[1;33m(\u001b[0m\u001b[1;33m)\u001b[0m\u001b[1;33m\n",
       "\u001b[0m        \u001b[0msave\u001b[0m\u001b[1;33m(\u001b[0m\u001b[0mv5\u001b[0m\u001b[1;33m,\u001b[0m \u001b[0mr5\u001b[0m\u001b[1;33m)\u001b[0m\u001b[1;33m\n",
       "\u001b[0m        \u001b[0mr6\u001b[0m \u001b[1;33m=\u001b[0m \u001b[0mdeclare_stream\u001b[0m\u001b[1;33m(\u001b[0m\u001b[1;33m)\u001b[0m\u001b[1;33m\n",
       "\u001b[0m        \u001b[0msave\u001b[0m\u001b[1;33m(\u001b[0m\u001b[0mv6\u001b[0m\u001b[1;33m,\u001b[0m \u001b[0mr6\u001b[0m\u001b[1;33m)\u001b[0m\u001b[1;33m\n",
       "\u001b[0m        \u001b[0mmeasure\u001b[0m\u001b[1;33m(\u001b[0m\u001b[1;34m\"measure\"\u001b[0m\u001b[1;33m,\u001b[0m \u001b[1;34m\"readout_element\"\u001b[0m\u001b[1;33m,\u001b[0m \u001b[1;32mNone\u001b[0m\u001b[1;33m,\u001b[0m \u001b[0mintegration\u001b[0m\u001b[1;33m.\u001b[0m\u001b[0mfull\u001b[0m\u001b[1;33m(\u001b[0m\u001b[1;34m\"x\"\u001b[0m\u001b[1;33m,\u001b[0m \u001b[0mv10\u001b[0m\u001b[1;33m,\u001b[0m \u001b[1;34m\"\"\u001b[0m\u001b[1;33m)\u001b[0m\u001b[1;33m,\u001b[0m \u001b[0mintegration\u001b[0m\u001b[1;33m.\u001b[0m\u001b[0mfull\u001b[0m\u001b[1;33m(\u001b[0m\u001b[1;34m\"y\"\u001b[0m\u001b[1;33m,\u001b[0m \u001b[0mv11\u001b[0m\u001b[1;33m,\u001b[0m \u001b[1;34m\"\"\u001b[0m\u001b[1;33m)\u001b[0m\u001b[1;33m)\u001b[0m\u001b[1;33m\n",
       "\u001b[0m        \u001b[0massign\u001b[0m\u001b[1;33m(\u001b[0m\u001b[0mv12\u001b[0m\u001b[1;33m,\u001b[0m \u001b[1;33m(\u001b[0m\u001b[0mv10\u001b[0m\u001b[1;33m+\u001b[0m\u001b[0mv11\u001b[0m\u001b[1;33m)\u001b[0m\u001b[1;33m)\u001b[0m\u001b[1;33m\n",
       "\u001b[0m        \u001b[0mr10\u001b[0m \u001b[1;33m=\u001b[0m \u001b[0mdeclare_stream\u001b[0m\u001b[1;33m(\u001b[0m\u001b[1;33m)\u001b[0m\u001b[1;33m\n",
       "\u001b[0m        \u001b[0msave\u001b[0m\u001b[1;33m(\u001b[0m\u001b[0mv10\u001b[0m\u001b[1;33m,\u001b[0m \u001b[0mr10\u001b[0m\u001b[1;33m)\u001b[0m\u001b[1;33m\n",
       "\u001b[0m        \u001b[0mr11\u001b[0m \u001b[1;33m=\u001b[0m \u001b[0mdeclare_stream\u001b[0m\u001b[1;33m(\u001b[0m\u001b[1;33m)\u001b[0m\u001b[1;33m\n",
       "\u001b[0m        \u001b[0msave\u001b[0m\u001b[1;33m(\u001b[0m\u001b[0mv11\u001b[0m\u001b[1;33m,\u001b[0m \u001b[0mr11\u001b[0m\u001b[1;33m)\u001b[0m\u001b[1;33m\n",
       "\u001b[0m        \u001b[0mr12\u001b[0m \u001b[1;33m=\u001b[0m \u001b[0mdeclare_stream\u001b[0m\u001b[1;33m(\u001b[0m\u001b[1;33m)\u001b[0m\u001b[1;33m\n",
       "\u001b[0m        \u001b[0msave\u001b[0m\u001b[1;33m(\u001b[0m\u001b[0mv12\u001b[0m\u001b[1;33m,\u001b[0m \u001b[0mr12\u001b[0m\u001b[1;33m)\u001b[0m\u001b[1;33m\n",
       "\u001b[0m        \u001b[0massign\u001b[0m\u001b[1;33m(\u001b[0m\u001b[0mv13\u001b[0m\u001b[1;33m,\u001b[0m \u001b[1;33m(\u001b[0m\u001b[0mv3\u001b[0m\u001b[1;33m-\u001b[0m\u001b[0mv6\u001b[0m\u001b[1;33m)\u001b[0m\u001b[1;33m)\u001b[0m\u001b[1;33m\n",
       "\u001b[0m        \u001b[0mr13\u001b[0m \u001b[1;33m=\u001b[0m \u001b[0mdeclare_stream\u001b[0m\u001b[1;33m(\u001b[0m\u001b[1;33m)\u001b[0m\u001b[1;33m\n",
       "\u001b[0m        \u001b[0msave\u001b[0m\u001b[1;33m(\u001b[0m\u001b[0mv13\u001b[0m\u001b[1;33m,\u001b[0m \u001b[0mr13\u001b[0m\u001b[1;33m)\u001b[0m\u001b[1;33m\n",
       "\u001b[0m        \u001b[0massign\u001b[0m\u001b[1;33m(\u001b[0m\u001b[0mv14\u001b[0m\u001b[1;33m,\u001b[0m \u001b[1;33m(\u001b[0m\u001b[0mv9\u001b[0m\u001b[1;33m-\u001b[0m\u001b[0mv12\u001b[0m\u001b[1;33m)\u001b[0m\u001b[1;33m)\u001b[0m\u001b[1;33m\n",
       "\u001b[0m        \u001b[0mr14\u001b[0m \u001b[1;33m=\u001b[0m \u001b[0mdeclare_stream\u001b[0m\u001b[1;33m(\u001b[0m\u001b[1;33m)\u001b[0m\u001b[1;33m\n",
       "\u001b[0m        \u001b[0msave\u001b[0m\u001b[1;33m(\u001b[0m\u001b[0mv14\u001b[0m\u001b[1;33m,\u001b[0m \u001b[0mr14\u001b[0m\u001b[1;33m)\u001b[0m\u001b[1;33m\n",
       "\u001b[0m    \u001b[1;32mwith\u001b[0m \u001b[0mstream_processing\u001b[0m\u001b[1;33m(\u001b[0m\u001b[1;33m)\u001b[0m\u001b[1;33m:\u001b[0m\u001b[1;33m\n",
       "\u001b[0m        \u001b[0mr1\u001b[0m\u001b[1;33m.\u001b[0m\u001b[0mbuffer\u001b[0m\u001b[1;33m(\u001b[0m\u001b[1;36m1\u001b[0m\u001b[1;33m)\u001b[0m\u001b[1;33m.\u001b[0m\u001b[0msave\u001b[0m\u001b[1;33m(\u001b[0m\u001b[1;34m\"dummy_readout2__qubit1__reference__sensor1_I_buffer\"\u001b[0m\u001b[1;33m)\u001b[0m\u001b[1;33m\n",
       "\u001b[0m        \u001b[0mr1\u001b[0m\u001b[1;33m.\u001b[0m\u001b[0msave_all\u001b[0m\u001b[1;33m(\u001b[0m\u001b[1;34m\"dummy_readout2__qubit1__reference__sensor1_I\"\u001b[0m\u001b[1;33m)\u001b[0m\u001b[1;33m\n",
       "\u001b[0m        \u001b[0mr2\u001b[0m\u001b[1;33m.\u001b[0m\u001b[0mbuffer\u001b[0m\u001b[1;33m(\u001b[0m\u001b[1;36m1\u001b[0m\u001b[1;33m)\u001b[0m\u001b[1;33m.\u001b[0m\u001b[0msave\u001b[0m\u001b[1;33m(\u001b[0m\u001b[1;34m\"dummy_readout2__qubit1__reference__sensor1_Q_buffer\"\u001b[0m\u001b[1;33m)\u001b[0m\u001b[1;33m\n",
       "\u001b[0m        \u001b[0mr2\u001b[0m\u001b[1;33m.\u001b[0m\u001b[0msave_all\u001b[0m\u001b[1;33m(\u001b[0m\u001b[1;34m\"dummy_readout2__qubit1__reference__sensor1_Q\"\u001b[0m\u001b[1;33m)\u001b[0m\u001b[1;33m\n",
       "\u001b[0m        \u001b[0mr3\u001b[0m\u001b[1;33m.\u001b[0m\u001b[0mbuffer\u001b[0m\u001b[1;33m(\u001b[0m\u001b[1;36m1\u001b[0m\u001b[1;33m)\u001b[0m\u001b[1;33m.\u001b[0m\u001b[0msave\u001b[0m\u001b[1;33m(\u001b[0m\u001b[1;34m\"dummy_readout2__qubit1__reference__sensor1_IQ_buffer\"\u001b[0m\u001b[1;33m)\u001b[0m\u001b[1;33m\n",
       "\u001b[0m        \u001b[0mr3\u001b[0m\u001b[1;33m.\u001b[0m\u001b[0msave_all\u001b[0m\u001b[1;33m(\u001b[0m\u001b[1;34m\"dummy_readout2__qubit1__reference__sensor1_IQ\"\u001b[0m\u001b[1;33m)\u001b[0m\u001b[1;33m\n",
       "\u001b[0m        \u001b[0mr4\u001b[0m\u001b[1;33m.\u001b[0m\u001b[0mbuffer\u001b[0m\u001b[1;33m(\u001b[0m\u001b[1;36m1\u001b[0m\u001b[1;33m)\u001b[0m\u001b[1;33m.\u001b[0m\u001b[0msave\u001b[0m\u001b[1;33m(\u001b[0m\u001b[1;34m\"dummy_readout2__qubit1__read__sensor1_I_buffer\"\u001b[0m\u001b[1;33m)\u001b[0m\u001b[1;33m\n",
       "\u001b[0m        \u001b[0mr4\u001b[0m\u001b[1;33m.\u001b[0m\u001b[0msave_all\u001b[0m\u001b[1;33m(\u001b[0m\u001b[1;34m\"dummy_readout2__qubit1__read__sensor1_I\"\u001b[0m\u001b[1;33m)\u001b[0m\u001b[1;33m\n",
       "\u001b[0m        \u001b[0mr5\u001b[0m\u001b[1;33m.\u001b[0m\u001b[0mbuffer\u001b[0m\u001b[1;33m(\u001b[0m\u001b[1;36m1\u001b[0m\u001b[1;33m)\u001b[0m\u001b[1;33m.\u001b[0m\u001b[0msave\u001b[0m\u001b[1;33m(\u001b[0m\u001b[1;34m\"dummy_readout2__qubit1__read__sensor1_Q_buffer\"\u001b[0m\u001b[1;33m)\u001b[0m\u001b[1;33m\n",
       "\u001b[0m        \u001b[0mr5\u001b[0m\u001b[1;33m.\u001b[0m\u001b[0msave_all\u001b[0m\u001b[1;33m(\u001b[0m\u001b[1;34m\"dummy_readout2__qubit1__read__sensor1_Q\"\u001b[0m\u001b[1;33m)\u001b[0m\u001b[1;33m\n",
       "\u001b[0m        \u001b[0mr6\u001b[0m\u001b[1;33m.\u001b[0m\u001b[0mbuffer\u001b[0m\u001b[1;33m(\u001b[0m\u001b[1;36m1\u001b[0m\u001b[1;33m)\u001b[0m\u001b[1;33m.\u001b[0m\u001b[0msave\u001b[0m\u001b[1;33m(\u001b[0m\u001b[1;34m\"dummy_readout2__qubit1__read__sensor1_IQ_buffer\"\u001b[0m\u001b[1;33m)\u001b[0m\u001b[1;33m\n",
       "\u001b[0m        \u001b[0mr6\u001b[0m\u001b[1;33m.\u001b[0m\u001b[0msave_all\u001b[0m\u001b[1;33m(\u001b[0m\u001b[1;34m\"dummy_readout2__qubit1__read__sensor1_IQ\"\u001b[0m\u001b[1;33m)\u001b[0m\u001b[1;33m\n",
       "\u001b[0m        \u001b[0mr7\u001b[0m\u001b[1;33m.\u001b[0m\u001b[0mbuffer\u001b[0m\u001b[1;33m(\u001b[0m\u001b[1;36m1\u001b[0m\u001b[1;33m)\u001b[0m\u001b[1;33m.\u001b[0m\u001b[0msave\u001b[0m\u001b[1;33m(\u001b[0m\u001b[1;34m\"dummy_readout2__qubit2__reference__sensor1_I_buffer\"\u001b[0m\u001b[1;33m)\u001b[0m\u001b[1;33m\n",
       "\u001b[0m        \u001b[0mr7\u001b[0m\u001b[1;33m.\u001b[0m\u001b[0msave_all\u001b[0m\u001b[1;33m(\u001b[0m\u001b[1;34m\"dummy_readout2__qubit2__reference__sensor1_I\"\u001b[0m\u001b[1;33m)\u001b[0m\u001b[1;33m\n",
       "\u001b[0m        \u001b[0mr8\u001b[0m\u001b[1;33m.\u001b[0m\u001b[0mbuffer\u001b[0m\u001b[1;33m(\u001b[0m\u001b[1;36m1\u001b[0m\u001b[1;33m)\u001b[0m\u001b[1;33m.\u001b[0m\u001b[0msave\u001b[0m\u001b[1;33m(\u001b[0m\u001b[1;34m\"dummy_readout2__qubit2__reference__sensor1_Q_buffer\"\u001b[0m\u001b[1;33m)\u001b[0m\u001b[1;33m\n",
       "\u001b[0m        \u001b[0mr8\u001b[0m\u001b[1;33m.\u001b[0m\u001b[0msave_all\u001b[0m\u001b[1;33m(\u001b[0m\u001b[1;34m\"dummy_readout2__qubit2__reference__sensor1_Q\"\u001b[0m\u001b[1;33m)\u001b[0m\u001b[1;33m\n",
       "\u001b[0m        \u001b[0mr9\u001b[0m\u001b[1;33m.\u001b[0m\u001b[0mbuffer\u001b[0m\u001b[1;33m(\u001b[0m\u001b[1;36m1\u001b[0m\u001b[1;33m)\u001b[0m\u001b[1;33m.\u001b[0m\u001b[0msave\u001b[0m\u001b[1;33m(\u001b[0m\u001b[1;34m\"dummy_readout2__qubit2__reference__sensor1_IQ_buffer\"\u001b[0m\u001b[1;33m)\u001b[0m\u001b[1;33m\n",
       "\u001b[0m        \u001b[0mr9\u001b[0m\u001b[1;33m.\u001b[0m\u001b[0msave_all\u001b[0m\u001b[1;33m(\u001b[0m\u001b[1;34m\"dummy_readout2__qubit2__reference__sensor1_IQ\"\u001b[0m\u001b[1;33m)\u001b[0m\u001b[1;33m\n",
       "\u001b[0m        \u001b[0mr10\u001b[0m\u001b[1;33m.\u001b[0m\u001b[0mbuffer\u001b[0m\u001b[1;33m(\u001b[0m\u001b[1;36m1\u001b[0m\u001b[1;33m)\u001b[0m\u001b[1;33m.\u001b[0m\u001b[0msave\u001b[0m\u001b[1;33m(\u001b[0m\u001b[1;34m\"dummy_readout2__qubit2__read__sensor1_I_buffer\"\u001b[0m\u001b[1;33m)\u001b[0m\u001b[1;33m\n",
       "\u001b[0m        \u001b[0mr10\u001b[0m\u001b[1;33m.\u001b[0m\u001b[0msave_all\u001b[0m\u001b[1;33m(\u001b[0m\u001b[1;34m\"dummy_readout2__qubit2__read__sensor1_I\"\u001b[0m\u001b[1;33m)\u001b[0m\u001b[1;33m\n",
       "\u001b[0m        \u001b[0mr11\u001b[0m\u001b[1;33m.\u001b[0m\u001b[0mbuffer\u001b[0m\u001b[1;33m(\u001b[0m\u001b[1;36m1\u001b[0m\u001b[1;33m)\u001b[0m\u001b[1;33m.\u001b[0m\u001b[0msave\u001b[0m\u001b[1;33m(\u001b[0m\u001b[1;34m\"dummy_readout2__qubit2__read__sensor1_Q_buffer\"\u001b[0m\u001b[1;33m)\u001b[0m\u001b[1;33m\n",
       "\u001b[0m        \u001b[0mr11\u001b[0m\u001b[1;33m.\u001b[0m\u001b[0msave_all\u001b[0m\u001b[1;33m(\u001b[0m\u001b[1;34m\"dummy_readout2__qubit2__read__sensor1_Q\"\u001b[0m\u001b[1;33m)\u001b[0m\u001b[1;33m\n",
       "\u001b[0m        \u001b[0mr12\u001b[0m\u001b[1;33m.\u001b[0m\u001b[0mbuffer\u001b[0m\u001b[1;33m(\u001b[0m\u001b[1;36m1\u001b[0m\u001b[1;33m)\u001b[0m\u001b[1;33m.\u001b[0m\u001b[0msave\u001b[0m\u001b[1;33m(\u001b[0m\u001b[1;34m\"dummy_readout2__qubit2__read__sensor1_IQ_buffer\"\u001b[0m\u001b[1;33m)\u001b[0m\u001b[1;33m\n",
       "\u001b[0m        \u001b[0mr12\u001b[0m\u001b[1;33m.\u001b[0m\u001b[0msave_all\u001b[0m\u001b[1;33m(\u001b[0m\u001b[1;34m\"dummy_readout2__qubit2__read__sensor1_IQ\"\u001b[0m\u001b[1;33m)\u001b[0m\u001b[1;33m\n",
       "\u001b[0m        \u001b[0mr13\u001b[0m\u001b[1;33m.\u001b[0m\u001b[0mbuffer\u001b[0m\u001b[1;33m(\u001b[0m\u001b[1;36m1\u001b[0m\u001b[1;33m)\u001b[0m\u001b[1;33m.\u001b[0m\u001b[0msave\u001b[0m\u001b[1;33m(\u001b[0m\u001b[1;34m\"dummy_readout2__qubit1__diff_buffer\"\u001b[0m\u001b[1;33m)\u001b[0m\u001b[1;33m\n",
       "\u001b[0m        \u001b[0mr13\u001b[0m\u001b[1;33m.\u001b[0m\u001b[0msave_all\u001b[0m\u001b[1;33m(\u001b[0m\u001b[1;34m\"dummy_readout2__qubit1__diff\"\u001b[0m\u001b[1;33m)\u001b[0m\u001b[1;33m\n",
       "\u001b[0m        \u001b[0mr14\u001b[0m\u001b[1;33m.\u001b[0m\u001b[0mbuffer\u001b[0m\u001b[1;33m(\u001b[0m\u001b[1;36m1\u001b[0m\u001b[1;33m)\u001b[0m\u001b[1;33m.\u001b[0m\u001b[0msave\u001b[0m\u001b[1;33m(\u001b[0m\u001b[1;34m\"dummy_readout2__qubit2__diff_buffer\"\u001b[0m\u001b[1;33m)\u001b[0m\u001b[1;33m\n",
       "\u001b[0m        \u001b[0mr14\u001b[0m\u001b[1;33m.\u001b[0m\u001b[0msave_all\u001b[0m\u001b[1;33m(\u001b[0m\u001b[1;34m\"dummy_readout2__qubit2__diff\"\u001b[0m\u001b[1;33m)\u001b[0m\u001b[1;33m\n",
       "\u001b[0m\u001b[1;33m\n",
       "\u001b[0m\u001b[1;33m\n",
       "\u001b[0m\u001b[0mconfig\u001b[0m \u001b[1;33m=\u001b[0m \u001b[1;32mNone\u001b[0m\u001b[1;33m\n",
       "\u001b[0m\u001b[1;33m\n",
       "\u001b[0m\u001b[0mloaded_config\u001b[0m \u001b[1;33m=\u001b[0m \u001b[1;32mNone\u001b[0m\u001b[1;33m\u001b[0m\u001b[1;33m\u001b[0m\u001b[0m"
      ]
     },
     "metadata": {},
     "output_type": "display_data"
    }
   ],
   "source": [
    "qua_program = qm_driver2.get_qua_program()\n",
    "\n",
    "qm_driver.print_qua_program_to_file(\n",
    "    'qua_programs/tut2_double_readout.py', qua_program)\n",
    "from qua_programs import tut2_double_readout\n",
    "tut2_double_readout??"
   ]
  },
  {
   "cell_type": "code",
   "execution_count": null,
   "id": "d16ef7f5-dce6-459b-80a5-ba37e323596b",
   "metadata": {},
   "outputs": [],
   "source": []
  }
 ],
 "metadata": {
  "kernelspec": {
   "display_name": "arbok_env10",
   "language": "python",
   "name": "arbok_env10"
  },
  "language_info": {
   "codemirror_mode": {
    "name": "ipython",
    "version": 3
   },
   "file_extension": ".py",
   "mimetype": "text/x-python",
   "name": "python",
   "nbconvert_exporter": "python",
   "pygments_lexer": "ipython3",
   "version": "3.10.13"
  }
 },
 "nbformat": 4,
 "nbformat_minor": 5
}
