{
 "cells": [
  {
   "cell_type": "markdown",
   "id": "d93bc378-64af-4aae-9d61-9d227e5e0f60",
   "metadata": {},
   "source": [
    "## Readout sequences"
   ]
  },
  {
   "cell_type": "code",
   "execution_count": 1,
   "id": "684be28b-5e0d-4987-88b7-1ac5ebf926d9",
   "metadata": {},
   "outputs": [
    {
     "name": "stdout",
     "output_type": "stream",
     "text": [
      "2024-04-09 11:46:39,047 - qm - INFO     - Starting session: e8b818c5-11e1-426d-bf20-3bc92f30a062\n"
     ]
    }
   ],
   "source": [
    "from arbok_driver import ArbokDriver, Sample, Sequence"
   ]
  },
  {
   "cell_type": "code",
   "execution_count": 2,
   "id": "597f6816-2e00-46e8-9e22-1418692375c4",
   "metadata": {},
   "outputs": [],
   "source": [
    "from example_configs.dummy_sample import dummy_sample\n",
    "from example_sequences.dummy_readout import DummyReadout"
   ]
  },
  {
   "cell_type": "code",
   "execution_count": 3,
   "id": "9d800a93-e089-4f60-a6de-230de09fa58d",
   "metadata": {},
   "outputs": [],
   "source": [
    "qm_driver = ArbokDriver('qm_driver', dummy_sample)\n",
    "dummy_sequence = Sequence('dummy_squence', dummy_sample)\n",
    "qm_driver.add_sequence(dummy_sequence)"
   ]
  },
  {
   "cell_type": "code",
   "execution_count": 4,
   "id": "4d74203e-ce08-43ec-8445-b605dca8393d",
   "metadata": {},
   "outputs": [],
   "source": [
    "readout_sequence_config = {\n",
    "    'parameters': {\n",
    "        't_between_measurements': {\n",
    "            'value': 50,\n",
    "            'unit': 'cycles',\n",
    "        }\n",
    "    },\n",
    "    'signals':{\n",
    "        'qubit1':{\n",
    "            'elements': {\n",
    "                'sensor1': 'readout_element',\n",
    "            },\n",
    "            'readout_points': {\n",
    "                'ref': {\n",
    "                    'method': 'average',\n",
    "                    'desc':'reference point',\n",
    "                    'observables': ['I', 'Q', 'IQ'],\n",
    "                    'save_values': True\n",
    "                },\n",
    "                'read': {\n",
    "                    'method': 'average',\n",
    "                    'desc': 'redout point',\n",
    "                    'observables': ['I', 'Q', 'IQ'],\n",
    "                    'save_values': True\n",
    "                }\n",
    "            }\n",
    "        },\n",
    "    },\n",
    "    'readout_groups': {\n",
    "        'difference': {\n",
    "            'qubit1__diff': {\n",
    "                'method': 'difference',\n",
    "                'name': 'diff',\n",
    "                'args': {\n",
    "                    'signal': 'qubit1',\n",
    "                    'minuend': 'qubit1.ref.sensor1_IQ',\n",
    "                    'subtrahend': 'qubit1.read.sensor1_IQ',\n",
    "                },\n",
    "            },\n",
    "        }\n",
    "    },\n",
    "}"
   ]
  },
  {
   "cell_type": "code",
   "execution_count": 5,
   "id": "73a01938-f7a4-42dd-b049-b01dcda342ea",
   "metadata": {},
   "outputs": [],
   "source": [
    "dummy_readout = DummyReadout('dummy_readout', dummy_sample, readout_sequence_config)\n",
    "dummy_sequence.add_subsequence(dummy_readout)"
   ]
  },
  {
   "cell_type": "code",
   "execution_count": 6,
   "id": "875c61a5-8af8-49c3-b951-f70db8a73b4a",
   "metadata": {},
   "outputs": [
    {
     "data": {
      "text/plain": [
       "\u001b[1;31mType:\u001b[0m        module\n",
       "\u001b[1;31mString form:\u001b[0m <module 'compiled_readout_qua_program' from 'C:\\\\Users\\\\z5440260\\\\GitRepos\\\\arbok_driver\\\\docs\\\\compiled_readout_qua_program.py'>\n",
       "\u001b[1;31mFile:\u001b[0m        c:\\users\\z5440260\\gitrepos\\arbok_driver\\docs\\compiled_readout_qua_program.py\n",
       "\u001b[1;31mSource:\u001b[0m     \n",
       "\u001b[1;33m\n",
       "\u001b[0m\u001b[1;31m# Single QUA script generated at 2024-04-08 12:02:21.036907\u001b[0m\u001b[1;33m\n",
       "\u001b[0m\u001b[1;31m# QUA library version: 1.1.6\u001b[0m\u001b[1;33m\n",
       "\u001b[0m\u001b[1;33m\n",
       "\u001b[0m\u001b[1;32mfrom\u001b[0m \u001b[0mqm\u001b[0m\u001b[1;33m.\u001b[0m\u001b[0mqua\u001b[0m \u001b[1;32mimport\u001b[0m \u001b[1;33m*\u001b[0m\u001b[1;33m\n",
       "\u001b[0m\u001b[1;33m\n",
       "\u001b[0m\u001b[1;32mwith\u001b[0m \u001b[0mprogram\u001b[0m\u001b[1;33m(\u001b[0m\u001b[1;33m)\u001b[0m \u001b[1;32mas\u001b[0m \u001b[0mprog\u001b[0m\u001b[1;33m:\u001b[0m\u001b[1;33m\n",
       "\u001b[0m    \u001b[0mv1\u001b[0m \u001b[1;33m=\u001b[0m \u001b[0mdeclare\u001b[0m\u001b[1;33m(\u001b[0m\u001b[0mint\u001b[0m\u001b[1;33m,\u001b[0m \u001b[1;33m)\u001b[0m\u001b[1;33m\n",
       "\u001b[0m    \u001b[0mv2\u001b[0m \u001b[1;33m=\u001b[0m \u001b[0mdeclare\u001b[0m\u001b[1;33m(\u001b[0m\u001b[0mfixed\u001b[0m\u001b[1;33m,\u001b[0m \u001b[1;33m)\u001b[0m\u001b[1;33m\n",
       "\u001b[0m    \u001b[0mv3\u001b[0m \u001b[1;33m=\u001b[0m \u001b[0mdeclare\u001b[0m\u001b[1;33m(\u001b[0m\u001b[0mfixed\u001b[0m\u001b[1;33m,\u001b[0m \u001b[1;33m)\u001b[0m\u001b[1;33m\n",
       "\u001b[0m    \u001b[0mv4\u001b[0m \u001b[1;33m=\u001b[0m \u001b[0mdeclare\u001b[0m\u001b[1;33m(\u001b[0m\u001b[0mfixed\u001b[0m\u001b[1;33m,\u001b[0m \u001b[1;33m)\u001b[0m\u001b[1;33m\n",
       "\u001b[0m    \u001b[0mv5\u001b[0m \u001b[1;33m=\u001b[0m \u001b[0mdeclare\u001b[0m\u001b[1;33m(\u001b[0m\u001b[0mfixed\u001b[0m\u001b[1;33m,\u001b[0m \u001b[1;33m)\u001b[0m\u001b[1;33m\n",
       "\u001b[0m    \u001b[0mv6\u001b[0m \u001b[1;33m=\u001b[0m \u001b[0mdeclare\u001b[0m\u001b[1;33m(\u001b[0m\u001b[0mfixed\u001b[0m\u001b[1;33m,\u001b[0m \u001b[1;33m)\u001b[0m\u001b[1;33m\n",
       "\u001b[0m    \u001b[0mv7\u001b[0m \u001b[1;33m=\u001b[0m \u001b[0mdeclare\u001b[0m\u001b[1;33m(\u001b[0m\u001b[0mfixed\u001b[0m\u001b[1;33m,\u001b[0m \u001b[1;33m)\u001b[0m\u001b[1;33m\n",
       "\u001b[0m    \u001b[0mv8\u001b[0m \u001b[1;33m=\u001b[0m \u001b[0mdeclare\u001b[0m\u001b[1;33m(\u001b[0m\u001b[0mfixed\u001b[0m\u001b[1;33m,\u001b[0m \u001b[1;33m)\u001b[0m\u001b[1;33m\n",
       "\u001b[0m    \u001b[0mv9\u001b[0m \u001b[1;33m=\u001b[0m \u001b[0mdeclare\u001b[0m\u001b[1;33m(\u001b[0m\u001b[0mint\u001b[0m\u001b[1;33m,\u001b[0m \u001b[1;33m)\u001b[0m\u001b[1;33m\n",
       "\u001b[0m    \u001b[1;32mwith\u001b[0m \u001b[0minfinite_loop_\u001b[0m\u001b[1;33m(\u001b[0m\u001b[1;33m)\u001b[0m\u001b[1;33m:\u001b[0m\u001b[1;33m\n",
       "\u001b[0m        \u001b[0mpause\u001b[0m\u001b[1;33m(\u001b[0m\u001b[1;33m)\u001b[0m\u001b[1;33m\n",
       "\u001b[0m        \u001b[1;32mwith\u001b[0m \u001b[0mfor_\u001b[0m\u001b[1;33m(\u001b[0m\u001b[0mv1\u001b[0m\u001b[1;33m,\u001b[0m\u001b[1;36m0\u001b[0m\u001b[1;33m,\u001b[0m\u001b[1;33m(\u001b[0m\u001b[0mv1\u001b[0m\u001b[1;33m<\u001b[0m\u001b[1;36m1.125\u001b[0m\u001b[1;33m)\u001b[0m\u001b[1;33m,\u001b[0m\u001b[1;33m(\u001b[0m\u001b[0mv1\u001b[0m\u001b[1;33m+\u001b[0m\u001b[1;36m0.25\u001b[0m\u001b[1;33m)\u001b[0m\u001b[1;33m)\u001b[0m\u001b[1;33m:\u001b[0m\u001b[1;33m\n",
       "\u001b[0m            \u001b[0malign\u001b[0m\u001b[1;33m(\u001b[0m\u001b[1;33m)\u001b[0m\u001b[1;33m\n",
       "\u001b[0m            \u001b[0mplay\u001b[0m\u001b[1;33m(\u001b[0m\u001b[1;34m\"ramp\"\u001b[0m\u001b[1;33m*\u001b[0m\u001b[0mamp\u001b[0m\u001b[1;33m(\u001b[0m\u001b[0mv1\u001b[0m\u001b[1;33m)\u001b[0m\u001b[1;33m,\u001b[0m \u001b[1;34m\"gate_1\"\u001b[0m\u001b[1;33m)\u001b[0m\u001b[1;33m\n",
       "\u001b[0m            \u001b[0mwait\u001b[0m\u001b[1;33m(\u001b[0m\u001b[1;36m100\u001b[0m\u001b[1;33m,\u001b[0m \u001b[1;34m\"gate_1\"\u001b[0m\u001b[1;33m)\u001b[0m\u001b[1;33m\n",
       "\u001b[0m            \u001b[0mplay\u001b[0m\u001b[1;33m(\u001b[0m\u001b[1;34m\"ramp\"\u001b[0m\u001b[1;33m*\u001b[0m\u001b[0mamp\u001b[0m\u001b[1;33m(\u001b[0m\u001b[1;33m(\u001b[0m\u001b[1;36m0\u001b[0m\u001b[1;33m-\u001b[0m\u001b[0mv1\u001b[0m\u001b[1;33m)\u001b[0m\u001b[1;33m)\u001b[0m\u001b[1;33m,\u001b[0m \u001b[1;34m\"gate_1\"\u001b[0m\u001b[1;33m)\u001b[0m\u001b[1;33m\n",
       "\u001b[0m            \u001b[0malign\u001b[0m\u001b[1;33m(\u001b[0m\u001b[1;33m)\u001b[0m\u001b[1;33m\n",
       "\u001b[0m            \u001b[0mmeasure\u001b[0m\u001b[1;33m(\u001b[0m\u001b[1;34m\"measure\"\u001b[0m\u001b[1;33m,\u001b[0m \u001b[1;34m\"readout_element\"\u001b[0m\u001b[1;33m,\u001b[0m \u001b[1;32mNone\u001b[0m\u001b[1;33m,\u001b[0m \u001b[0mintegration\u001b[0m\u001b[1;33m.\u001b[0m\u001b[0mfull\u001b[0m\u001b[1;33m(\u001b[0m\u001b[1;34m\"x\"\u001b[0m\u001b[1;33m,\u001b[0m \u001b[0mv2\u001b[0m\u001b[1;33m,\u001b[0m \u001b[1;34m\"\"\u001b[0m\u001b[1;33m)\u001b[0m\u001b[1;33m,\u001b[0m \u001b[0mintegration\u001b[0m\u001b[1;33m.\u001b[0m\u001b[0mfull\u001b[0m\u001b[1;33m(\u001b[0m\u001b[1;34m\"y\"\u001b[0m\u001b[1;33m,\u001b[0m \u001b[0mv3\u001b[0m\u001b[1;33m,\u001b[0m \u001b[1;34m\"\"\u001b[0m\u001b[1;33m)\u001b[0m\u001b[1;33m)\u001b[0m\u001b[1;33m\n",
       "\u001b[0m            \u001b[0massign\u001b[0m\u001b[1;33m(\u001b[0m\u001b[0mv4\u001b[0m\u001b[1;33m,\u001b[0m \u001b[1;33m(\u001b[0m\u001b[0mv2\u001b[0m\u001b[1;33m+\u001b[0m\u001b[0mv3\u001b[0m\u001b[1;33m)\u001b[0m\u001b[1;33m)\u001b[0m\u001b[1;33m\n",
       "\u001b[0m            \u001b[0mr1\u001b[0m \u001b[1;33m=\u001b[0m \u001b[0mdeclare_stream\u001b[0m\u001b[1;33m(\u001b[0m\u001b[1;33m)\u001b[0m\u001b[1;33m\n",
       "\u001b[0m            \u001b[0msave\u001b[0m\u001b[1;33m(\u001b[0m\u001b[0mv2\u001b[0m\u001b[1;33m,\u001b[0m \u001b[0mr1\u001b[0m\u001b[1;33m)\u001b[0m\u001b[1;33m\n",
       "\u001b[0m            \u001b[0mr2\u001b[0m \u001b[1;33m=\u001b[0m \u001b[0mdeclare_stream\u001b[0m\u001b[1;33m(\u001b[0m\u001b[1;33m)\u001b[0m\u001b[1;33m\n",
       "\u001b[0m            \u001b[0msave\u001b[0m\u001b[1;33m(\u001b[0m\u001b[0mv3\u001b[0m\u001b[1;33m,\u001b[0m \u001b[0mr2\u001b[0m\u001b[1;33m)\u001b[0m\u001b[1;33m\n",
       "\u001b[0m            \u001b[0mr3\u001b[0m \u001b[1;33m=\u001b[0m \u001b[0mdeclare_stream\u001b[0m\u001b[1;33m(\u001b[0m\u001b[1;33m)\u001b[0m\u001b[1;33m\n",
       "\u001b[0m            \u001b[0msave\u001b[0m\u001b[1;33m(\u001b[0m\u001b[0mv4\u001b[0m\u001b[1;33m,\u001b[0m \u001b[0mr3\u001b[0m\u001b[1;33m)\u001b[0m\u001b[1;33m\n",
       "\u001b[0m            \u001b[0mwait\u001b[0m\u001b[1;33m(\u001b[0m\u001b[1;36m50\u001b[0m\u001b[1;33m,\u001b[0m \u001b[1;33m)\u001b[0m\u001b[1;33m\n",
       "\u001b[0m            \u001b[0mmeasure\u001b[0m\u001b[1;33m(\u001b[0m\u001b[1;34m\"measure\"\u001b[0m\u001b[1;33m,\u001b[0m \u001b[1;34m\"readout_element\"\u001b[0m\u001b[1;33m,\u001b[0m \u001b[1;32mNone\u001b[0m\u001b[1;33m,\u001b[0m \u001b[0mintegration\u001b[0m\u001b[1;33m.\u001b[0m\u001b[0mfull\u001b[0m\u001b[1;33m(\u001b[0m\u001b[1;34m\"x\"\u001b[0m\u001b[1;33m,\u001b[0m \u001b[0mv5\u001b[0m\u001b[1;33m,\u001b[0m \u001b[1;34m\"\"\u001b[0m\u001b[1;33m)\u001b[0m\u001b[1;33m,\u001b[0m \u001b[0mintegration\u001b[0m\u001b[1;33m.\u001b[0m\u001b[0mfull\u001b[0m\u001b[1;33m(\u001b[0m\u001b[1;34m\"y\"\u001b[0m\u001b[1;33m,\u001b[0m \u001b[0mv6\u001b[0m\u001b[1;33m,\u001b[0m \u001b[1;34m\"\"\u001b[0m\u001b[1;33m)\u001b[0m\u001b[1;33m)\u001b[0m\u001b[1;33m\n",
       "\u001b[0m            \u001b[0massign\u001b[0m\u001b[1;33m(\u001b[0m\u001b[0mv7\u001b[0m\u001b[1;33m,\u001b[0m \u001b[1;33m(\u001b[0m\u001b[0mv5\u001b[0m\u001b[1;33m+\u001b[0m\u001b[0mv6\u001b[0m\u001b[1;33m)\u001b[0m\u001b[1;33m)\u001b[0m\u001b[1;33m\n",
       "\u001b[0m            \u001b[0mr4\u001b[0m \u001b[1;33m=\u001b[0m \u001b[0mdeclare_stream\u001b[0m\u001b[1;33m(\u001b[0m\u001b[1;33m)\u001b[0m\u001b[1;33m\n",
       "\u001b[0m            \u001b[0msave\u001b[0m\u001b[1;33m(\u001b[0m\u001b[0mv5\u001b[0m\u001b[1;33m,\u001b[0m \u001b[0mr4\u001b[0m\u001b[1;33m)\u001b[0m\u001b[1;33m\n",
       "\u001b[0m            \u001b[0mr5\u001b[0m \u001b[1;33m=\u001b[0m \u001b[0mdeclare_stream\u001b[0m\u001b[1;33m(\u001b[0m\u001b[1;33m)\u001b[0m\u001b[1;33m\n",
       "\u001b[0m            \u001b[0msave\u001b[0m\u001b[1;33m(\u001b[0m\u001b[0mv6\u001b[0m\u001b[1;33m,\u001b[0m \u001b[0mr5\u001b[0m\u001b[1;33m)\u001b[0m\u001b[1;33m\n",
       "\u001b[0m            \u001b[0mr6\u001b[0m \u001b[1;33m=\u001b[0m \u001b[0mdeclare_stream\u001b[0m\u001b[1;33m(\u001b[0m\u001b[1;33m)\u001b[0m\u001b[1;33m\n",
       "\u001b[0m            \u001b[0msave\u001b[0m\u001b[1;33m(\u001b[0m\u001b[0mv7\u001b[0m\u001b[1;33m,\u001b[0m \u001b[0mr6\u001b[0m\u001b[1;33m)\u001b[0m\u001b[1;33m\n",
       "\u001b[0m            \u001b[0massign\u001b[0m\u001b[1;33m(\u001b[0m\u001b[0mv8\u001b[0m\u001b[1;33m,\u001b[0m \u001b[1;33m(\u001b[0m\u001b[0mv4\u001b[0m\u001b[1;33m-\u001b[0m\u001b[0mv7\u001b[0m\u001b[1;33m)\u001b[0m\u001b[1;33m)\u001b[0m\u001b[1;33m\n",
       "\u001b[0m            \u001b[0mr7\u001b[0m \u001b[1;33m=\u001b[0m \u001b[0mdeclare_stream\u001b[0m\u001b[1;33m(\u001b[0m\u001b[1;33m)\u001b[0m\u001b[1;33m\n",
       "\u001b[0m            \u001b[0msave\u001b[0m\u001b[1;33m(\u001b[0m\u001b[0mv8\u001b[0m\u001b[1;33m,\u001b[0m \u001b[0mr7\u001b[0m\u001b[1;33m)\u001b[0m\u001b[1;33m\n",
       "\u001b[0m    \u001b[1;32mwith\u001b[0m \u001b[0mstream_processing\u001b[0m\u001b[1;33m(\u001b[0m\u001b[1;33m)\u001b[0m\u001b[1;33m:\u001b[0m\u001b[1;33m\n",
       "\u001b[0m        \u001b[0mr1\u001b[0m\u001b[1;33m.\u001b[0m\u001b[0mbuffer\u001b[0m\u001b[1;33m(\u001b[0m\u001b[1;36m5\u001b[0m\u001b[1;33m)\u001b[0m\u001b[1;33m.\u001b[0m\u001b[0msave\u001b[0m\u001b[1;33m(\u001b[0m\u001b[1;34m\"dummy_readout_qubit1__ref__sensor1_I_buffer\"\u001b[0m\u001b[1;33m)\u001b[0m\u001b[1;33m\n",
       "\u001b[0m        \u001b[0mr1\u001b[0m\u001b[1;33m.\u001b[0m\u001b[0msave_all\u001b[0m\u001b[1;33m(\u001b[0m\u001b[1;34m\"dummy_readout_qubit1__ref__sensor1_I\"\u001b[0m\u001b[1;33m)\u001b[0m\u001b[1;33m\n",
       "\u001b[0m        \u001b[0mr2\u001b[0m\u001b[1;33m.\u001b[0m\u001b[0mbuffer\u001b[0m\u001b[1;33m(\u001b[0m\u001b[1;36m5\u001b[0m\u001b[1;33m)\u001b[0m\u001b[1;33m.\u001b[0m\u001b[0msave\u001b[0m\u001b[1;33m(\u001b[0m\u001b[1;34m\"dummy_readout_qubit1__ref__sensor1_Q_buffer\"\u001b[0m\u001b[1;33m)\u001b[0m\u001b[1;33m\n",
       "\u001b[0m        \u001b[0mr2\u001b[0m\u001b[1;33m.\u001b[0m\u001b[0msave_all\u001b[0m\u001b[1;33m(\u001b[0m\u001b[1;34m\"dummy_readout_qubit1__ref__sensor1_Q\"\u001b[0m\u001b[1;33m)\u001b[0m\u001b[1;33m\n",
       "\u001b[0m        \u001b[0mr3\u001b[0m\u001b[1;33m.\u001b[0m\u001b[0mbuffer\u001b[0m\u001b[1;33m(\u001b[0m\u001b[1;36m5\u001b[0m\u001b[1;33m)\u001b[0m\u001b[1;33m.\u001b[0m\u001b[0msave\u001b[0m\u001b[1;33m(\u001b[0m\u001b[1;34m\"dummy_readout_qubit1__ref__sensor1_IQ_buffer\"\u001b[0m\u001b[1;33m)\u001b[0m\u001b[1;33m\n",
       "\u001b[0m        \u001b[0mr3\u001b[0m\u001b[1;33m.\u001b[0m\u001b[0msave_all\u001b[0m\u001b[1;33m(\u001b[0m\u001b[1;34m\"dummy_readout_qubit1__ref__sensor1_IQ\"\u001b[0m\u001b[1;33m)\u001b[0m\u001b[1;33m\n",
       "\u001b[0m        \u001b[0mr4\u001b[0m\u001b[1;33m.\u001b[0m\u001b[0mbuffer\u001b[0m\u001b[1;33m(\u001b[0m\u001b[1;36m5\u001b[0m\u001b[1;33m)\u001b[0m\u001b[1;33m.\u001b[0m\u001b[0msave\u001b[0m\u001b[1;33m(\u001b[0m\u001b[1;34m\"dummy_readout_qubit1__read__sensor1_I_buffer\"\u001b[0m\u001b[1;33m)\u001b[0m\u001b[1;33m\n",
       "\u001b[0m        \u001b[0mr4\u001b[0m\u001b[1;33m.\u001b[0m\u001b[0msave_all\u001b[0m\u001b[1;33m(\u001b[0m\u001b[1;34m\"dummy_readout_qubit1__read__sensor1_I\"\u001b[0m\u001b[1;33m)\u001b[0m\u001b[1;33m\n",
       "\u001b[0m        \u001b[0mr5\u001b[0m\u001b[1;33m.\u001b[0m\u001b[0mbuffer\u001b[0m\u001b[1;33m(\u001b[0m\u001b[1;36m5\u001b[0m\u001b[1;33m)\u001b[0m\u001b[1;33m.\u001b[0m\u001b[0msave\u001b[0m\u001b[1;33m(\u001b[0m\u001b[1;34m\"dummy_readout_qubit1__read__sensor1_Q_buffer\"\u001b[0m\u001b[1;33m)\u001b[0m\u001b[1;33m\n",
       "\u001b[0m        \u001b[0mr5\u001b[0m\u001b[1;33m.\u001b[0m\u001b[0msave_all\u001b[0m\u001b[1;33m(\u001b[0m\u001b[1;34m\"dummy_readout_qubit1__read__sensor1_Q\"\u001b[0m\u001b[1;33m)\u001b[0m\u001b[1;33m\n",
       "\u001b[0m        \u001b[0mr6\u001b[0m\u001b[1;33m.\u001b[0m\u001b[0mbuffer\u001b[0m\u001b[1;33m(\u001b[0m\u001b[1;36m5\u001b[0m\u001b[1;33m)\u001b[0m\u001b[1;33m.\u001b[0m\u001b[0msave\u001b[0m\u001b[1;33m(\u001b[0m\u001b[1;34m\"dummy_readout_qubit1__read__sensor1_IQ_buffer\"\u001b[0m\u001b[1;33m)\u001b[0m\u001b[1;33m\n",
       "\u001b[0m        \u001b[0mr6\u001b[0m\u001b[1;33m.\u001b[0m\u001b[0msave_all\u001b[0m\u001b[1;33m(\u001b[0m\u001b[1;34m\"dummy_readout_qubit1__read__sensor1_IQ\"\u001b[0m\u001b[1;33m)\u001b[0m\u001b[1;33m\n",
       "\u001b[0m        \u001b[0mr7\u001b[0m\u001b[1;33m.\u001b[0m\u001b[0mbuffer\u001b[0m\u001b[1;33m(\u001b[0m\u001b[1;36m5\u001b[0m\u001b[1;33m)\u001b[0m\u001b[1;33m.\u001b[0m\u001b[0msave\u001b[0m\u001b[1;33m(\u001b[0m\u001b[1;34m\"dummy_readout_qubit1__diff_buffer\"\u001b[0m\u001b[1;33m)\u001b[0m\u001b[1;33m\n",
       "\u001b[0m        \u001b[0mr7\u001b[0m\u001b[1;33m.\u001b[0m\u001b[0msave_all\u001b[0m\u001b[1;33m(\u001b[0m\u001b[1;34m\"dummy_readout_qubit1__diff\"\u001b[0m\u001b[1;33m)\u001b[0m\u001b[1;33m\n",
       "\u001b[0m\u001b[1;33m\n",
       "\u001b[0m\u001b[1;33m\n",
       "\u001b[0m\u001b[0mconfig\u001b[0m \u001b[1;33m=\u001b[0m \u001b[1;32mNone\u001b[0m\u001b[1;33m\n",
       "\u001b[0m\u001b[1;33m\n",
       "\u001b[0m\u001b[0mloaded_config\u001b[0m \u001b[1;33m=\u001b[0m \u001b[1;32mNone\u001b[0m\u001b[1;33m\u001b[0m\u001b[1;33m\u001b[0m\u001b[0m"
      ]
     },
     "metadata": {},
     "output_type": "display_data"
    }
   ],
   "source": [
    "qua_program = qm_driver.get_qua_program()\n",
    "qm_driver.print_qua_program_to_file(\n",
    "    'readout_qua_program.py', qua_program)\n",
    "import compiled_readout_qua_program\n",
    "compiled_readout_qua_program??"
   ]
  }
 ],
 "metadata": {
  "kernelspec": {
   "display_name": "arbok_env10",
   "language": "python",
   "name": "arbok_env10"
  },
  "language_info": {
   "codemirror_mode": {
    "name": "ipython",
    "version": 3
   },
   "file_extension": ".py",
   "mimetype": "text/x-python",
   "name": "python",
   "nbconvert_exporter": "python",
   "pygments_lexer": "ipython3",
   "version": "3.10.13"
  }
 },
 "nbformat": 4,
 "nbformat_minor": 5
}
