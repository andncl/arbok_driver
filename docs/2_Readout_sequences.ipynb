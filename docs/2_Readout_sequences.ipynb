{
 "cells": [
  {
   "cell_type": "markdown",
   "id": "d93bc378-64af-4aae-9d61-9d227e5e0f60",
   "metadata": {},
   "source": [
    "## Tutorial 2) Readout sequences"
   ]
  },
  {
   "cell_type": "markdown",
   "id": "49c48298-f88a-46f4-93a9-6e9ec9b644ef",
   "metadata": {},
   "source": [
    "## 0. Introduction"
   ]
  },
  {
   "cell_type": "markdown",
   "id": "118d6201-e4e3-4227-a878-48082f955622",
   "metadata": {},
   "source": [
    "The first tutorial demonstrated sequence writing and parameterisation with configuration files was demonstrated.\n",
    "This enables user to apply and quantify any waveform on the instrument outputs.\n",
    "\n",
    "Playing arbitrary waveforms is one part of qubit experiments, reading them out is equally crucial.\n",
    "In this tutorial we explain the concept of `ReadSequence`s and how to use them. \n",
    "\n",
    "The tutorial is structured in the following way:\n",
    "1. The basic `ReadSequence` architecture\n",
    "2. Configuring a dummy readout sequence\n",
    "3. Compiling the Sequence to QUA code\n",
    "4. Parameter sweeps and measurements\n",
    "5. Scaling readout sequences to bigger systems\n",
    "\n",
    "Chapter 1-4 demonstrates how a `ReadSequence` is built, how to configure and how to compile it. Part 4 connects this with sweeps of arbitrary parameters and part 5 demonstrates how to scale up the examined systems without altering the ReadSequence class."
   ]
  },
  {
   "cell_type": "markdown",
   "id": "878a631b-4d2f-4970-ae53-1952bbbd2d1f",
   "metadata": {},
   "source": [
    "## 1. The basic `ReadSequence` architecture"
   ]
  },
  {
   "cell_type": "markdown",
   "id": "517bcdb6-c3a3-4071-98bd-521c187c8a47",
   "metadata": {},
   "source": [
    "`ReadSequence`\\\n",
    "The ReadSeqeunce is a child class of the SubSequence which we explored in Tutorial 1. Arbitrary waveforms can still be played, parameterised and swept.\n",
    "The ReadSequence is meant to handle measurement sequences and describe them in a device agnostic way. For this the classes in the rest of this list are introduced. They all relate to a single given ReadSequence.\n",
    "\n",
    "`Signal`\\\n",
    "Signals represent one or more measurement results from a single physical entity (e.g qubit, SET, quantum dot etc.) A ReadSequence can have an arbitrary number of Signal instances.\n",
    "\n",
    "`Observable`\\\n",
    "Each observable handles a single result that is being accquired during the execution of a ReadSequence. Observables store the qua variables that store measurement results temporarily and the streams (to be discussed later) they are saved to. Each result is assigned to a single signal instance.\n",
    "\n",
    "`ReadoutPoint`\\\n",
    "A readout point describes a direct readout of a given quantum element at a different 'point' (e.g in voltage or frequency space).\n",
    "Qua commands describing this measurement are given in the `qua_measure` method.\n",
    "Per Readout point, multiple observables can be introduced whose FPGA variables are automatically declared, assigned and saved to the correct stream (discussed later) by this class.\n",
    "\n",
    "`AbstractReadout`\\\n",
    "The AbstractReadout works similarly to the ReadoutPoint but gives you all the freedom. Qua commands can be executed, arbitrary arguments like observables from other AbstractReadouts or even ReadoutPoints can be passed as arguments to process them further. in comparison to the ReadoutPoint, the results (observables) of an AbstractReadout can be assigned to ANY given signal."
   ]
  },
  {
   "cell_type": "markdown",
   "id": "cc758dda-b459-46f6-bc26-ec14a93d2218",
   "metadata": {},
   "source": [
    "This might seem a bit abstract on the first glace but will be a lot more clear after looking how this works in action."
   ]
  },
  {
   "cell_type": "markdown",
   "id": "a77db35c-50ee-49b8-b9d6-bd9654e3d041",
   "metadata": {},
   "source": [
    "<img src=\"images/readout_sequence_scheme.svg\">"
   ]
  },
  {
   "cell_type": "markdown",
   "id": "d02d63b1-c1d1-4a5f-a37f-f339627562d9",
   "metadata": {},
   "source": [
    "This scheme can be further visualised by comparing this with the configuration we will use in this tutorial."
   ]
  },
  {
   "cell_type": "markdown",
   "id": "08e408ee-4a70-4d1d-89b8-d347fb1c47ee",
   "metadata": {},
   "source": [
    "## 2. Configuring a dummy readout sequence"
   ]
  },
  {
   "cell_type": "markdown",
   "id": "4fe8d5df-9bda-44ab-82da-6c3de7e1c472",
   "metadata": {},
   "source": [
    "### 2.1 The three parts of the configuration"
   ]
  },
  {
   "cell_type": "markdown",
   "id": "a6633382-3a7a-4d0a-9148-1e308a18bdc9",
   "metadata": {},
   "source": [
    "The following example may seem overwhelming at first, but can easily be sliced into logical blocks.\n",
    "\n",
    "The given dictionary has **three** keys.\n",
    "\n",
    "1) The 'parameters' section acts identically to the configuration of a `SubSequence` that we discussed before. Parameters are created according to provided names, values, units etc.\n",
    "2) The 'signals' section defines the physical entities we want to measure that are grouped into `Signal`s. To define a signal, the involved readout elements of the quantum machine need to be provided as well as its `ReadoutPoints` that are being used in the measurement.\n",
    "3) The last key is the 'readout_groups' within which multiple logical groups are defined that again contain configurations for `AbstractReadout`s. Those groups are convenient if you want to execute many readout operations at the same time. An abstract readout is simply configured by giving the desired **'method'** (1), a **name** under which the result should be stored on the signal (2) and the **arguments** that are required for the given 'method' (3).\n"
   ]
  },
  {
   "cell_type": "code",
   "execution_count": null,
   "id": "4d74203e-ce08-43ec-8445-b605dca8393d",
   "metadata": {},
   "outputs": [],
   "source": [
    "from arbok_driver.parameter_types import Voltage, Time\n",
    "\n",
    "readout_sequence_config = {\n",
    "    'parameters': {\n",
    "        't_between_measurements': {\n",
    "            'value': 50,\n",
    "            'type': Time,\n",
    "        }\n",
    "    },\n",
    "    'signals':{\n",
    "        'qubit1':{\n",
    "            'elements': {\n",
    "                'sensor1': 'readout_element',\n",
    "            },\n",
    "            'readout_points': {\n",
    "                'reference': {\n",
    "                    'method': 'average',\n",
    "                    'desc':'reference point',\n",
    "                    'observables': ['I', 'Q', 'IQ'],\n",
    "                    'save_values': True\n",
    "                },\n",
    "                'read': {\n",
    "                    'method': 'average',\n",
    "                    'desc': 'readout point',\n",
    "                    'observables': ['I', 'Q', 'IQ'],\n",
    "                    'save_values': True\n",
    "                }\n",
    "            }\n",
    "        },\n",
    "    },\n",
    "    'readout_groups': {\n",
    "        'difference': {\n",
    "            'qubit1__diff': {\n",
    "                'method': 'difference',\n",
    "                'name': 'diff',\n",
    "                'args': {\n",
    "                    'signal': 'qubit1',\n",
    "                    'minuend': 'qubit1.reference.sensor1_IQ',\n",
    "                    'subtrahend': 'qubit1.read.sensor1_IQ',\n",
    "                },\n",
    "            },\n",
    "        }\n",
    "    },\n",
    "}"
   ]
  },
  {
   "cell_type": "markdown",
   "id": "5a186cf9-a580-4705-a6bf-1d9b18afaf45",
   "metadata": {},
   "source": [
    "### 2.2 Writing custom `Readsequence`s"
   ]
  },
  {
   "cell_type": "markdown",
   "id": "efd9f6c8-7262-4317-b514-cc37f5d7056d",
   "metadata": {},
   "source": [
    "In the next step we will have a look at a custom `ReadSequence` that takes a 'reference' and a 'read' measurement for each signal that has those `ReadPoint`s provided.\n",
    "After that the difference between those acquired results is calculated (in real time on the FPGA) and saved in the respective buffer."
   ]
  },
  {
   "cell_type": "code",
   "execution_count": null,
   "id": "684be28b-5e0d-4987-88b7-1ac5ebf926d9",
   "metadata": {},
   "outputs": [],
   "source": [
    "from example_configs.dummy_sample import dummy_sample\n",
    "from example_sequences.dummy_readout import DummyReadout"
   ]
  },
  {
   "cell_type": "markdown",
   "id": "0c3e0d78-820e-408f-89cc-0b5aa2bc0c28",
   "metadata": {},
   "source": [
    "Let us have a look at the source code for `DummyReadout`. Writing a custom class can be quite simple as only two methods need to be provided:\n",
    "\n",
    "`__init__`:\\\n",
    "This constructor is called when the class is instantiated. We need to provide a name, the used `Sample` and a configuration as given above.\n",
    "Within `DummyReadout`'s constructor, the parent's (`ReadSequence.__init__`) constructor is being called using super(). All arguments are forwarded to the parent and the available types of `ReadoutPoint`s and `AbstractReadout`s are being passed as well. All keys provided in those dictionaries can be used in the 'method' section of the sequence configuration discussed above.\n",
    "\n",
    "`qua_sequence`:\\\n",
    "This method contains qua commands to be executed on the hardware defining our measurement. In this example not a lot of explicit qua code can be seen, but rather method calls to `qua_measure_and_save`. Those helper classes store the respective qua code in their own methods. \n",
    "It can be seen that explicit FPGA variable declaration and stream/memory management is not required. This is all handled automatically by the given observables. Remember, an `Observable` is always responsible for a single measurement result and stores its qua variables and data streams and puts them in the correct place in the qua program."
   ]
  },
  {
   "cell_type": "code",
   "execution_count": null,
   "id": "48101b8d-b53d-4532-825b-12d6a2409e72",
   "metadata": {},
   "outputs": [],
   "source": [
    "DummyReadout??"
   ]
  },
  {
   "cell_type": "markdown",
   "id": "5b43c11e-cdcc-4ede-82b0-e933f5e5b1f2",
   "metadata": {},
   "source": [
    "For the sake of readability jupyter inline tools from rich are imported."
   ]
  },
  {
   "cell_type": "code",
   "execution_count": null,
   "id": "5f6b1e0b-661a-4537-bc61-8ed9904f4161",
   "metadata": {},
   "outputs": [],
   "source": [
    "%load_ext rich"
   ]
  },
  {
   "cell_type": "markdown",
   "id": "9436321b-5f02-4d10-bf81-b9e062490c7d",
   "metadata": {},
   "source": [
    "As in tutorial 1, an `ArbokDriver` and an empty `Sequence` is created to which we add our dummy_readout."
   ]
  },
  {
   "cell_type": "code",
   "execution_count": null,
   "id": "9de6b87b-03a0-4710-bce8-e7e53261aeee",
   "metadata": {},
   "outputs": [],
   "source": [
    "from arbok_driver import ArbokDriver, Sample, Measurement\n",
    "qm_driver = ArbokDriver('qm_driver', dummy_sample)\n",
    "dummy_sequence = Sequence(qm_driver, 'dummy_squence', dummy_sample)\n",
    "\n",
    "dummy_readout = DummyReadout(dummy_sequence, 'dummy_readout', dummy_sample, readout_sequence_config)"
   ]
  },
  {
   "cell_type": "markdown",
   "id": "c238f851-c758-4029-89f6-d69e17c9ce87",
   "metadata": {},
   "source": [
    "With the discussed configuration, a sample object and the dummy readout class above, we instantiated a DummyReadout."
   ]
  },
  {
   "cell_type": "markdown",
   "id": "4c3cf0e8-8c51-48dd-b650-cf1879cb06ae",
   "metadata": {},
   "source": [
    "### 2.3 Attributes and helpers of `ReadSequence`"
   ]
  },
  {
   "cell_type": "markdown",
   "id": "8f248039-4ba8-4617-9088-29b3e69ec61e",
   "metadata": {},
   "source": [
    "In this section we will explore the attributes and helper of a `ReadSeqeunce` that a user can interact with after instantiation with a configuration file. The given examples use the previously discussed `DummyReadout` and the example configuration from the section before that. "
   ]
  },
  {
   "cell_type": "markdown",
   "id": "17fa78b9-5c54-48b8-8d3d-f94a894fd907",
   "metadata": {},
   "source": [
    "The easiest way to quickly inspect any qcodes instrument is to call its `print_readable_snapshot` method."
   ]
  },
  {
   "cell_type": "markdown",
   "id": "bdaa9595-fbb0-48c3-8e2d-545ae709c4f6",
   "metadata": {},
   "source": [
    "#### 2.3.1 Parameters"
   ]
  },
  {
   "cell_type": "markdown",
   "id": "2998e4e1-647e-43b8-86cc-f64242647cd6",
   "metadata": {},
   "source": [
    "First of all, a standard `SequenceParameter` can be found. This is the one we defined in the 'parameters' section of the configuration above as 't_between_measurements' and behaves exactly as a parameter in a simple `SubSequence`.\n",
    "\n",
    "Then many parameters with rather lengthy names can be found whose value is given as 'Not available'. Those are the 'GettableParameters' we will be able to measure once the program is run on the hardware. Their names are always unique since sequence and signal names have to be unique as well. Therefore those names are used as well to define streams within qua."
   ]
  },
  {
   "cell_type": "code",
   "execution_count": null,
   "id": "4455b28b-f93a-4ab7-9a01-a0eacc446a41",
   "metadata": {},
   "outputs": [],
   "source": [
    "dummy_readout.print_readable_snapshot()"
   ]
  },
  {
   "cell_type": "markdown",
   "id": "f76f4074-d790-4864-a589-d04d115703de",
   "metadata": {},
   "source": [
    "#### 2.3.2 Observables"
   ]
  },
  {
   "cell_type": "markdown",
   "id": "97568aa2-a646-4763-a0e7-9b1ead958846",
   "metadata": {},
   "source": [
    "From the parameter name you can easily find the respective observable. Double underscores in the name indicate that the following name is an attribute of the previous class. Lets give it a try:"
   ]
  },
  {
   "cell_type": "code",
   "execution_count": null,
   "id": "fb01afcf-7a3d-496e-810c-c2a4ac749f62",
   "metadata": {},
   "outputs": [],
   "source": [
    "dummy_readout.qubit1.diff"
   ]
  },
  {
   "cell_type": "code",
   "execution_count": null,
   "id": "8583b9a7-3a6d-4df3-8376-1afa47949f9e",
   "metadata": {},
   "outputs": [],
   "source": [
    "dummy_readout.qubit1.reference.sensor1_IQ"
   ]
  },
  {
   "cell_type": "markdown",
   "id": "196bf228-70f8-424d-85f7-20bdfd08b536",
   "metadata": {},
   "source": [
    "Calling an observable returns you its `GettableParameter`:"
   ]
  },
  {
   "cell_type": "code",
   "execution_count": null,
   "id": "2b876fe9-7ee9-464d-a6ca-6a6e7bf505d2",
   "metadata": {},
   "outputs": [],
   "source": [
    "dummy_readout.qubit1.diff()"
   ]
  },
  {
   "cell_type": "markdown",
   "id": "452f6a0e-22f7-4a84-927b-e8091ad325a0",
   "metadata": {},
   "source": [
    "#### 2.3.3 Signals"
   ]
  },
  {
   "cell_type": "markdown",
   "id": "e3736363-0d9c-4e6b-8c85-f840548f17d2",
   "metadata": {},
   "source": [
    "All present signals can be accquired by calling the signals attribute of the `ReadSequence`."
   ]
  },
  {
   "cell_type": "code",
   "execution_count": null,
   "id": "aa7acd8f-2def-401a-828c-236ffab3efae",
   "metadata": {},
   "outputs": [],
   "source": [
    "dummy_readout.signals"
   ]
  },
  {
   "cell_type": "markdown",
   "id": "06d273fa-eff6-484d-9502-85f010392f58",
   "metadata": {},
   "source": [
    "#### 2.3.4 Readout points and abstract readouts"
   ]
  },
  {
   "cell_type": "markdown",
   "id": "76ffbdb4-e5fe-4100-8d01-2510521e89c5",
   "metadata": {},
   "source": [
    "All `ReadoutPoints` of a sequence can be found but also the ones that are linked to a specific `Signal`:"
   ]
  },
  {
   "cell_type": "code",
   "execution_count": null,
   "id": "88385a3a-e561-46d4-b6ea-5967821fd7f4",
   "metadata": {},
   "outputs": [],
   "source": [
    "dummy_readout.readout_points"
   ]
  },
  {
   "cell_type": "code",
   "execution_count": null,
   "id": "ec81960a-24f3-47b7-9bc3-e2957532343d",
   "metadata": {},
   "outputs": [],
   "source": [
    "dummy_readout.qubit1.readout_points"
   ]
  },
  {
   "cell_type": "markdown",
   "id": "f01378c7-9858-41a4-af00-f1c06fee1a54",
   "metadata": {},
   "source": [
    "The same is true for `AbstractReadout`. However those are not necessarily signal specific thus they are not bound to a `Signal`."
   ]
  },
  {
   "cell_type": "code",
   "execution_count": null,
   "id": "94577396-9191-42d0-9d36-e4a5edbeb3f2",
   "metadata": {},
   "outputs": [],
   "source": [
    "dummy_readout.abstract_readouts"
   ]
  },
  {
   "cell_type": "markdown",
   "id": "0ded3c6e-f4f1-40c2-8904-17e1a3a49cc7",
   "metadata": {},
   "source": [
    "`ReadoutPoint`s and `AbstractReadout`s can introduce multiple `Observables`s (single results). The 'average' method being used in the given example introduces 3 observables:"
   ]
  },
  {
   "cell_type": "code",
   "execution_count": null,
   "id": "da05faef-1db5-4351-9028-8eb9d4f50050",
   "metadata": {},
   "outputs": [],
   "source": [
    "dummy_readout.qubit1.reference.observables"
   ]
  },
  {
   "cell_type": "markdown",
   "id": "ea893de7-48b3-4a54-97d6-7536a698a86f",
   "metadata": {},
   "source": [
    "## 3. Compiling a `ReadSequence` to QUA code"
   ]
  },
  {
   "cell_type": "markdown",
   "id": "e6d3d1ed-6ef8-405f-878f-0672d3a1fb4e",
   "metadata": {},
   "source": [
    "After instantiating the `ReadSequence` it can be compiled to QUA code as shown below:"
   ]
  },
  {
   "cell_type": "code",
   "execution_count": null,
   "id": "875c61a5-8af8-49c3-b951-f70db8a73b4a",
   "metadata": {},
   "outputs": [],
   "source": [
    "qua_program = qm_driver.get_qua_program()\n",
    "\n",
    "qm_driver.print_qua_program_to_file('qua_programs/tut2_readout.py', qua_program)\n",
    "from qua_programs import tut2_readout\n",
    "tut2_readout??"
   ]
  },
  {
   "cell_type": "markdown",
   "id": "b799f918-7179-4c62-abac-4df460de47a1",
   "metadata": {},
   "source": [
    "As seen in the output, arbok takes care of all repetitive parts of the QUA program like declaring variables or streams. It only allocated memory for variables that are actually used within the measurement.\n",
    "\n",
    "The user can therefore focus on writing the pulse sequences instead of managing FPGA resources."
   ]
  },
  {
   "cell_type": "markdown",
   "id": "7e505cfc-21d7-47d4-beb3-a115a011a126",
   "metadata": {},
   "source": [
    "## 4. Parameter sweeps and measurements "
   ]
  },
  {
   "cell_type": "markdown",
   "id": "b2497f83-5de8-4139-b1bb-0085ba90034a",
   "metadata": {},
   "source": [
    "Now we know how to set up sequences with measurements. Let us combine this with adding parameter sweeps as shown in tutorial 1. Just call the sequence and `set_sweeps` by given one dict per sweep axis with the parameter to sweep as key and the sweep array as value."
   ]
  },
  {
   "cell_type": "code",
   "execution_count": null,
   "id": "e010980c-eeed-4158-ab70-1c1e2f6a6e82",
   "metadata": {},
   "outputs": [],
   "source": [
    "import numpy as np"
   ]
  },
  {
   "cell_type": "code",
   "execution_count": null,
   "id": "e1e7889e-0614-4b35-94a4-2f6b2136b482",
   "metadata": {},
   "outputs": [],
   "source": [
    "dummy_sequence.set_sweeps(\n",
    "    {\n",
    "        dummy_readout.t_between_measurements: np.arange(10,100,10, dtype = int)\n",
    "    },\n",
    ")"
   ]
  },
  {
   "cell_type": "code",
   "execution_count": null,
   "id": "5cb8f0bb-1415-4a74-b715-f1c645c877a9",
   "metadata": {},
   "outputs": [],
   "source": [
    "qua_program = qm_driver.get_qua_program()\n",
    "qm_driver.print_qua_program_to_file(\n",
    "    'qua_programs/tut2_readout_with_sweep.py', qua_program)\n",
    "from qua_programs import tut2_readout_with_sweep\n",
    "tut2_readout_with_sweep??"
   ]
  },
  {
   "cell_type": "markdown",
   "id": "726153fb-283d-4f75-aa3e-e9c2bc0bc8c5",
   "metadata": {},
   "source": [
    "## 5. Scaling readout sequences to bigger systems"
   ]
  },
  {
   "cell_type": "markdown",
   "id": "3e1a19cf-c4c2-4fea-937c-b438028bb4d5",
   "metadata": {},
   "source": [
    "To use this type of readout on a bigger system, you only need to touch the configuration. All sequences are always meant to be designed to be sample agnostic. In the case below we add a second signal 'qubit2' with the same ReadPoints and the respective AbstractReadout to take the difference between those results. Scroll down to see the QUA program of this sequence."
   ]
  },
  {
   "cell_type": "code",
   "execution_count": null,
   "id": "2ac9f318-854c-4e57-90f1-989c4b3b8d20",
   "metadata": {},
   "outputs": [],
   "source": [
    "readout_sequence_config2 = {\n",
    "    'parameters': {\n",
    "        't_between_measurements': {\n",
    "            'value': 50,\n",
    "            'type': Time,\n",
    "        }\n",
    "    },\n",
    "    'signals':{\n",
    "        'qubit1':{\n",
    "            'elements': {\n",
    "                'sensor1': 'readout_element',\n",
    "            },\n",
    "            'readout_points': {\n",
    "                'reference': {\n",
    "                    'method': 'average',\n",
    "                    'desc':'reference point',\n",
    "                    'observables': ['I', 'Q', 'IQ'],\n",
    "                    'save_values': True\n",
    "                },\n",
    "                'read': {\n",
    "                    'method': 'average',\n",
    "                    'desc': 'redout point',\n",
    "                    'observables': ['I', 'Q', 'IQ'],\n",
    "                    'save_values': True\n",
    "                }\n",
    "            }\n",
    "        },\n",
    "        'qubit2':{\n",
    "            'elements': {\n",
    "                'sensor1': 'readout_element',\n",
    "            },\n",
    "            'readout_points': {\n",
    "                'reference': {\n",
    "                    'method': 'average',\n",
    "                    'desc':'reference point',\n",
    "                    'observables': ['I', 'Q', 'IQ'],\n",
    "                    'save_values': True\n",
    "                },\n",
    "                'read': {\n",
    "                    'method': 'average',\n",
    "                    'desc': 'redout point',\n",
    "                    'observables': ['I', 'Q', 'IQ'],\n",
    "                    'save_values': True\n",
    "                }\n",
    "            }\n",
    "        },\n",
    "    },\n",
    "    'readout_groups': {\n",
    "        'difference': {\n",
    "            'qubit1__diff': {\n",
    "                'method': 'difference',\n",
    "                'name': 'diff',\n",
    "                'args': {\n",
    "                    'signal': 'qubit1',\n",
    "                    'minuend': 'qubit1.reference.sensor1_IQ',\n",
    "                    'subtrahend': 'qubit1.read.sensor1_IQ',\n",
    "                },\n",
    "            },\n",
    "            'qubit2__diff': {\n",
    "                'method': 'difference',\n",
    "                'name': 'diff',\n",
    "                'args': {\n",
    "                    'signal': 'qubit2',\n",
    "                    'minuend': 'qubit2.reference.sensor1_IQ',\n",
    "                    'subtrahend': 'qubit2.read.sensor1_IQ',\n",
    "                },\n",
    "            },\n",
    "        }\n",
    "    },\n",
    "}"
   ]
  },
  {
   "cell_type": "markdown",
   "id": "1e90fa8a-5341-455c-8a80-6ac908116f7d",
   "metadata": {},
   "source": [
    "Creating the driver and sequences:"
   ]
  },
  {
   "cell_type": "code",
   "execution_count": null,
   "id": "946de62c-a08a-45c8-b286-31db7ef273a8",
   "metadata": {},
   "outputs": [],
   "source": [
    "qm_driver2 = ArbokDriver('qm_driver2', dummy_sample)\n",
    "dummy_sequence2 = Sequence(qm_driver2, 'dummy_squence2', dummy_sample)\n",
    "\n",
    "dummy_readout2 = DummyReadout(dummy_sequence2, 'dummy_readout2', dummy_sample, readout_sequence_config2)"
   ]
  },
  {
   "cell_type": "markdown",
   "id": "0a1538fb-1f37-409f-b75e-3f1ba054eea1",
   "metadata": {},
   "source": [
    "The philosophy of arbok is to:\n",
    "- write devices and setup agnostic control/read sequences\n",
    "- quantify those sequences with configuration files\n",
    "In this manner, the dummy_readout2 driver's corresponding parameters (shown below) were created without even touching the dummy_sequence2."
   ]
  },
  {
   "cell_type": "code",
   "execution_count": null,
   "id": "ce724b25-54ce-4378-9de8-57be54c94db5",
   "metadata": {},
   "outputs": [],
   "source": [
    "dummy_readout2.print_readable_snapshot()"
   ]
  },
  {
   "cell_type": "markdown",
   "id": "582fd8e5-ae5b-42c0-a313-03a3a01763fe",
   "metadata": {},
   "source": [
    "QUA variables and streams are automatically put in place and the sequence is executed as expect for the system with double the size."
   ]
  },
  {
   "cell_type": "code",
   "execution_count": null,
   "id": "784f1062-93c8-4d2e-a700-15a24445286e",
   "metadata": {},
   "outputs": [],
   "source": [
    "qua_program = qm_driver2.get_qua_program()\n",
    "\n",
    "qm_driver.print_qua_program_to_file(\n",
    "    'qua_programs/tut2_double_readout.py', qua_program)\n",
    "from qua_programs import tut2_double_readout\n",
    "tut2_double_readout??"
   ]
  }
 ],
 "metadata": {
  "kernelspec": {
   "display_name": "Python 3 (ipykernel)",
   "language": "python",
   "name": "python3"
  },
  "language_info": {
   "codemirror_mode": {
    "name": "ipython",
    "version": 3
   },
   "file_extension": ".py",
   "mimetype": "text/x-python",
   "name": "python",
   "nbconvert_exporter": "python",
   "pygments_lexer": "ipython3",
   "version": "3.11.9"
  }
 },
 "nbformat": 4,
 "nbformat_minor": 5
}
