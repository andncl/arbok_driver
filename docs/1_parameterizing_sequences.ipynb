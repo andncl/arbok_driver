{
 "cells": [
  {
   "cell_type": "markdown",
   "id": "2c6a82eb-f45f-47cc-b012-f149d71e66ec",
   "metadata": {},
   "source": [
    "# Tutorial 1) Parameterizing sequences with arbok"
   ]
  },
  {
   "cell_type": "markdown",
   "id": "8c51c408-fcfc-46d8-8f33-497e282013a7",
   "metadata": {},
   "source": [
    "## Introduction"
   ]
  },
  {
   "cell_type": "markdown",
   "id": "c6cdf8b7-e05d-4011-a2a1-57d91454dae2",
   "metadata": {},
   "source": [
    "This tutorial gives a first insight into the architecture and philosophy behind arbok.\n",
    "In the first step, a  `Sample` object will be configured and is used in every following\n",
    "sequence.\n",
    "Paramerizing of a sequence is demonstrated by a simple square pulse."
   ]
  },
  {
   "cell_type": "markdown",
   "id": "3b0759ed-0297-4e5b-a910-39969c4f7d93",
   "metadata": {},
   "source": [
    "Firstly the `ArbokDriver` itself, the generic `Sample` and `Sequence` class is imported.\n",
    "We also import a dummy configuration which has been taken from the quantum machines github repository"
   ]
  },
  {
   "cell_type": "code",
   "execution_count": 1,
   "id": "86bdb3f5-56f9-4192-87be-b1a76e694e33",
   "metadata": {
    "execution": {
     "iopub.execute_input": "2024-04-06T05:52:58.763309Z",
     "iopub.status.busy": "2024-04-06T05:52:58.763309Z",
     "iopub.status.idle": "2024-04-06T05:53:00.027313Z",
     "shell.execute_reply": "2024-04-06T05:53:00.027313Z",
     "shell.execute_reply.started": "2024-04-06T05:52:58.763309Z"
    }
   },
   "outputs": [
    {
     "name": "stdout",
     "output_type": "stream",
     "text": [
      "2024-04-06 16:52:59,331 - qm - INFO     - Starting session: 12d93ac4-0432-49b4-92a3-982cce74004f\n"
     ]
    }
   ],
   "source": [
    "from arbok_driver import ArbokDriver, Sample, Sequence\n",
    "from example_sequences.configuration import qm_config"
   ]
  },
  {
   "cell_type": "markdown",
   "id": "dbc524d2-e135-4278-8f24-3a6b8e469e97",
   "metadata": {},
   "source": [
    "## Configuring a `Sample`"
   ]
  },
  {
   "cell_type": "markdown",
   "id": "5d6276a2-681a-4cac-8625-834a5127d89b",
   "metadata": {},
   "source": [
    "The sample holds the configuration of the quantum machine that you probably already have from your experimetns."
   ]
  },
  {
   "cell_type": "markdown",
   "id": "eedf69bf-6060-4fa0-96b3-93d4b5a70bb5",
   "metadata": {},
   "source": [
    "Besides this configuration a further 'divider_config' is required.\n",
    "This dictionairy represents voltage divider that are in between the quantum machine and your sample."
   ]
  },
  {
   "cell_type": "markdown",
   "id": "7e86abdf-d8c6-4739-a96a-943906eda987",
   "metadata": {},
   "source": [
    "All voltage values in arbok are meant to be what is applied to the sample, not the output of the machine.\n",
    "This is implemented by the scale attribute of [qcodes parameters](https://microsoft.github.io/Qcodes/api/parameters/index.html#qcodes.parameters.Parameter)."
   ]
  },
  {
   "cell_type": "markdown",
   "id": "614e1f4b-0614-4d6d-a929-a5d1acb5eadd",
   "metadata": {},
   "source": [
    "A simple example is given below. A dict entry is required for every element in the quantum machines config that has an output port configured."
   ]
  },
  {
   "cell_type": "code",
   "execution_count": 2,
   "id": "5b4b942f-d06f-46d2-b934-d6ad27fc5de3",
   "metadata": {
    "execution": {
     "iopub.execute_input": "2024-04-06T05:53:00.028330Z",
     "iopub.status.busy": "2024-04-06T05:53:00.028330Z",
     "iopub.status.idle": "2024-04-06T05:53:00.031434Z",
     "shell.execute_reply": "2024-04-06T05:53:00.031434Z",
     "shell.execute_reply.started": "2024-04-06T05:53:00.028330Z"
    }
   },
   "outputs": [],
   "source": [
    "opx_scale = 2\n",
    "divider_config = {\n",
    "    'gate_1': {\n",
    "        'division': 1*opx_scale,\n",
    "    },\n",
    "    'gate_2': {\n",
    "        'division': 1*opx_scale,\n",
    "    },\n",
    "    'readout_element': {\n",
    "        'division': 1*opx_scale\n",
    "    }\n",
    "}"
   ]
  },
  {
   "cell_type": "markdown",
   "id": "e7bba380-e0a1-4915-bab3-66dad8eee271",
   "metadata": {},
   "source": [
    "Both of those configs are now used to instanciate the given sample."
   ]
  },
  {
   "cell_type": "code",
   "execution_count": 3,
   "id": "529e92fa-f071-4445-b2ce-bdc53a5ebd6e",
   "metadata": {
    "execution": {
     "iopub.execute_input": "2024-04-06T05:53:00.032427Z",
     "iopub.status.busy": "2024-04-06T05:53:00.032427Z",
     "iopub.status.idle": "2024-04-06T05:53:00.038391Z",
     "shell.execute_reply": "2024-04-06T05:53:00.038391Z",
     "shell.execute_reply.started": "2024-04-06T05:53:00.032427Z"
    }
   },
   "outputs": [],
   "source": [
    "dummy_sample = Sample('dummy_sample', qm_config, divider_config)"
   ]
  },
  {
   "cell_type": "markdown",
   "id": "4d7bd316-8b83-4249-b07e-5095a3e7c858",
   "metadata": {},
   "source": [
    "## Building the `Arbok_driver`"
   ]
  },
  {
   "cell_type": "markdown",
   "id": "9c5b0358-9bfe-4ad5-ada9-454ec82e06d3",
   "metadata": {},
   "source": [
    "The sample we created previously is the only requirement to build a basic arbok_driver."
   ]
  },
  {
   "cell_type": "code",
   "execution_count": 4,
   "id": "50c6f31b-c6a3-423c-a405-697db3a35b68",
   "metadata": {
    "execution": {
     "iopub.execute_input": "2024-04-06T05:53:00.040395Z",
     "iopub.status.busy": "2024-04-06T05:53:00.040395Z",
     "iopub.status.idle": "2024-04-06T05:53:00.046489Z",
     "shell.execute_reply": "2024-04-06T05:53:00.046489Z",
     "shell.execute_reply.started": "2024-04-06T05:53:00.040395Z"
    }
   },
   "outputs": [],
   "source": [
    "qm_driver = ArbokDriver('qm_driver', dummy_sample)"
   ]
  },
  {
   "cell_type": "markdown",
   "id": "3bdf87b2-428f-46de-bc06-091cc2fb8559",
   "metadata": {},
   "source": [
    "`Sequence`s can now be registered into this driver."
   ]
  },
  {
   "cell_type": "markdown",
   "id": "5f2850a4-2d6f-40da-83ce-6e2ec1a59beb",
   "metadata": {},
   "source": [
    "Sequences are meant to summarize all sub-sequences that are required to run a single type of measurement.\n",
    "Currently single sequences per driver are supported."
   ]
  },
  {
   "cell_type": "code",
   "execution_count": 5,
   "id": "348abf7f-de23-4e70-9eaa-54b5b5ebd510",
   "metadata": {
    "execution": {
     "iopub.execute_input": "2024-04-06T05:53:00.047499Z",
     "iopub.status.busy": "2024-04-06T05:53:00.047499Z",
     "iopub.status.idle": "2024-04-06T05:53:00.053005Z",
     "shell.execute_reply": "2024-04-06T05:53:00.053005Z",
     "shell.execute_reply.started": "2024-04-06T05:53:00.047499Z"
    }
   },
   "outputs": [],
   "source": [
    "dummy_sequence = Sequence('dummy_squence', dummy_sample)\n",
    "qm_driver.add_sequence(dummy_sequence)"
   ]
  },
  {
   "cell_type": "markdown",
   "id": "49fde882-0a8b-4bb3-8337-ac195d9a11e3",
   "metadata": {},
   "source": [
    "## Configuring a simple square pulse sequence"
   ]
  },
  {
   "cell_type": "markdown",
   "id": "0af2ead7-7f88-4a1f-9609-322a8a113b19",
   "metadata": {},
   "source": [
    "So far, only structural classes were created and assebled with each other.\n",
    "This changes with the given example of a `SquarePulse`. See the source code below."
   ]
  },
  {
   "cell_type": "code",
   "execution_count": 6,
   "id": "e3e61644-2967-481d-888f-232a4588cd1f",
   "metadata": {
    "execution": {
     "iopub.execute_input": "2024-04-06T05:53:00.053523Z",
     "iopub.status.busy": "2024-04-06T05:53:00.053523Z",
     "iopub.status.idle": "2024-04-06T05:53:00.088940Z",
     "shell.execute_reply": "2024-04-06T05:53:00.088940Z",
     "shell.execute_reply.started": "2024-04-06T05:53:00.053523Z"
    }
   },
   "outputs": [
    {
     "data": {
      "text/plain": [
       "\u001b[1;31mInit signature:\u001b[0m \u001b[0mSquarePulse\u001b[0m\u001b[1;33m(\u001b[0m\u001b[1;33m*\u001b[0m\u001b[0margs\u001b[0m\u001b[1;33m:\u001b[0m \u001b[1;34m'Any'\u001b[0m\u001b[1;33m,\u001b[0m \u001b[1;33m**\u001b[0m\u001b[0mkwargs\u001b[0m\u001b[1;33m:\u001b[0m \u001b[1;34m'Any'\u001b[0m\u001b[1;33m)\u001b[0m \u001b[1;33m->\u001b[0m \u001b[1;34m'Any'\u001b[0m\u001b[1;33m\u001b[0m\u001b[1;33m\u001b[0m\u001b[0m\n",
       "\u001b[1;31mSource:\u001b[0m        \n",
       "\u001b[1;32mclass\u001b[0m \u001b[0mSquarePulse\u001b[0m\u001b[1;33m(\u001b[0m\u001b[0mSubSequence\u001b[0m\u001b[1;33m)\u001b[0m\u001b[1;33m:\u001b[0m\u001b[1;33m\n",
       "\u001b[0m    \u001b[1;34m\"\"\"\n",
       "    Class containing parameters and sequence for a simple square pulse\n",
       "    \"\"\"\u001b[0m\u001b[1;33m\n",
       "\u001b[0m    \u001b[1;32mdef\u001b[0m \u001b[0m__init__\u001b[0m\u001b[1;33m(\u001b[0m\u001b[0mself\u001b[0m\u001b[1;33m,\u001b[0m \u001b[0mname\u001b[0m\u001b[1;33m:\u001b[0m \u001b[0mstr\u001b[0m\u001b[1;33m,\u001b[0m\u001b[0msample\u001b[0m\u001b[1;33m:\u001b[0m \u001b[0mSample\u001b[0m\u001b[1;33m,\u001b[0m \u001b[0mseq_config\u001b[0m\u001b[1;33m:\u001b[0m \u001b[0mdict\u001b[0m\u001b[1;33m)\u001b[0m\u001b[1;33m:\u001b[0m\u001b[1;33m\n",
       "\u001b[0m        \u001b[1;34m\"\"\"\n",
       "        Constructor method for 'SquarePulse' class\n",
       "        \n",
       "        Args:\n",
       "            name (str): name of sequence\n",
       "            sample  (Sample): Sample class for physical device\n",
       "            config (dict): config containing pulse parameters\n",
       "        \"\"\"\u001b[0m\u001b[1;33m\n",
       "\u001b[0m        \u001b[0msuper\u001b[0m\u001b[1;33m(\u001b[0m\u001b[1;33m)\u001b[0m\u001b[1;33m.\u001b[0m\u001b[0m__init__\u001b[0m\u001b[1;33m(\u001b[0m\u001b[0mname\u001b[0m\u001b[1;33m,\u001b[0m \u001b[0msample\u001b[0m\u001b[1;33m,\u001b[0m \u001b[0mseq_config\u001b[0m\u001b[1;33m)\u001b[0m\u001b[1;33m\n",
       "\u001b[0m\u001b[1;33m\n",
       "\u001b[0m    \u001b[1;32mdef\u001b[0m \u001b[0mqua_sequence\u001b[0m\u001b[1;33m(\u001b[0m\u001b[0mself\u001b[0m\u001b[1;33m)\u001b[0m\u001b[1;33m:\u001b[0m\u001b[1;33m\n",
       "\u001b[0m        \u001b[1;34m\"\"\"Macro that will be played within the qua.program() context\"\"\"\u001b[0m\u001b[1;33m\n",
       "\u001b[0m        \u001b[0mqua\u001b[0m\u001b[1;33m.\u001b[0m\u001b[0malign\u001b[0m\u001b[1;33m(\u001b[0m\u001b[1;33m)\u001b[0m\u001b[1;33m\n",
       "\u001b[0m        \u001b[0mqua\u001b[0m\u001b[1;33m.\u001b[0m\u001b[0mplay\u001b[0m\u001b[1;33m(\u001b[0m\u001b[1;34m'ramp'\u001b[0m\u001b[1;33m*\u001b[0m\u001b[0mqua\u001b[0m\u001b[1;33m.\u001b[0m\u001b[0mamp\u001b[0m\u001b[1;33m(\u001b[0m\u001b[0mself\u001b[0m\u001b[1;33m.\u001b[0m\u001b[0mamplitude\u001b[0m\u001b[1;33m(\u001b[0m\u001b[1;33m)\u001b[0m\u001b[1;33m)\u001b[0m\u001b[1;33m,\u001b[0m \u001b[0mself\u001b[0m\u001b[1;33m.\u001b[0m\u001b[0melement\u001b[0m\u001b[1;33m(\u001b[0m\u001b[1;33m)\u001b[0m\u001b[1;33m)\u001b[0m\u001b[1;33m\n",
       "\u001b[0m        \u001b[0mqua\u001b[0m\u001b[1;33m.\u001b[0m\u001b[0mwait\u001b[0m\u001b[1;33m(\u001b[0m\u001b[0mself\u001b[0m\u001b[1;33m.\u001b[0m\u001b[0mt_square_pulse\u001b[0m\u001b[1;33m(\u001b[0m\u001b[1;33m)\u001b[0m\u001b[1;33m,\u001b[0m \u001b[0mself\u001b[0m\u001b[1;33m.\u001b[0m\u001b[0melement\u001b[0m\u001b[1;33m(\u001b[0m\u001b[1;33m)\u001b[0m\u001b[1;33m)\u001b[0m\u001b[1;33m\n",
       "\u001b[0m        \u001b[0mqua\u001b[0m\u001b[1;33m.\u001b[0m\u001b[0mplay\u001b[0m\u001b[1;33m(\u001b[0m\u001b[1;34m'ramp'\u001b[0m\u001b[1;33m*\u001b[0m\u001b[0mqua\u001b[0m\u001b[1;33m.\u001b[0m\u001b[0mamp\u001b[0m\u001b[1;33m(\u001b[0m\u001b[1;33m-\u001b[0m\u001b[0mself\u001b[0m\u001b[1;33m.\u001b[0m\u001b[0mamplitude\u001b[0m\u001b[1;33m(\u001b[0m\u001b[1;33m)\u001b[0m\u001b[1;33m)\u001b[0m\u001b[1;33m,\u001b[0m \u001b[0mself\u001b[0m\u001b[1;33m.\u001b[0m\u001b[0melement\u001b[0m\u001b[1;33m(\u001b[0m\u001b[1;33m)\u001b[0m\u001b[1;33m)\u001b[0m\u001b[1;33m\u001b[0m\u001b[1;33m\u001b[0m\u001b[0m\n",
       "\u001b[1;31mFile:\u001b[0m           c:\\users\\labuser\\gitrepos\\arbok_driver\\docs\\example_sequences\\square_pulse.py\n",
       "\u001b[1;31mType:\u001b[0m           InstrumentMeta\n",
       "\u001b[1;31mSubclasses:\u001b[0m     "
      ]
     },
     "metadata": {},
     "output_type": "display_data"
    }
   ],
   "source": [
    "from example_sequences.square_pulse import SquarePulse\n",
    "SquarePulse??"
   ]
  },
  {
   "cell_type": "markdown",
   "id": "cf0a595f-e04f-4f34-b672-1390732ee3ac",
   "metadata": {},
   "source": [
    "While looking at the source code above you might notice that there are attributes being called that are not created in the classes `__init__` method (e.g self.amplitude, self.element, etc.)\n",
    "Those are created from a given `sequence_config` file that adds a `qcodes.parameter` for each entry like the one given here:"
   ]
  },
  {
   "cell_type": "code",
   "execution_count": 7,
   "id": "593ad9ef-ebfa-4c06-8a61-b0128660141b",
   "metadata": {
    "execution": {
     "iopub.execute_input": "2024-04-06T05:53:00.090934Z",
     "iopub.status.busy": "2024-04-06T05:53:00.090934Z",
     "iopub.status.idle": "2024-04-06T05:53:00.094974Z",
     "shell.execute_reply": "2024-04-06T05:53:00.094974Z",
     "shell.execute_reply.started": "2024-04-06T05:53:00.090934Z"
    }
   },
   "outputs": [],
   "source": [
    "square_conf = {\n",
    "    'amplitude': {\n",
    "        'value': 0.5,\n",
    "        'unit': 'V',\n",
    "    },\n",
    "    't_square_pulse': {\n",
    "        'value': 100,\n",
    "        'unit': 'cycles'\n",
    "    },\n",
    "    'element': {\n",
    "        'value': 'gate_1',\n",
    "        'unit': 'gate label'\n",
    "    }\n",
    "}"
   ]
  },
  {
   "cell_type": "markdown",
   "id": "6e4d89e8-903f-4389-825c-2c6021d827c1",
   "metadata": {},
   "source": [
    "With this config we fully configure those parameters with an initial value and\n",
    "unit. Optionally you can add the variable type within qua, an axis label for data savining and validators like this:"
   ]
  },
  {
   "cell_type": "code",
   "execution_count": 8,
   "id": "55e9255b-e0ea-4743-ba37-d1cc2efb06dd",
   "metadata": {
    "execution": {
     "iopub.execute_input": "2024-04-06T05:53:00.095979Z",
     "iopub.status.busy": "2024-04-06T05:53:00.095979Z",
     "iopub.status.idle": "2024-04-06T05:53:00.101386Z",
     "shell.execute_reply": "2024-04-06T05:53:00.101386Z",
     "shell.execute_reply.started": "2024-04-06T05:53:00.095979Z"
    }
   },
   "outputs": [],
   "source": [
    "from qcodes.validators import Ints\n",
    "_ = {\n",
    "    't_square_pulse': {\n",
    "        'value': 100,\n",
    "        'unit': 'cycles',\n",
    "        'label': 'Square pulse width',\n",
    "        'qua_type': int,\n",
    "        'validators': Ints(min_value=4)\n",
    "    },\n",
    "}"
   ]
  },
  {
   "cell_type": "markdown",
   "id": "29658e9c-d7d0-4314-bc7b-5e39caf1c084",
   "metadata": {},
   "source": [
    "After creating the square pulse `SubSequence` with the respective config we can take a look at its snapshot."
   ]
  },
  {
   "cell_type": "code",
   "execution_count": 9,
   "id": "222d3480-bd68-4a3e-a598-52d717e4016b",
   "metadata": {
    "execution": {
     "iopub.execute_input": "2024-04-06T05:53:00.103371Z",
     "iopub.status.busy": "2024-04-06T05:53:00.103371Z",
     "iopub.status.idle": "2024-04-06T05:53:00.107312Z",
     "shell.execute_reply": "2024-04-06T05:53:00.107312Z",
     "shell.execute_reply.started": "2024-04-06T05:53:00.103371Z"
    }
   },
   "outputs": [],
   "source": [
    "square_pulse = SquarePulse('square_pulse', dummy_sample, square_conf)\n",
    "dummy_sequence.add_subsequence(square_pulse)"
   ]
  },
  {
   "cell_type": "markdown",
   "id": "753ddb74-a3d1-4747-9699-0b0f00d8c10a",
   "metadata": {},
   "source": [
    "Again, as all (sub-) sequences so far it requires a sample object for instanciation.\n",
    "This makes sure that all added sub-sequences are configured for the same device."
   ]
  },
  {
   "cell_type": "code",
   "execution_count": 10,
   "id": "e54c99f6-7dfb-4f12-ae80-47f4a193fa65",
   "metadata": {
    "execution": {
     "iopub.execute_input": "2024-04-06T05:53:00.108299Z",
     "iopub.status.busy": "2024-04-06T05:53:00.108299Z",
     "iopub.status.idle": "2024-04-06T05:53:00.114238Z",
     "shell.execute_reply": "2024-04-06T05:53:00.114238Z",
     "shell.execute_reply.started": "2024-04-06T05:53:00.108299Z"
    }
   },
   "outputs": [
    {
     "name": "stdout",
     "output_type": "stream",
     "text": [
      "square_pulse:\n",
      "\tparameter     value\n",
      "--------------------------------------------------------------------------------\n",
      "IDN            :\tNone \n",
      "amplitude      :\t0.5 (V)\n",
      "element        :\tgate_1 (gate label)\n",
      "t_square_pulse :\t100 (cycles)\n"
     ]
    }
   ],
   "source": [
    "qm_driver.dummy_squence.square_pulse.print_readable_snapshot()"
   ]
  },
  {
   "cell_type": "code",
   "execution_count": 11,
   "id": "640b23e3-6819-4be5-b7f8-9030cfccbffe",
   "metadata": {
    "execution": {
     "iopub.execute_input": "2024-04-06T05:53:00.115224Z",
     "iopub.status.busy": "2024-04-06T05:53:00.115224Z",
     "iopub.status.idle": "2024-04-06T05:53:00.255902Z",
     "shell.execute_reply": "2024-04-06T05:53:00.254909Z",
     "shell.execute_reply.started": "2024-04-06T05:53:00.115224Z"
    }
   },
   "outputs": [
    {
     "data": {
      "text/plain": [
       "\u001b[1;31mType:\u001b[0m        module\n",
       "\u001b[1;31mString form:\u001b[0m <module 'compiled_qua_program' from 'C:\\\\Users\\\\labuser\\\\GitRepos\\\\arbok_driver\\\\docs\\\\compiled_qua_program.py'>\n",
       "\u001b[1;31mFile:\u001b[0m        c:\\users\\labuser\\gitrepos\\arbok_driver\\docs\\compiled_qua_program.py\n",
       "\u001b[1;31mSource:\u001b[0m     \n",
       "\u001b[1;33m\n",
       "\u001b[0m\u001b[1;31m# Single QUA script generated at 2024-04-06 16:53:00.234955\u001b[0m\u001b[1;33m\n",
       "\u001b[0m\u001b[1;31m# QUA library version: 1.1.7\u001b[0m\u001b[1;33m\n",
       "\u001b[0m\u001b[1;33m\n",
       "\u001b[0m\u001b[1;32mfrom\u001b[0m \u001b[0mqm\u001b[0m\u001b[1;33m.\u001b[0m\u001b[0mqua\u001b[0m \u001b[1;32mimport\u001b[0m \u001b[1;33m*\u001b[0m\u001b[1;33m\n",
       "\u001b[0m\u001b[1;33m\n",
       "\u001b[0m\u001b[1;32mwith\u001b[0m \u001b[0mprogram\u001b[0m\u001b[1;33m(\u001b[0m\u001b[1;33m)\u001b[0m \u001b[1;32mas\u001b[0m \u001b[0mprog\u001b[0m\u001b[1;33m:\u001b[0m\u001b[1;33m\n",
       "\u001b[0m    \u001b[1;32mwith\u001b[0m \u001b[0minfinite_loop_\u001b[0m\u001b[1;33m(\u001b[0m\u001b[1;33m)\u001b[0m\u001b[1;33m:\u001b[0m\u001b[1;33m\n",
       "\u001b[0m        \u001b[0mpause\u001b[0m\u001b[1;33m(\u001b[0m\u001b[1;33m)\u001b[0m\u001b[1;33m\n",
       "\u001b[0m        \u001b[0malign\u001b[0m\u001b[1;33m(\u001b[0m\u001b[1;33m)\u001b[0m\u001b[1;33m\n",
       "\u001b[0m        \u001b[0mplay\u001b[0m\u001b[1;33m(\u001b[0m\u001b[1;34m\"ramp\"\u001b[0m\u001b[1;33m*\u001b[0m\u001b[0mamp\u001b[0m\u001b[1;33m(\u001b[0m\u001b[1;36m0.5\u001b[0m\u001b[1;33m)\u001b[0m\u001b[1;33m,\u001b[0m \u001b[1;34m\"gate_1\"\u001b[0m\u001b[1;33m)\u001b[0m\u001b[1;33m\n",
       "\u001b[0m        \u001b[0mwait\u001b[0m\u001b[1;33m(\u001b[0m\u001b[1;36m100\u001b[0m\u001b[1;33m,\u001b[0m \u001b[1;34m\"gate_1\"\u001b[0m\u001b[1;33m)\u001b[0m\u001b[1;33m\n",
       "\u001b[0m        \u001b[0mplay\u001b[0m\u001b[1;33m(\u001b[0m\u001b[1;34m\"ramp\"\u001b[0m\u001b[1;33m*\u001b[0m\u001b[0mamp\u001b[0m\u001b[1;33m(\u001b[0m\u001b[1;33m-\u001b[0m\u001b[1;36m0.5\u001b[0m\u001b[1;33m)\u001b[0m\u001b[1;33m,\u001b[0m \u001b[1;34m\"gate_1\"\u001b[0m\u001b[1;33m)\u001b[0m\u001b[1;33m\n",
       "\u001b[0m\u001b[1;33m\n",
       "\u001b[0m\u001b[1;33m\n",
       "\u001b[0m\u001b[0mconfig\u001b[0m \u001b[1;33m=\u001b[0m \u001b[1;32mNone\u001b[0m\u001b[1;33m\n",
       "\u001b[0m\u001b[1;33m\n",
       "\u001b[0m\u001b[0mloaded_config\u001b[0m \u001b[1;33m=\u001b[0m \u001b[1;32mNone\u001b[0m\u001b[1;33m\u001b[0m\u001b[1;33m\u001b[0m\u001b[0m"
      ]
     },
     "metadata": {},
     "output_type": "display_data"
    }
   ],
   "source": [
    "qua_program = qm_driver.get_qua_program()\n",
    "qm_driver.print_qua_program_to_file(\n",
    "    'compiled_qua_program.py', qua_program)\n",
    "import compiled_qua_program\n",
    "compiled_qua_program??"
   ]
  },
  {
   "cell_type": "markdown",
   "id": "0baffbfb-34f8-4ba8-a7a6-d2adaabfe9df",
   "metadata": {},
   "source": [
    "## Parameter sweeps"
   ]
  },
  {
   "cell_type": "code",
   "execution_count": 12,
   "id": "59a71aa4-e7e3-43f0-803f-c56fbc86e9b8",
   "metadata": {
    "execution": {
     "iopub.execute_input": "2024-04-06T05:53:00.257467Z",
     "iopub.status.busy": "2024-04-06T05:53:00.256471Z",
     "iopub.status.idle": "2024-04-06T05:53:00.259883Z",
     "shell.execute_reply": "2024-04-06T05:53:00.259883Z",
     "shell.execute_reply.started": "2024-04-06T05:53:00.257467Z"
    }
   },
   "outputs": [],
   "source": [
    "import numpy as np"
   ]
  },
  {
   "cell_type": "code",
   "execution_count": 13,
   "id": "e68994ff-117f-4886-935e-d8da2388a883",
   "metadata": {
    "execution": {
     "iopub.execute_input": "2024-04-06T05:53:00.260890Z",
     "iopub.status.busy": "2024-04-06T05:53:00.260890Z",
     "iopub.status.idle": "2024-04-06T05:53:00.267370Z",
     "shell.execute_reply": "2024-04-06T05:53:00.267370Z",
     "shell.execute_reply.started": "2024-04-06T05:53:00.260890Z"
    }
   },
   "outputs": [],
   "source": [
    "dummy_sequence.set_sweeps(\n",
    "    {\n",
    "        square_pulse.amplitude: np.linspace(0.1, 1, 5)\n",
    "    }\n",
    ")"
   ]
  },
  {
   "cell_type": "code",
   "execution_count": 14,
   "id": "6975bff4-d60d-4bb5-9d3e-4287f531a9d0",
   "metadata": {
    "execution": {
     "iopub.execute_input": "2024-04-06T05:53:00.268364Z",
     "iopub.status.busy": "2024-04-06T05:53:00.268364Z",
     "iopub.status.idle": "2024-04-06T05:53:00.329956Z",
     "shell.execute_reply": "2024-04-06T05:53:00.329956Z",
     "shell.execute_reply.started": "2024-04-06T05:53:00.268364Z"
    }
   },
   "outputs": [
    {
     "name": "stderr",
     "output_type": "stream",
     "text": [
      "C:\\Users\\labuser\\GitRepos\\arbok_driver\\arbok_driver\\sweep.py:218: UserWarning: Your input array None for amplitude will be parametrized, check output\n",
      "  warnings.warn(\n"
     ]
    },
    {
     "data": {
      "text/plain": [
       "\u001b[1;31mType:\u001b[0m        module\n",
       "\u001b[1;31mString form:\u001b[0m <module 'compiled_qua_program' from 'C:\\\\Users\\\\labuser\\\\GitRepos\\\\arbok_driver\\\\docs\\\\compiled_qua_program.py'>\n",
       "\u001b[1;31mFile:\u001b[0m        c:\\users\\labuser\\gitrepos\\arbok_driver\\docs\\compiled_qua_program.py\n",
       "\u001b[1;31mSource:\u001b[0m     \n",
       "\u001b[1;33m\n",
       "\u001b[0m\u001b[1;31m# Single QUA script generated at 2024-04-06 16:53:00.317319\u001b[0m\u001b[1;33m\n",
       "\u001b[0m\u001b[1;31m# QUA library version: 1.1.7\u001b[0m\u001b[1;33m\n",
       "\u001b[0m\u001b[1;33m\n",
       "\u001b[0m\u001b[1;32mfrom\u001b[0m \u001b[0mqm\u001b[0m\u001b[1;33m.\u001b[0m\u001b[0mqua\u001b[0m \u001b[1;32mimport\u001b[0m \u001b[1;33m*\u001b[0m\u001b[1;33m\n",
       "\u001b[0m\u001b[1;33m\n",
       "\u001b[0m\u001b[1;32mwith\u001b[0m \u001b[0mprogram\u001b[0m\u001b[1;33m(\u001b[0m\u001b[1;33m)\u001b[0m \u001b[1;32mas\u001b[0m \u001b[0mprog\u001b[0m\u001b[1;33m:\u001b[0m\u001b[1;33m\n",
       "\u001b[0m    \u001b[0mv1\u001b[0m \u001b[1;33m=\u001b[0m \u001b[0mdeclare\u001b[0m\u001b[1;33m(\u001b[0m\u001b[0mint\u001b[0m\u001b[1;33m,\u001b[0m \u001b[1;33m)\u001b[0m\u001b[1;33m\n",
       "\u001b[0m    \u001b[0mv2\u001b[0m \u001b[1;33m=\u001b[0m \u001b[0mdeclare\u001b[0m\u001b[1;33m(\u001b[0m\u001b[0mint\u001b[0m\u001b[1;33m,\u001b[0m \u001b[1;33m)\u001b[0m\u001b[1;33m\n",
       "\u001b[0m    \u001b[1;32mwith\u001b[0m \u001b[0minfinite_loop_\u001b[0m\u001b[1;33m(\u001b[0m\u001b[1;33m)\u001b[0m\u001b[1;33m:\u001b[0m\u001b[1;33m\n",
       "\u001b[0m        \u001b[0mpause\u001b[0m\u001b[1;33m(\u001b[0m\u001b[1;33m)\u001b[0m\u001b[1;33m\n",
       "\u001b[0m        \u001b[1;32mwith\u001b[0m \u001b[0mfor_\u001b[0m\u001b[1;33m(\u001b[0m\u001b[0mv1\u001b[0m\u001b[1;33m,\u001b[0m\u001b[1;36m0\u001b[0m\u001b[1;33m,\u001b[0m\u001b[1;33m(\u001b[0m\u001b[0mv1\u001b[0m\u001b[1;33m<\u001b[0m\u001b[1;36m1.125\u001b[0m\u001b[1;33m)\u001b[0m\u001b[1;33m,\u001b[0m\u001b[1;33m(\u001b[0m\u001b[0mv1\u001b[0m\u001b[1;33m+\u001b[0m\u001b[1;36m0.25\u001b[0m\u001b[1;33m)\u001b[0m\u001b[1;33m)\u001b[0m\u001b[1;33m:\u001b[0m\u001b[1;33m\n",
       "\u001b[0m            \u001b[0malign\u001b[0m\u001b[1;33m(\u001b[0m\u001b[1;33m)\u001b[0m\u001b[1;33m\n",
       "\u001b[0m            \u001b[0mplay\u001b[0m\u001b[1;33m(\u001b[0m\u001b[1;34m\"ramp\"\u001b[0m\u001b[1;33m*\u001b[0m\u001b[0mamp\u001b[0m\u001b[1;33m(\u001b[0m\u001b[0mv1\u001b[0m\u001b[1;33m)\u001b[0m\u001b[1;33m,\u001b[0m \u001b[1;34m\"gate_1\"\u001b[0m\u001b[1;33m)\u001b[0m\u001b[1;33m\n",
       "\u001b[0m            \u001b[0mwait\u001b[0m\u001b[1;33m(\u001b[0m\u001b[1;36m100\u001b[0m\u001b[1;33m,\u001b[0m \u001b[1;34m\"gate_1\"\u001b[0m\u001b[1;33m)\u001b[0m\u001b[1;33m\n",
       "\u001b[0m            \u001b[0mplay\u001b[0m\u001b[1;33m(\u001b[0m\u001b[1;34m\"ramp\"\u001b[0m\u001b[1;33m*\u001b[0m\u001b[0mamp\u001b[0m\u001b[1;33m(\u001b[0m\u001b[1;33m(\u001b[0m\u001b[1;36m0\u001b[0m\u001b[1;33m-\u001b[0m\u001b[0mv1\u001b[0m\u001b[1;33m)\u001b[0m\u001b[1;33m)\u001b[0m\u001b[1;33m,\u001b[0m \u001b[1;34m\"gate_1\"\u001b[0m\u001b[1;33m)\u001b[0m\u001b[1;33m\n",
       "\u001b[0m\u001b[1;33m\n",
       "\u001b[0m\u001b[1;33m\n",
       "\u001b[0m\u001b[0mconfig\u001b[0m \u001b[1;33m=\u001b[0m \u001b[1;32mNone\u001b[0m\u001b[1;33m\n",
       "\u001b[0m\u001b[1;33m\n",
       "\u001b[0m\u001b[0mloaded_config\u001b[0m \u001b[1;33m=\u001b[0m \u001b[1;32mNone\u001b[0m\u001b[1;33m\u001b[0m\u001b[1;33m\u001b[0m\u001b[0m"
      ]
     },
     "metadata": {},
     "output_type": "display_data"
    }
   ],
   "source": [
    "qua_program = qm_driver.get_qua_program()\n",
    "qm_driver.print_qua_program_to_file(\n",
    "    'compiled_qua_program.py', qua_program)\n",
    "import compiled_qua_program\n",
    "compiled_qua_program??"
   ]
  },
  {
   "cell_type": "markdown",
   "id": "8d20d687-78da-43b5-acb9-92f9f22a6525",
   "metadata": {},
   "source": [
    "## Readout sequences"
   ]
  },
  {
   "cell_type": "code",
   "execution_count": 15,
   "id": "9d800a93-e089-4f60-a6de-230de09fa58d",
   "metadata": {
    "execution": {
     "iopub.execute_input": "2024-04-06T05:53:00.331951Z",
     "iopub.status.busy": "2024-04-06T05:53:00.330953Z",
     "iopub.status.idle": "2024-04-06T05:53:00.336322Z",
     "shell.execute_reply": "2024-04-06T05:53:00.336322Z",
     "shell.execute_reply.started": "2024-04-06T05:53:00.331951Z"
    }
   },
   "outputs": [],
   "source": [
    "from example_sequences.dummy_readout import DummyReadout"
   ]
  },
  {
   "cell_type": "code",
   "execution_count": 16,
   "id": "45dfa08c-7f44-47a2-bc5e-1d7bd5dc9bf3",
   "metadata": {
    "execution": {
     "iopub.execute_input": "2024-04-06T05:53:00.337316Z",
     "iopub.status.busy": "2024-04-06T05:53:00.337316Z",
     "iopub.status.idle": "2024-04-06T05:53:00.341370Z",
     "shell.execute_reply": "2024-04-06T05:53:00.341370Z",
     "shell.execute_reply.started": "2024-04-06T05:53:00.337316Z"
    }
   },
   "outputs": [],
   "source": [
    "readout_sequence_config = {\n",
    "    'parameters': {\n",
    "        't_between_measurements': {\n",
    "            'value': 50,\n",
    "            'unit': 'cycles',\n",
    "        }\n",
    "    },\n",
    "    'signals':{\n",
    "        'qubit1':{\n",
    "            'elements': {\n",
    "                'sensor1': 'readout_element',\n",
    "            },\n",
    "            'readout_points': {\n",
    "                'ref': {\n",
    "                    'method': 'average',\n",
    "                    'desc':'reference point',\n",
    "                    'observables': ['I', 'Q', 'IQ'],\n",
    "                    'save_values': True\n",
    "                },\n",
    "                'read': {\n",
    "                    'method': 'average',\n",
    "                    'desc': 'redout point',\n",
    "                    'observables': ['I', 'Q', 'IQ'],\n",
    "                    'save_values': True\n",
    "                }\n",
    "            }\n",
    "        },\n",
    "    },\n",
    "    'readout_groups': {\n",
    "        'difference': {\n",
    "            'qubit1__diff': {\n",
    "                'method': 'difference',\n",
    "                'name': 'diff',\n",
    "                'args': {\n",
    "                    'signal': 'qubit1',\n",
    "                    'minuend': 'qubit1.ref.sensor1_IQ',\n",
    "                    'subtrahend': 'qubit1.read.sensor1_IQ',\n",
    "                },\n",
    "            },\n",
    "        }\n",
    "    },\n",
    "}"
   ]
  },
  {
   "cell_type": "code",
   "execution_count": 17,
   "id": "b3e73348-13d7-47d3-8435-b3c479735fa2",
   "metadata": {
    "execution": {
     "iopub.execute_input": "2024-04-06T05:53:00.342364Z",
     "iopub.status.busy": "2024-04-06T05:53:00.342364Z",
     "iopub.status.idle": "2024-04-06T05:53:00.348355Z",
     "shell.execute_reply": "2024-04-06T05:53:00.348355Z",
     "shell.execute_reply.started": "2024-04-06T05:53:00.342364Z"
    }
   },
   "outputs": [
    {
     "name": "stdout",
     "output_type": "stream",
     "text": [
      "dict_keys(['dummy_readout_qubit1__ref__sensor1_I', 'dummy_readout_qubit1__ref__sensor1_Q', 'dummy_readout_qubit1__ref__sensor1_IQ'])\n",
      "dict_keys(['dummy_readout_qubit1__read__sensor1_I', 'dummy_readout_qubit1__read__sensor1_Q', 'dummy_readout_qubit1__read__sensor1_IQ'])\n"
     ]
    }
   ],
   "source": [
    "dummy_readout = DummyReadout('dummy_readout', dummy_sample, readout_sequence_config)"
   ]
  },
  {
   "cell_type": "code",
   "execution_count": 18,
   "id": "047ec006-6515-4c2c-a417-02fddd749982",
   "metadata": {
    "execution": {
     "iopub.execute_input": "2024-04-06T05:53:00.349352Z",
     "iopub.status.busy": "2024-04-06T05:53:00.349352Z",
     "iopub.status.idle": "2024-04-06T05:53:00.353487Z",
     "shell.execute_reply": "2024-04-06T05:53:00.353487Z",
     "shell.execute_reply.started": "2024-04-06T05:53:00.349352Z"
    }
   },
   "outputs": [],
   "source": [
    "dummy_sequence.add_subsequence(dummy_readout)"
   ]
  },
  {
   "cell_type": "code",
   "execution_count": 19,
   "id": "4d843f4a-fab1-48f9-a019-2bd693465273",
   "metadata": {
    "execution": {
     "iopub.execute_input": "2024-04-06T05:53:00.354478Z",
     "iopub.status.busy": "2024-04-06T05:53:00.354478Z",
     "iopub.status.idle": "2024-04-06T05:53:00.569522Z",
     "shell.execute_reply": "2024-04-06T05:53:00.569522Z",
     "shell.execute_reply.started": "2024-04-06T05:53:00.354478Z"
    }
   },
   "outputs": [
    {
     "name": "stderr",
     "output_type": "stream",
     "text": [
      "C:\\Users\\labuser\\GitRepos\\arbok_driver\\arbok_driver\\sweep.py:218: UserWarning: Your input array None for amplitude will be parametrized, check output\n",
      "  warnings.warn(\n"
     ]
    },
    {
     "data": {
      "text/plain": [
       "\u001b[1;31mType:\u001b[0m        module\n",
       "\u001b[1;31mString form:\u001b[0m <module 'compiled_readout_qua_program' from 'C:\\\\Users\\\\labuser\\\\GitRepos\\\\arbok_driver\\\\docs\\\\compiled_readout_qua_program.py'>\n",
       "\u001b[1;31mFile:\u001b[0m        c:\\users\\labuser\\gitrepos\\arbok_driver\\docs\\compiled_readout_qua_program.py\n",
       "\u001b[1;31mSource:\u001b[0m     \n",
       "\u001b[1;33m\n",
       "\u001b[0m\u001b[1;31m# Single QUA script generated at 2024-04-06 16:53:00.523429\u001b[0m\u001b[1;33m\n",
       "\u001b[0m\u001b[1;31m# QUA library version: 1.1.7\u001b[0m\u001b[1;33m\n",
       "\u001b[0m\u001b[1;33m\n",
       "\u001b[0m\u001b[1;32mfrom\u001b[0m \u001b[0mqm\u001b[0m\u001b[1;33m.\u001b[0m\u001b[0mqua\u001b[0m \u001b[1;32mimport\u001b[0m \u001b[1;33m*\u001b[0m\u001b[1;33m\n",
       "\u001b[0m\u001b[1;33m\n",
       "\u001b[0m\u001b[1;32mwith\u001b[0m \u001b[0mprogram\u001b[0m\u001b[1;33m(\u001b[0m\u001b[1;33m)\u001b[0m \u001b[1;32mas\u001b[0m \u001b[0mprog\u001b[0m\u001b[1;33m:\u001b[0m\u001b[1;33m\n",
       "\u001b[0m    \u001b[0mv1\u001b[0m \u001b[1;33m=\u001b[0m \u001b[0mdeclare\u001b[0m\u001b[1;33m(\u001b[0m\u001b[0mint\u001b[0m\u001b[1;33m,\u001b[0m \u001b[1;33m)\u001b[0m\u001b[1;33m\n",
       "\u001b[0m    \u001b[0mv2\u001b[0m \u001b[1;33m=\u001b[0m \u001b[0mdeclare\u001b[0m\u001b[1;33m(\u001b[0m\u001b[0mfixed\u001b[0m\u001b[1;33m,\u001b[0m \u001b[1;33m)\u001b[0m\u001b[1;33m\n",
       "\u001b[0m    \u001b[0mv3\u001b[0m \u001b[1;33m=\u001b[0m \u001b[0mdeclare\u001b[0m\u001b[1;33m(\u001b[0m\u001b[0mfixed\u001b[0m\u001b[1;33m,\u001b[0m \u001b[1;33m)\u001b[0m\u001b[1;33m\n",
       "\u001b[0m    \u001b[0mv4\u001b[0m \u001b[1;33m=\u001b[0m \u001b[0mdeclare\u001b[0m\u001b[1;33m(\u001b[0m\u001b[0mfixed\u001b[0m\u001b[1;33m,\u001b[0m \u001b[1;33m)\u001b[0m\u001b[1;33m\n",
       "\u001b[0m    \u001b[0mv5\u001b[0m \u001b[1;33m=\u001b[0m \u001b[0mdeclare\u001b[0m\u001b[1;33m(\u001b[0m\u001b[0mfixed\u001b[0m\u001b[1;33m,\u001b[0m \u001b[1;33m)\u001b[0m\u001b[1;33m\n",
       "\u001b[0m    \u001b[0mv6\u001b[0m \u001b[1;33m=\u001b[0m \u001b[0mdeclare\u001b[0m\u001b[1;33m(\u001b[0m\u001b[0mfixed\u001b[0m\u001b[1;33m,\u001b[0m \u001b[1;33m)\u001b[0m\u001b[1;33m\n",
       "\u001b[0m    \u001b[0mv7\u001b[0m \u001b[1;33m=\u001b[0m \u001b[0mdeclare\u001b[0m\u001b[1;33m(\u001b[0m\u001b[0mfixed\u001b[0m\u001b[1;33m,\u001b[0m \u001b[1;33m)\u001b[0m\u001b[1;33m\n",
       "\u001b[0m    \u001b[0mv8\u001b[0m \u001b[1;33m=\u001b[0m \u001b[0mdeclare\u001b[0m\u001b[1;33m(\u001b[0m\u001b[0mfixed\u001b[0m\u001b[1;33m,\u001b[0m \u001b[1;33m)\u001b[0m\u001b[1;33m\n",
       "\u001b[0m    \u001b[0mv9\u001b[0m \u001b[1;33m=\u001b[0m \u001b[0mdeclare\u001b[0m\u001b[1;33m(\u001b[0m\u001b[0mint\u001b[0m\u001b[1;33m,\u001b[0m \u001b[1;33m)\u001b[0m\u001b[1;33m\n",
       "\u001b[0m    \u001b[1;32mwith\u001b[0m \u001b[0minfinite_loop_\u001b[0m\u001b[1;33m(\u001b[0m\u001b[1;33m)\u001b[0m\u001b[1;33m:\u001b[0m\u001b[1;33m\n",
       "\u001b[0m        \u001b[0mpause\u001b[0m\u001b[1;33m(\u001b[0m\u001b[1;33m)\u001b[0m\u001b[1;33m\n",
       "\u001b[0m        \u001b[1;32mwith\u001b[0m \u001b[0mfor_\u001b[0m\u001b[1;33m(\u001b[0m\u001b[0mv1\u001b[0m\u001b[1;33m,\u001b[0m\u001b[1;36m0\u001b[0m\u001b[1;33m,\u001b[0m\u001b[1;33m(\u001b[0m\u001b[0mv1\u001b[0m\u001b[1;33m<\u001b[0m\u001b[1;36m1.125\u001b[0m\u001b[1;33m)\u001b[0m\u001b[1;33m,\u001b[0m\u001b[1;33m(\u001b[0m\u001b[0mv1\u001b[0m\u001b[1;33m+\u001b[0m\u001b[1;36m0.25\u001b[0m\u001b[1;33m)\u001b[0m\u001b[1;33m)\u001b[0m\u001b[1;33m:\u001b[0m\u001b[1;33m\n",
       "\u001b[0m            \u001b[0malign\u001b[0m\u001b[1;33m(\u001b[0m\u001b[1;33m)\u001b[0m\u001b[1;33m\n",
       "\u001b[0m            \u001b[0mplay\u001b[0m\u001b[1;33m(\u001b[0m\u001b[1;34m\"ramp\"\u001b[0m\u001b[1;33m*\u001b[0m\u001b[0mamp\u001b[0m\u001b[1;33m(\u001b[0m\u001b[0mv1\u001b[0m\u001b[1;33m)\u001b[0m\u001b[1;33m,\u001b[0m \u001b[1;34m\"gate_1\"\u001b[0m\u001b[1;33m)\u001b[0m\u001b[1;33m\n",
       "\u001b[0m            \u001b[0mwait\u001b[0m\u001b[1;33m(\u001b[0m\u001b[1;36m100\u001b[0m\u001b[1;33m,\u001b[0m \u001b[1;34m\"gate_1\"\u001b[0m\u001b[1;33m)\u001b[0m\u001b[1;33m\n",
       "\u001b[0m            \u001b[0mplay\u001b[0m\u001b[1;33m(\u001b[0m\u001b[1;34m\"ramp\"\u001b[0m\u001b[1;33m*\u001b[0m\u001b[0mamp\u001b[0m\u001b[1;33m(\u001b[0m\u001b[1;33m(\u001b[0m\u001b[1;36m0\u001b[0m\u001b[1;33m-\u001b[0m\u001b[0mv1\u001b[0m\u001b[1;33m)\u001b[0m\u001b[1;33m)\u001b[0m\u001b[1;33m,\u001b[0m \u001b[1;34m\"gate_1\"\u001b[0m\u001b[1;33m)\u001b[0m\u001b[1;33m\n",
       "\u001b[0m            \u001b[0malign\u001b[0m\u001b[1;33m(\u001b[0m\u001b[1;33m)\u001b[0m\u001b[1;33m\n",
       "\u001b[0m            \u001b[0mmeasure\u001b[0m\u001b[1;33m(\u001b[0m\u001b[1;34m\"measure\"\u001b[0m\u001b[1;33m,\u001b[0m \u001b[1;34m\"readout_element\"\u001b[0m\u001b[1;33m,\u001b[0m \u001b[1;32mNone\u001b[0m\u001b[1;33m,\u001b[0m \u001b[0mintegration\u001b[0m\u001b[1;33m.\u001b[0m\u001b[0mfull\u001b[0m\u001b[1;33m(\u001b[0m\u001b[1;34m\"x\"\u001b[0m\u001b[1;33m,\u001b[0m \u001b[0mv2\u001b[0m\u001b[1;33m,\u001b[0m \u001b[1;34m\"\"\u001b[0m\u001b[1;33m)\u001b[0m\u001b[1;33m,\u001b[0m \u001b[0mintegration\u001b[0m\u001b[1;33m.\u001b[0m\u001b[0mfull\u001b[0m\u001b[1;33m(\u001b[0m\u001b[1;34m\"y\"\u001b[0m\u001b[1;33m,\u001b[0m \u001b[0mv3\u001b[0m\u001b[1;33m,\u001b[0m \u001b[1;34m\"\"\u001b[0m\u001b[1;33m)\u001b[0m\u001b[1;33m)\u001b[0m\u001b[1;33m\n",
       "\u001b[0m            \u001b[0massign\u001b[0m\u001b[1;33m(\u001b[0m\u001b[0mv4\u001b[0m\u001b[1;33m,\u001b[0m \u001b[1;33m(\u001b[0m\u001b[0mv2\u001b[0m\u001b[1;33m+\u001b[0m\u001b[0mv3\u001b[0m\u001b[1;33m)\u001b[0m\u001b[1;33m)\u001b[0m\u001b[1;33m\n",
       "\u001b[0m            \u001b[0mr1\u001b[0m \u001b[1;33m=\u001b[0m \u001b[0mdeclare_stream\u001b[0m\u001b[1;33m(\u001b[0m\u001b[1;33m)\u001b[0m\u001b[1;33m\n",
       "\u001b[0m            \u001b[0msave\u001b[0m\u001b[1;33m(\u001b[0m\u001b[0mv2\u001b[0m\u001b[1;33m,\u001b[0m \u001b[0mr1\u001b[0m\u001b[1;33m)\u001b[0m\u001b[1;33m\n",
       "\u001b[0m            \u001b[0mr2\u001b[0m \u001b[1;33m=\u001b[0m \u001b[0mdeclare_stream\u001b[0m\u001b[1;33m(\u001b[0m\u001b[1;33m)\u001b[0m\u001b[1;33m\n",
       "\u001b[0m            \u001b[0msave\u001b[0m\u001b[1;33m(\u001b[0m\u001b[0mv3\u001b[0m\u001b[1;33m,\u001b[0m \u001b[0mr2\u001b[0m\u001b[1;33m)\u001b[0m\u001b[1;33m\n",
       "\u001b[0m            \u001b[0mr3\u001b[0m \u001b[1;33m=\u001b[0m \u001b[0mdeclare_stream\u001b[0m\u001b[1;33m(\u001b[0m\u001b[1;33m)\u001b[0m\u001b[1;33m\n",
       "\u001b[0m            \u001b[0msave\u001b[0m\u001b[1;33m(\u001b[0m\u001b[0mv4\u001b[0m\u001b[1;33m,\u001b[0m \u001b[0mr3\u001b[0m\u001b[1;33m)\u001b[0m\u001b[1;33m\n",
       "\u001b[0m            \u001b[0mwait\u001b[0m\u001b[1;33m(\u001b[0m\u001b[1;36m50\u001b[0m\u001b[1;33m,\u001b[0m \u001b[1;33m)\u001b[0m\u001b[1;33m\n",
       "\u001b[0m            \u001b[0mmeasure\u001b[0m\u001b[1;33m(\u001b[0m\u001b[1;34m\"measure\"\u001b[0m\u001b[1;33m,\u001b[0m \u001b[1;34m\"readout_element\"\u001b[0m\u001b[1;33m,\u001b[0m \u001b[1;32mNone\u001b[0m\u001b[1;33m,\u001b[0m \u001b[0mintegration\u001b[0m\u001b[1;33m.\u001b[0m\u001b[0mfull\u001b[0m\u001b[1;33m(\u001b[0m\u001b[1;34m\"x\"\u001b[0m\u001b[1;33m,\u001b[0m \u001b[0mv5\u001b[0m\u001b[1;33m,\u001b[0m \u001b[1;34m\"\"\u001b[0m\u001b[1;33m)\u001b[0m\u001b[1;33m,\u001b[0m \u001b[0mintegration\u001b[0m\u001b[1;33m.\u001b[0m\u001b[0mfull\u001b[0m\u001b[1;33m(\u001b[0m\u001b[1;34m\"y\"\u001b[0m\u001b[1;33m,\u001b[0m \u001b[0mv6\u001b[0m\u001b[1;33m,\u001b[0m \u001b[1;34m\"\"\u001b[0m\u001b[1;33m)\u001b[0m\u001b[1;33m)\u001b[0m\u001b[1;33m\n",
       "\u001b[0m            \u001b[0massign\u001b[0m\u001b[1;33m(\u001b[0m\u001b[0mv7\u001b[0m\u001b[1;33m,\u001b[0m \u001b[1;33m(\u001b[0m\u001b[0mv5\u001b[0m\u001b[1;33m+\u001b[0m\u001b[0mv6\u001b[0m\u001b[1;33m)\u001b[0m\u001b[1;33m)\u001b[0m\u001b[1;33m\n",
       "\u001b[0m            \u001b[0mr4\u001b[0m \u001b[1;33m=\u001b[0m \u001b[0mdeclare_stream\u001b[0m\u001b[1;33m(\u001b[0m\u001b[1;33m)\u001b[0m\u001b[1;33m\n",
       "\u001b[0m            \u001b[0msave\u001b[0m\u001b[1;33m(\u001b[0m\u001b[0mv5\u001b[0m\u001b[1;33m,\u001b[0m \u001b[0mr4\u001b[0m\u001b[1;33m)\u001b[0m\u001b[1;33m\n",
       "\u001b[0m            \u001b[0mr5\u001b[0m \u001b[1;33m=\u001b[0m \u001b[0mdeclare_stream\u001b[0m\u001b[1;33m(\u001b[0m\u001b[1;33m)\u001b[0m\u001b[1;33m\n",
       "\u001b[0m            \u001b[0msave\u001b[0m\u001b[1;33m(\u001b[0m\u001b[0mv6\u001b[0m\u001b[1;33m,\u001b[0m \u001b[0mr5\u001b[0m\u001b[1;33m)\u001b[0m\u001b[1;33m\n",
       "\u001b[0m            \u001b[0mr6\u001b[0m \u001b[1;33m=\u001b[0m \u001b[0mdeclare_stream\u001b[0m\u001b[1;33m(\u001b[0m\u001b[1;33m)\u001b[0m\u001b[1;33m\n",
       "\u001b[0m            \u001b[0msave\u001b[0m\u001b[1;33m(\u001b[0m\u001b[0mv7\u001b[0m\u001b[1;33m,\u001b[0m \u001b[0mr6\u001b[0m\u001b[1;33m)\u001b[0m\u001b[1;33m\n",
       "\u001b[0m            \u001b[0massign\u001b[0m\u001b[1;33m(\u001b[0m\u001b[0mv8\u001b[0m\u001b[1;33m,\u001b[0m \u001b[1;33m(\u001b[0m\u001b[0mv4\u001b[0m\u001b[1;33m-\u001b[0m\u001b[0mv7\u001b[0m\u001b[1;33m)\u001b[0m\u001b[1;33m)\u001b[0m\u001b[1;33m\n",
       "\u001b[0m            \u001b[0mr7\u001b[0m \u001b[1;33m=\u001b[0m \u001b[0mdeclare_stream\u001b[0m\u001b[1;33m(\u001b[0m\u001b[1;33m)\u001b[0m\u001b[1;33m\n",
       "\u001b[0m            \u001b[0msave\u001b[0m\u001b[1;33m(\u001b[0m\u001b[0mv8\u001b[0m\u001b[1;33m,\u001b[0m \u001b[0mr7\u001b[0m\u001b[1;33m)\u001b[0m\u001b[1;33m\n",
       "\u001b[0m    \u001b[1;32mwith\u001b[0m \u001b[0mstream_processing\u001b[0m\u001b[1;33m(\u001b[0m\u001b[1;33m)\u001b[0m\u001b[1;33m:\u001b[0m\u001b[1;33m\n",
       "\u001b[0m        \u001b[0mr1\u001b[0m\u001b[1;33m.\u001b[0m\u001b[0mbuffer\u001b[0m\u001b[1;33m(\u001b[0m\u001b[1;36m5\u001b[0m\u001b[1;33m)\u001b[0m\u001b[1;33m.\u001b[0m\u001b[0msave\u001b[0m\u001b[1;33m(\u001b[0m\u001b[1;34m\"dummy_readout_qubit1__ref__sensor1_I_buffer\"\u001b[0m\u001b[1;33m)\u001b[0m\u001b[1;33m\n",
       "\u001b[0m        \u001b[0mr1\u001b[0m\u001b[1;33m.\u001b[0m\u001b[0msave_all\u001b[0m\u001b[1;33m(\u001b[0m\u001b[1;34m\"dummy_readout_qubit1__ref__sensor1_I\"\u001b[0m\u001b[1;33m)\u001b[0m\u001b[1;33m\n",
       "\u001b[0m        \u001b[0mr2\u001b[0m\u001b[1;33m.\u001b[0m\u001b[0mbuffer\u001b[0m\u001b[1;33m(\u001b[0m\u001b[1;36m5\u001b[0m\u001b[1;33m)\u001b[0m\u001b[1;33m.\u001b[0m\u001b[0msave\u001b[0m\u001b[1;33m(\u001b[0m\u001b[1;34m\"dummy_readout_qubit1__ref__sensor1_Q_buffer\"\u001b[0m\u001b[1;33m)\u001b[0m\u001b[1;33m\n",
       "\u001b[0m        \u001b[0mr2\u001b[0m\u001b[1;33m.\u001b[0m\u001b[0msave_all\u001b[0m\u001b[1;33m(\u001b[0m\u001b[1;34m\"dummy_readout_qubit1__ref__sensor1_Q\"\u001b[0m\u001b[1;33m)\u001b[0m\u001b[1;33m\n",
       "\u001b[0m        \u001b[0mr3\u001b[0m\u001b[1;33m.\u001b[0m\u001b[0mbuffer\u001b[0m\u001b[1;33m(\u001b[0m\u001b[1;36m5\u001b[0m\u001b[1;33m)\u001b[0m\u001b[1;33m.\u001b[0m\u001b[0msave\u001b[0m\u001b[1;33m(\u001b[0m\u001b[1;34m\"dummy_readout_qubit1__ref__sensor1_IQ_buffer\"\u001b[0m\u001b[1;33m)\u001b[0m\u001b[1;33m\n",
       "\u001b[0m        \u001b[0mr3\u001b[0m\u001b[1;33m.\u001b[0m\u001b[0msave_all\u001b[0m\u001b[1;33m(\u001b[0m\u001b[1;34m\"dummy_readout_qubit1__ref__sensor1_IQ\"\u001b[0m\u001b[1;33m)\u001b[0m\u001b[1;33m\n",
       "\u001b[0m        \u001b[0mr4\u001b[0m\u001b[1;33m.\u001b[0m\u001b[0mbuffer\u001b[0m\u001b[1;33m(\u001b[0m\u001b[1;36m5\u001b[0m\u001b[1;33m)\u001b[0m\u001b[1;33m.\u001b[0m\u001b[0msave\u001b[0m\u001b[1;33m(\u001b[0m\u001b[1;34m\"dummy_readout_qubit1__read__sensor1_I_buffer\"\u001b[0m\u001b[1;33m)\u001b[0m\u001b[1;33m\n",
       "\u001b[0m        \u001b[0mr4\u001b[0m\u001b[1;33m.\u001b[0m\u001b[0msave_all\u001b[0m\u001b[1;33m(\u001b[0m\u001b[1;34m\"dummy_readout_qubit1__read__sensor1_I\"\u001b[0m\u001b[1;33m)\u001b[0m\u001b[1;33m\n",
       "\u001b[0m        \u001b[0mr5\u001b[0m\u001b[1;33m.\u001b[0m\u001b[0mbuffer\u001b[0m\u001b[1;33m(\u001b[0m\u001b[1;36m5\u001b[0m\u001b[1;33m)\u001b[0m\u001b[1;33m.\u001b[0m\u001b[0msave\u001b[0m\u001b[1;33m(\u001b[0m\u001b[1;34m\"dummy_readout_qubit1__read__sensor1_Q_buffer\"\u001b[0m\u001b[1;33m)\u001b[0m\u001b[1;33m\n",
       "\u001b[0m        \u001b[0mr5\u001b[0m\u001b[1;33m.\u001b[0m\u001b[0msave_all\u001b[0m\u001b[1;33m(\u001b[0m\u001b[1;34m\"dummy_readout_qubit1__read__sensor1_Q\"\u001b[0m\u001b[1;33m)\u001b[0m\u001b[1;33m\n",
       "\u001b[0m        \u001b[0mr6\u001b[0m\u001b[1;33m.\u001b[0m\u001b[0mbuffer\u001b[0m\u001b[1;33m(\u001b[0m\u001b[1;36m5\u001b[0m\u001b[1;33m)\u001b[0m\u001b[1;33m.\u001b[0m\u001b[0msave\u001b[0m\u001b[1;33m(\u001b[0m\u001b[1;34m\"dummy_readout_qubit1__read__sensor1_IQ_buffer\"\u001b[0m\u001b[1;33m)\u001b[0m\u001b[1;33m\n",
       "\u001b[0m        \u001b[0mr6\u001b[0m\u001b[1;33m.\u001b[0m\u001b[0msave_all\u001b[0m\u001b[1;33m(\u001b[0m\u001b[1;34m\"dummy_readout_qubit1__read__sensor1_IQ\"\u001b[0m\u001b[1;33m)\u001b[0m\u001b[1;33m\n",
       "\u001b[0m        \u001b[0mr7\u001b[0m\u001b[1;33m.\u001b[0m\u001b[0mbuffer\u001b[0m\u001b[1;33m(\u001b[0m\u001b[1;36m5\u001b[0m\u001b[1;33m)\u001b[0m\u001b[1;33m.\u001b[0m\u001b[0msave\u001b[0m\u001b[1;33m(\u001b[0m\u001b[1;34m\"dummy_readout_qubit1__diff_buffer\"\u001b[0m\u001b[1;33m)\u001b[0m\u001b[1;33m\n",
       "\u001b[0m        \u001b[0mr7\u001b[0m\u001b[1;33m.\u001b[0m\u001b[0msave_all\u001b[0m\u001b[1;33m(\u001b[0m\u001b[1;34m\"dummy_readout_qubit1__diff\"\u001b[0m\u001b[1;33m)\u001b[0m\u001b[1;33m\n",
       "\u001b[0m\u001b[1;33m\n",
       "\u001b[0m\u001b[1;33m\n",
       "\u001b[0m\u001b[0mconfig\u001b[0m \u001b[1;33m=\u001b[0m \u001b[1;32mNone\u001b[0m\u001b[1;33m\n",
       "\u001b[0m\u001b[1;33m\n",
       "\u001b[0m\u001b[0mloaded_config\u001b[0m \u001b[1;33m=\u001b[0m \u001b[1;32mNone\u001b[0m\u001b[1;33m\u001b[0m\u001b[1;33m\u001b[0m\u001b[0m"
      ]
     },
     "metadata": {},
     "output_type": "display_data"
    }
   ],
   "source": [
    "qua_program = qm_driver.get_qua_program()\n",
    "qm_driver.print_qua_program_to_file(\n",
    "    'compiled_readout_qua_program.py', qua_program)\n",
    "import compiled_readout_qua_program\n",
    "compiled_readout_qua_program??"
   ]
  },
  {
   "cell_type": "code",
   "execution_count": null,
   "id": "34f3f7d3-e29c-4c28-a8c1-affb6e7305c0",
   "metadata": {},
   "outputs": [],
   "source": []
  }
 ],
 "metadata": {
  "kernelspec": {
   "display_name": "arbok_env11",
   "language": "python",
   "name": "arbok_env11"
  },
  "language_info": {
   "codemirror_mode": {
    "name": "ipython",
    "version": 3
   },
   "file_extension": ".py",
   "mimetype": "text/x-python",
   "name": "python",
   "nbconvert_exporter": "python",
   "pygments_lexer": "ipython3",
   "version": "3.11.7"
  }
 },
 "nbformat": 4,
 "nbformat_minor": 5
}
