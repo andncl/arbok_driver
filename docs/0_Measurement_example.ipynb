{
 "cells": [
  {
   "cell_type": "markdown",
   "id": "b4db0bfb-f716-41a4-a0e5-a7761c3ec941",
   "metadata": {},
   "source": [
    "# Tutorial 0) Measurement notebook example"
   ]
  },
  {
   "cell_type": "markdown",
   "id": "1ee2a9b7-9b9e-4e7b-8967-6bc9340a70c6",
   "metadata": {},
   "source": [
    "The following tutorials all focus on a specific aspect of arbok. This notebook on the other hand gives as few comments as possible and provides structure of a real world measurement notebook."
   ]
  },
  {
   "cell_type": "markdown",
   "id": "55cf8861-0348-4c57-8140-6110b6794f1d",
   "metadata": {},
   "source": [
    "## 1. Importing modules"
   ]
  },
  {
   "cell_type": "markdown",
   "id": "60e41cb9-3717-4cb4-8fae-da73b4e61a8e",
   "metadata": {},
   "source": [
    "### 1.1 Import of arbok modules"
   ]
  },
  {
   "cell_type": "code",
   "execution_count": 1,
   "id": "d1a1b2d4-79f4-4d77-ba98-aa3212855829",
   "metadata": {
    "execution": {
     "iopub.execute_input": "2025-09-02T07:56:23.336617Z",
     "iopub.status.busy": "2025-09-02T07:56:23.336617Z",
     "iopub.status.idle": "2025-09-02T07:56:26.951339Z",
     "shell.execute_reply": "2025-09-02T07:56:26.951339Z",
     "shell.execute_reply.started": "2025-09-02T07:56:23.336617Z"
    }
   },
   "outputs": [
    {
     "name": "stdout",
     "output_type": "stream",
     "text": [
      "2025-09-02 17:56:25,910 - qm - INFO     - Starting session: 8ebfff36-32f4-480f-8fb3-70633b8efafc\n"
     ]
    }
   ],
   "source": [
    "from arbok_driver import ArbokDriver, Device, Measurement\n",
    "\n",
    "from configurations.opx_config import opx_config\n",
    "from configurations.divider_config import divider_config"
   ]
  },
  {
   "cell_type": "code",
   "execution_count": 2,
   "id": "789cd51c-e993-4fd0-84a9-0b8f431109f7",
   "metadata": {
    "execution": {
     "iopub.execute_input": "2025-09-02T07:56:26.952327Z",
     "iopub.status.busy": "2025-09-02T07:56:26.952327Z",
     "iopub.status.idle": "2025-09-02T07:56:26.955604Z",
     "shell.execute_reply": "2025-09-02T07:56:26.955604Z",
     "shell.execute_reply.started": "2025-09-02T07:56:26.952327Z"
    }
   },
   "outputs": [],
   "source": [
    "mock_device = Device(\n",
    "    name = 'mock_device',\n",
    "    opx_config = opx_config,\n",
    "    divider_config = divider_config)\n",
    "\n",
    "mock_driver = ArbokDriver(\n",
    "    name = 'mock_driver',\n",
    "    device = mock_device\n",
    ")"
   ]
  },
  {
   "cell_type": "code",
   "execution_count": 3,
   "id": "84811edc-4e7b-4ca1-800b-bc446705d5ec",
   "metadata": {
    "execution": {
     "iopub.execute_input": "2025-09-02T07:56:26.956600Z",
     "iopub.status.busy": "2025-09-02T07:56:26.956600Z",
     "iopub.status.idle": "2025-09-02T07:56:26.965905Z",
     "shell.execute_reply": "2025-09-02T07:56:26.965905Z",
     "shell.execute_reply.started": "2025-09-02T07:56:26.956600Z"
    }
   },
   "outputs": [],
   "source": [
    "mock_measurement = Measurement(\n",
    "    parent = mock_driver,\n",
    "    name = \"mock_measurement\",\n",
    "    device = mock_device\n",
    ")"
   ]
  },
  {
   "cell_type": "markdown",
   "id": "f9d7d1a2-bffc-4367-ad03-fcffd80df574",
   "metadata": {},
   "source": [
    "### Populating the measurement"
   ]
  },
  {
   "cell_type": "markdown",
   "id": "80658ec1-2220-4d34-857d-addd87fef151",
   "metadata": {},
   "source": [
    "Let's look back on what we did so far! We created a `Device` object that holds the configuration for the OPX as well as a configuration describing the installed dividers on our lines.\n",
    "That device is then used to create an `ArbokDriver` instance. So far so good but now we want to create some actual measurements."
   ]
  },
  {
   "cell_type": "markdown",
   "id": "3c6b07ac-967d-40ef-a76d-ff73adde6965",
   "metadata": {},
   "source": [
    "The fundamental building blocks of arbok are called `SubSequence`s. Those can be arbitrarily simple or complicated.\n",
    "Below we are inspecting an easy `SquarePulse` class inheriting from `SubSequence`. An element is ramped to a certain amplitude, a wait time is being passed and finally the element is ramped back to its inital voltage. This is assuming the given element is ['sticky'](https://docs.quantum-machines.co/latest/docs/Guides/features/?h=sticky#sticky-element).\n",
    "\n",
    "You already see that some of the attributes are being called with brackets e.g self.element(), self.ramp_time(), etc. Those will become important in a bit!"
   ]
  },
  {
   "cell_type": "code",
   "execution_count": 4,
   "id": "573fd55a-d778-40ad-b722-e976027c6aea",
   "metadata": {
    "execution": {
     "iopub.execute_input": "2025-09-02T07:56:26.966417Z",
     "iopub.status.busy": "2025-09-02T07:56:26.966417Z",
     "iopub.status.idle": "2025-09-02T07:56:26.975911Z",
     "shell.execute_reply": "2025-09-02T07:56:26.975911Z",
     "shell.execute_reply.started": "2025-09-02T07:56:26.966417Z"
    }
   },
   "outputs": [],
   "source": [
    "import inspect\n",
    "from IPython.display import Code, display"
   ]
  },
  {
   "cell_type": "code",
   "execution_count": 5,
   "id": "eeb90c3e-46ee-444b-85c3-eab064c4153d",
   "metadata": {
    "execution": {
     "iopub.execute_input": "2025-09-02T07:56:26.976424Z",
     "iopub.status.busy": "2025-09-02T07:56:26.976424Z",
     "iopub.status.idle": "2025-09-02T07:56:27.029492Z",
     "shell.execute_reply": "2025-09-02T07:56:27.029492Z",
     "shell.execute_reply.started": "2025-09-02T07:56:26.976424Z"
    }
   },
   "outputs": [
    {
     "data": {
      "text/html": [
       "<style>pre { line-height: 125%; }\n",
       "td.linenos .normal { color: inherit; background-color: transparent; padding-left: 5px; padding-right: 5px; }\n",
       "span.linenos { color: inherit; background-color: transparent; padding-left: 5px; padding-right: 5px; }\n",
       "td.linenos .special { color: #000000; background-color: #ffffc0; padding-left: 5px; padding-right: 5px; }\n",
       "span.linenos.special { color: #000000; background-color: #ffffc0; padding-left: 5px; padding-right: 5px; }\n",
       ".output_html .hll { background-color: #ffffcc }\n",
       ".output_html { background: #f8f8f8; }\n",
       ".output_html .c { color: #3D7B7B; font-style: italic } /* Comment */\n",
       ".output_html .err { border: 1px solid #F00 } /* Error */\n",
       ".output_html .k { color: #008000; font-weight: bold } /* Keyword */\n",
       ".output_html .o { color: #666 } /* Operator */\n",
       ".output_html .ch { color: #3D7B7B; font-style: italic } /* Comment.Hashbang */\n",
       ".output_html .cm { color: #3D7B7B; font-style: italic } /* Comment.Multiline */\n",
       ".output_html .cp { color: #9C6500 } /* Comment.Preproc */\n",
       ".output_html .cpf { color: #3D7B7B; font-style: italic } /* Comment.PreprocFile */\n",
       ".output_html .c1 { color: #3D7B7B; font-style: italic } /* Comment.Single */\n",
       ".output_html .cs { color: #3D7B7B; font-style: italic } /* Comment.Special */\n",
       ".output_html .gd { color: #A00000 } /* Generic.Deleted */\n",
       ".output_html .ge { font-style: italic } /* Generic.Emph */\n",
       ".output_html .ges { font-weight: bold; font-style: italic } /* Generic.EmphStrong */\n",
       ".output_html .gr { color: #E40000 } /* Generic.Error */\n",
       ".output_html .gh { color: #000080; font-weight: bold } /* Generic.Heading */\n",
       ".output_html .gi { color: #008400 } /* Generic.Inserted */\n",
       ".output_html .go { color: #717171 } /* Generic.Output */\n",
       ".output_html .gp { color: #000080; font-weight: bold } /* Generic.Prompt */\n",
       ".output_html .gs { font-weight: bold } /* Generic.Strong */\n",
       ".output_html .gu { color: #800080; font-weight: bold } /* Generic.Subheading */\n",
       ".output_html .gt { color: #04D } /* Generic.Traceback */\n",
       ".output_html .kc { color: #008000; font-weight: bold } /* Keyword.Constant */\n",
       ".output_html .kd { color: #008000; font-weight: bold } /* Keyword.Declaration */\n",
       ".output_html .kn { color: #008000; font-weight: bold } /* Keyword.Namespace */\n",
       ".output_html .kp { color: #008000 } /* Keyword.Pseudo */\n",
       ".output_html .kr { color: #008000; font-weight: bold } /* Keyword.Reserved */\n",
       ".output_html .kt { color: #B00040 } /* Keyword.Type */\n",
       ".output_html .m { color: #666 } /* Literal.Number */\n",
       ".output_html .s { color: #BA2121 } /* Literal.String */\n",
       ".output_html .na { color: #687822 } /* Name.Attribute */\n",
       ".output_html .nb { color: #008000 } /* Name.Builtin */\n",
       ".output_html .nc { color: #00F; font-weight: bold } /* Name.Class */\n",
       ".output_html .no { color: #800 } /* Name.Constant */\n",
       ".output_html .nd { color: #A2F } /* Name.Decorator */\n",
       ".output_html .ni { color: #717171; font-weight: bold } /* Name.Entity */\n",
       ".output_html .ne { color: #CB3F38; font-weight: bold } /* Name.Exception */\n",
       ".output_html .nf { color: #00F } /* Name.Function */\n",
       ".output_html .nl { color: #767600 } /* Name.Label */\n",
       ".output_html .nn { color: #00F; font-weight: bold } /* Name.Namespace */\n",
       ".output_html .nt { color: #008000; font-weight: bold } /* Name.Tag */\n",
       ".output_html .nv { color: #19177C } /* Name.Variable */\n",
       ".output_html .ow { color: #A2F; font-weight: bold } /* Operator.Word */\n",
       ".output_html .w { color: #BBB } /* Text.Whitespace */\n",
       ".output_html .mb { color: #666 } /* Literal.Number.Bin */\n",
       ".output_html .mf { color: #666 } /* Literal.Number.Float */\n",
       ".output_html .mh { color: #666 } /* Literal.Number.Hex */\n",
       ".output_html .mi { color: #666 } /* Literal.Number.Integer */\n",
       ".output_html .mo { color: #666 } /* Literal.Number.Oct */\n",
       ".output_html .sa { color: #BA2121 } /* Literal.String.Affix */\n",
       ".output_html .sb { color: #BA2121 } /* Literal.String.Backtick */\n",
       ".output_html .sc { color: #BA2121 } /* Literal.String.Char */\n",
       ".output_html .dl { color: #BA2121 } /* Literal.String.Delimiter */\n",
       ".output_html .sd { color: #BA2121; font-style: italic } /* Literal.String.Doc */\n",
       ".output_html .s2 { color: #BA2121 } /* Literal.String.Double */\n",
       ".output_html .se { color: #AA5D1F; font-weight: bold } /* Literal.String.Escape */\n",
       ".output_html .sh { color: #BA2121 } /* Literal.String.Heredoc */\n",
       ".output_html .si { color: #A45A77; font-weight: bold } /* Literal.String.Interpol */\n",
       ".output_html .sx { color: #008000 } /* Literal.String.Other */\n",
       ".output_html .sr { color: #A45A77 } /* Literal.String.Regex */\n",
       ".output_html .s1 { color: #BA2121 } /* Literal.String.Single */\n",
       ".output_html .ss { color: #19177C } /* Literal.String.Symbol */\n",
       ".output_html .bp { color: #008000 } /* Name.Builtin.Pseudo */\n",
       ".output_html .fm { color: #00F } /* Name.Function.Magic */\n",
       ".output_html .vc { color: #19177C } /* Name.Variable.Class */\n",
       ".output_html .vg { color: #19177C } /* Name.Variable.Global */\n",
       ".output_html .vi { color: #19177C } /* Name.Variable.Instance */\n",
       ".output_html .vm { color: #19177C } /* Name.Variable.Magic */\n",
       ".output_html .il { color: #666 } /* Literal.Number.Integer.Long */</style><div class=\"highlight\"><pre><span></span><span class=\"k\">class</span><span class=\"w\"> </span><span class=\"nc\">SquarePulse</span><span class=\"p\">(</span><span class=\"n\">SubSequence</span><span class=\"p\">):</span>\n",
       "<span class=\"w\">    </span><span class=\"sd\">&quot;&quot;&quot;</span>\n",
       "<span class=\"sd\">    Class containing parameters and sequence for a simple square pulse</span>\n",
       "<span class=\"sd\">    &quot;&quot;&quot;</span>\n",
       "\n",
       "    <span class=\"k\">def</span><span class=\"w\"> </span><span class=\"nf\">qua_sequence</span><span class=\"p\">(</span><span class=\"bp\">self</span><span class=\"p\">):</span>\n",
       "<span class=\"w\">        </span><span class=\"sd\">&quot;&quot;&quot;Macro that will be played within the qua.program() context&quot;&quot;&quot;</span>\n",
       "        <span class=\"n\">qua</span><span class=\"o\">.</span><span class=\"n\">align</span><span class=\"p\">()</span>\n",
       "        <span class=\"n\">qua</span><span class=\"o\">.</span><span class=\"n\">play</span><span class=\"p\">(</span><span class=\"s1\">&#39;ramp&#39;</span><span class=\"o\">*</span><span class=\"n\">qua</span><span class=\"o\">.</span><span class=\"n\">amp</span><span class=\"p\">(</span><span class=\"bp\">self</span><span class=\"o\">.</span><span class=\"n\">amplitude</span><span class=\"p\">()),</span> <span class=\"bp\">self</span><span class=\"o\">.</span><span class=\"n\">element</span><span class=\"p\">(),</span> <span class=\"n\">duration</span> <span class=\"o\">=</span> <span class=\"bp\">self</span><span class=\"o\">.</span><span class=\"n\">ramp_time</span><span class=\"p\">())</span>\n",
       "        <span class=\"n\">qua</span><span class=\"o\">.</span><span class=\"n\">wait</span><span class=\"p\">(</span><span class=\"bp\">self</span><span class=\"o\">.</span><span class=\"n\">t_square_pulse</span><span class=\"p\">(),</span> <span class=\"bp\">self</span><span class=\"o\">.</span><span class=\"n\">element</span><span class=\"p\">())</span>\n",
       "        <span class=\"n\">qua</span><span class=\"o\">.</span><span class=\"n\">play</span><span class=\"p\">(</span><span class=\"s1\">&#39;ramp&#39;</span><span class=\"o\">*</span><span class=\"n\">qua</span><span class=\"o\">.</span><span class=\"n\">amp</span><span class=\"p\">(</span><span class=\"o\">-</span><span class=\"bp\">self</span><span class=\"o\">.</span><span class=\"n\">amplitude</span><span class=\"p\">()),</span> <span class=\"bp\">self</span><span class=\"o\">.</span><span class=\"n\">element</span><span class=\"p\">(),</span> <span class=\"n\">duration</span> <span class=\"o\">=</span> <span class=\"bp\">self</span><span class=\"o\">.</span><span class=\"n\">ramp_time</span><span class=\"p\">())</span>\n",
       "</pre></div>\n"
      ],
      "text/latex": [
       "\\begin{Verbatim}[commandchars=\\\\\\{\\}]\n",
       "\\PY{k}{class}\\PY{+w}{ }\\PY{n+nc}{SquarePulse}\\PY{p}{(}\\PY{n}{SubSequence}\\PY{p}{)}\\PY{p}{:}\n",
       "\\PY{+w}{    }\\PY{l+s+sd}{\\PYZdq{}\\PYZdq{}\\PYZdq{}}\n",
       "\\PY{l+s+sd}{    Class containing parameters and sequence for a simple square pulse}\n",
       "\\PY{l+s+sd}{    \\PYZdq{}\\PYZdq{}\\PYZdq{}}\n",
       "\n",
       "    \\PY{k}{def}\\PY{+w}{ }\\PY{n+nf}{qua\\PYZus{}sequence}\\PY{p}{(}\\PY{n+nb+bp}{self}\\PY{p}{)}\\PY{p}{:}\n",
       "\\PY{+w}{        }\\PY{l+s+sd}{\\PYZdq{}\\PYZdq{}\\PYZdq{}Macro that will be played within the qua.program() context\\PYZdq{}\\PYZdq{}\\PYZdq{}}\n",
       "        \\PY{n}{qua}\\PY{o}{.}\\PY{n}{align}\\PY{p}{(}\\PY{p}{)}\n",
       "        \\PY{n}{qua}\\PY{o}{.}\\PY{n}{play}\\PY{p}{(}\\PY{l+s+s1}{\\PYZsq{}}\\PY{l+s+s1}{ramp}\\PY{l+s+s1}{\\PYZsq{}}\\PY{o}{*}\\PY{n}{qua}\\PY{o}{.}\\PY{n}{amp}\\PY{p}{(}\\PY{n+nb+bp}{self}\\PY{o}{.}\\PY{n}{amplitude}\\PY{p}{(}\\PY{p}{)}\\PY{p}{)}\\PY{p}{,} \\PY{n+nb+bp}{self}\\PY{o}{.}\\PY{n}{element}\\PY{p}{(}\\PY{p}{)}\\PY{p}{,} \\PY{n}{duration} \\PY{o}{=} \\PY{n+nb+bp}{self}\\PY{o}{.}\\PY{n}{ramp\\PYZus{}time}\\PY{p}{(}\\PY{p}{)}\\PY{p}{)}\n",
       "        \\PY{n}{qua}\\PY{o}{.}\\PY{n}{wait}\\PY{p}{(}\\PY{n+nb+bp}{self}\\PY{o}{.}\\PY{n}{t\\PYZus{}square\\PYZus{}pulse}\\PY{p}{(}\\PY{p}{)}\\PY{p}{,} \\PY{n+nb+bp}{self}\\PY{o}{.}\\PY{n}{element}\\PY{p}{(}\\PY{p}{)}\\PY{p}{)}\n",
       "        \\PY{n}{qua}\\PY{o}{.}\\PY{n}{play}\\PY{p}{(}\\PY{l+s+s1}{\\PYZsq{}}\\PY{l+s+s1}{ramp}\\PY{l+s+s1}{\\PYZsq{}}\\PY{o}{*}\\PY{n}{qua}\\PY{o}{.}\\PY{n}{amp}\\PY{p}{(}\\PY{o}{\\PYZhy{}}\\PY{n+nb+bp}{self}\\PY{o}{.}\\PY{n}{amplitude}\\PY{p}{(}\\PY{p}{)}\\PY{p}{)}\\PY{p}{,} \\PY{n+nb+bp}{self}\\PY{o}{.}\\PY{n}{element}\\PY{p}{(}\\PY{p}{)}\\PY{p}{,} \\PY{n}{duration} \\PY{o}{=} \\PY{n+nb+bp}{self}\\PY{o}{.}\\PY{n}{ramp\\PYZus{}time}\\PY{p}{(}\\PY{p}{)}\\PY{p}{)}\n",
       "\\end{Verbatim}\n"
      ],
      "text/plain": [
       "class SquarePulse(SubSequence):\n",
       "    \"\"\"\n",
       "    Class containing parameters and sequence for a simple square pulse\n",
       "    \"\"\"\n",
       "\n",
       "    def qua_sequence(self):\n",
       "        \"\"\"Macro that will be played within the qua.program() context\"\"\"\n",
       "        qua.align()\n",
       "        qua.play('ramp'*qua.amp(self.amplitude()), self.element(), duration = self.ramp_time())\n",
       "        qua.wait(self.t_square_pulse(), self.element())\n",
       "        qua.play('ramp'*qua.amp(-self.amplitude()), self.element(), duration = self.ramp_time())"
      ]
     },
     "metadata": {},
     "output_type": "display_data"
    }
   ],
   "source": [
    "from example_sequences.square_pulse import SquarePulse\n",
    "from configurations.square_pulse_config import square_pulse_config\n",
    "\n",
    "display(Code(inspect.getsource(SquarePulse), language=\"python\"))"
   ]
  },
  {
   "cell_type": "markdown",
   "id": "6af2cfb0-1e7c-47c9-8674-c192924cb5ea",
   "metadata": {},
   "source": [
    "In order to populate a measurement with sub-sequences, we have to create a dict reflecting the structure of our measurement. "
   ]
  },
  {
   "cell_type": "code",
   "execution_count": 6,
   "id": "fc8296ed-0ff9-4b36-92e5-a6590d5859be",
   "metadata": {
    "execution": {
     "iopub.execute_input": "2025-09-02T07:56:27.031480Z",
     "iopub.status.busy": "2025-09-02T07:56:27.031480Z",
     "iopub.status.idle": "2025-09-02T07:56:27.036479Z",
     "shell.execute_reply": "2025-09-02T07:56:27.036479Z",
     "shell.execute_reply.started": "2025-09-02T07:56:27.031480Z"
    }
   },
   "outputs": [],
   "source": [
    "sub_sequence_dict = {\n",
    "    'square_pulse': {\n",
    "        'sequence': SquarePulse,\n",
    "        'config': square_pulse_config\n",
    "    }\n",
    "}\n",
    "\n",
    "mock_measurement.add_subsequences_from_dict(sub_sequence_dict)"
   ]
  },
  {
   "cell_type": "markdown",
   "id": "71918167-f092-4ea9-9407-3d2b688b21f0",
   "metadata": {},
   "source": [
    "If you want to check the resulting structure of your measurement you can either list its sub_sequences or you draw the sub_sequence tree."
   ]
  },
  {
   "cell_type": "code",
   "execution_count": 7,
   "id": "624e504c-9093-4fb9-a05b-e32c33cc87e1",
   "metadata": {
    "execution": {
     "iopub.execute_input": "2025-09-02T07:56:27.037472Z",
     "iopub.status.busy": "2025-09-02T07:56:27.037472Z",
     "iopub.status.idle": "2025-09-02T07:56:27.049607Z",
     "shell.execute_reply": "2025-09-02T07:56:27.048610Z",
     "shell.execute_reply.started": "2025-09-02T07:56:27.037472Z"
    }
   },
   "outputs": [
    {
     "data": {
      "text/plain": [
       "[<SquarePulse: mock_driver_mock_measurement_square_pulse of Measurement: mock_driver_mock_measurement>]"
      ]
     },
     "execution_count": 7,
     "metadata": {},
     "output_type": "execute_result"
    }
   ],
   "source": [
    "mock_measurement.sub_sequences"
   ]
  },
  {
   "cell_type": "code",
   "execution_count": 8,
   "id": "46c71cf5-9c03-4a79-b042-1424082e73c8",
   "metadata": {
    "execution": {
     "iopub.execute_input": "2025-09-02T07:56:27.051601Z",
     "iopub.status.busy": "2025-09-02T07:56:27.050605Z",
     "iopub.status.idle": "2025-09-02T07:56:27.059600Z",
     "shell.execute_reply": "2025-09-02T07:56:27.059600Z",
     "shell.execute_reply.started": "2025-09-02T07:56:27.051601Z"
    }
   },
   "outputs": [
    {
     "name": "stdout",
     "output_type": "stream",
     "text": [
      "mock_measurement\n",
      " └─ square_pulse\n"
     ]
    }
   ],
   "source": [
    "mock_measurement.draw_sub_sequence_tree()"
   ]
  },
  {
   "cell_type": "markdown",
   "id": "880cf291-352f-4a7a-a050-afbed54eda87",
   "metadata": {},
   "source": [
    "Since the arbok_driver is based on QCoDeS, we can use all their helper functions as well to inspect our dynamicaly created instrument. As you see below, so far our driver has one measurement which is implemented as an [`InstrumentModule`](https://microsoft.github.io/Qcodes/api/instrument/index.html#qcodes.instrument.InstrumentModule) which has a sub-module (SquarePulse) itself. `print_readable_snapshot` also lists all available parameters and their cur"
   ]
  },
  {
   "cell_type": "code",
   "execution_count": 9,
   "id": "6e8c0aff-4926-476b-9bbd-a05c15f2a966",
   "metadata": {
    "execution": {
     "iopub.execute_input": "2025-09-02T07:56:27.060591Z",
     "iopub.status.busy": "2025-09-02T07:56:27.059600Z",
     "iopub.status.idle": "2025-09-02T07:56:27.069123Z",
     "shell.execute_reply": "2025-09-02T07:56:27.069123Z",
     "shell.execute_reply.started": "2025-09-02T07:56:27.060591Z"
    }
   },
   "outputs": [
    {
     "name": "stdout",
     "output_type": "stream",
     "text": [
      "mock_driver:\n",
      "\tparameter value\n",
      "--------------------------------------------------------------------------------\n",
      "IDN       :\tNone \n",
      "iteration :\tNone \n",
      "mock_driver_mock_measurement:\n",
      "\tparameter value\n",
      "--------------------------------------------------------------------------------\n",
      "mock_driver_mock_measurement_square_pulse:\n",
      "\tparameter     value\n",
      "--------------------------------------------------------------------------------\n",
      "amplitude      :\t0.1 (V)\n",
      "element        :\tgate_1 (N/A)\n",
      "t_square_pulse :\t100 (s)\n"
     ]
    }
   ],
   "source": [
    "mock_driver.print_readable_snapshot()"
   ]
  },
  {
   "cell_type": "markdown",
   "id": "d1ae8464-07c5-4124-a5e3-2ecc76eb9c63",
   "metadata": {},
   "source": [
    "### 1.2 Import self written sequences and configurations"
   ]
  },
  {
   "cell_type": "code",
   "execution_count": 10,
   "id": "241e4af2-7aeb-4c57-8d76-0186503c3329",
   "metadata": {
    "execution": {
     "iopub.execute_input": "2025-09-02T07:56:27.070116Z",
     "iopub.status.busy": "2025-09-02T07:56:27.070116Z",
     "iopub.status.idle": "2025-09-02T07:56:27.636069Z",
     "shell.execute_reply": "2025-09-02T07:56:27.635067Z",
     "shell.execute_reply.started": "2025-09-02T07:56:27.070116Z"
    }
   },
   "outputs": [
    {
     "ename": "NameError",
     "evalue": "name 'ReadoutPoint' is not defined",
     "output_type": "error",
     "traceback": [
      "\u001b[31m---------------------------------------------------------------------------\u001b[39m",
      "\u001b[31mNameError\u001b[39m                                 Traceback (most recent call last)",
      "\u001b[36mCell\u001b[39m\u001b[36m \u001b[39m\u001b[32mIn[10]\u001b[39m\u001b[32m, line 2\u001b[39m\n\u001b[32m      1\u001b[39m \u001b[38;5;28;01mfrom\u001b[39;00m\u001b[38;5;250m \u001b[39m\u001b[34;01mexample_sequences\u001b[39;00m\u001b[34;01m.\u001b[39;00m\u001b[34;01msquare_pulse\u001b[39;00m\u001b[38;5;250m \u001b[39m\u001b[38;5;28;01mimport\u001b[39;00m SquarePulse\n\u001b[32m----> \u001b[39m\u001b[32m2\u001b[39m \u001b[38;5;28;01mfrom\u001b[39;00m\u001b[38;5;250m \u001b[39m\u001b[34;01mexample_sequences\u001b[39;00m\u001b[34;01m.\u001b[39;00m\u001b[34;01mdummy_readout\u001b[39;00m\u001b[38;5;250m \u001b[39m\u001b[38;5;28;01mimport\u001b[39;00m DummyReadout\n",
      "\u001b[36mFile \u001b[39m\u001b[32m~\\GitRepos\\arbok_driver\\docs\\example_sequences\\dummy_readout.py:4\u001b[39m\n\u001b[32m      2\u001b[39m \u001b[38;5;28;01mfrom\u001b[39;00m\u001b[38;5;250m \u001b[39m\u001b[34;01mqm\u001b[39;00m\u001b[38;5;250m \u001b[39m\u001b[38;5;28;01mimport\u001b[39;00m qua\n\u001b[32m      3\u001b[39m \u001b[38;5;28;01mfrom\u001b[39;00m\u001b[38;5;250m \u001b[39m\u001b[34;01marbok_driver\u001b[39;00m\u001b[38;5;250m \u001b[39m\u001b[38;5;28;01mimport\u001b[39;00m ReadSequence,  qua_helpers\n\u001b[32m----> \u001b[39m\u001b[32m4\u001b[39m \u001b[38;5;28;01mfrom\u001b[39;00m\u001b[38;5;250m \u001b[39m\u001b[34;01m.\u001b[39;00m\u001b[34;01maverage_readout\u001b[39;00m\u001b[38;5;250m \u001b[39m\u001b[38;5;28;01mimport\u001b[39;00m Average\n\u001b[32m      5\u001b[39m \u001b[38;5;28;01mfrom\u001b[39;00m\u001b[38;5;250m \u001b[39m\u001b[34;01m.\u001b[39;00m\u001b[34;01mdifference\u001b[39;00m\u001b[38;5;250m \u001b[39m\u001b[38;5;28;01mimport\u001b[39;00m Difference\n\u001b[32m      7\u001b[39m \u001b[38;5;28;01mclass\u001b[39;00m\u001b[38;5;250m \u001b[39m\u001b[34;01mDummyReadout\u001b[39;00m(ReadSequence):\n",
      "\u001b[36mFile \u001b[39m\u001b[32m~\\GitRepos\\arbok_driver\\docs\\example_sequences\\average_readout.py:5\u001b[39m\n\u001b[32m      2\u001b[39m \u001b[38;5;28;01mfrom\u001b[39;00m\u001b[38;5;250m \u001b[39m\u001b[34;01mqm\u001b[39;00m\u001b[38;5;250m \u001b[39m\u001b[38;5;28;01mimport\u001b[39;00m qua\n\u001b[32m      3\u001b[39m \u001b[38;5;66;03m#rom arbok_driver.readout_point import ReadoutPoint\u001b[39;00m\n\u001b[32m----> \u001b[39m\u001b[32m5\u001b[39m \u001b[38;5;28;01mclass\u001b[39;00m\u001b[38;5;250m \u001b[39m\u001b[34;01mAverage\u001b[39;00m(\u001b[43mReadoutPoint\u001b[49m):\n\u001b[32m      6\u001b[39m \u001b[38;5;250m    \u001b[39m\u001b[33;03m\"\"\"\u001b[39;00m\n\u001b[32m      7\u001b[39m \u001b[33;03m    ReadoutPoint child class providing a `qua_measure` method to measure I and Q\u001b[39;00m\n\u001b[32m      8\u001b[39m \u001b[33;03m    in a static averaging manner\u001b[39;00m\n\u001b[32m      9\u001b[39m \u001b[33;03m    \"\"\"\u001b[39;00m\n\u001b[32m     10\u001b[39m     \u001b[38;5;28;01mdef\u001b[39;00m\u001b[38;5;250m \u001b[39m\u001b[34m__init__\u001b[39m(\n\u001b[32m     11\u001b[39m             \u001b[38;5;28mself\u001b[39m,\n\u001b[32m     12\u001b[39m             point_name: \u001b[38;5;28mstr\u001b[39m,\n\u001b[32m     13\u001b[39m             signal: \u001b[38;5;28many\u001b[39m,\n\u001b[32m     14\u001b[39m             config: \u001b[38;5;28mdict\u001b[39m\n\u001b[32m     15\u001b[39m             ):\n",
      "\u001b[31mNameError\u001b[39m: name 'ReadoutPoint' is not defined"
     ]
    }
   ],
   "source": [
    "from example_sequences.square_pulse import SquarePulse\n",
    "from example_sequences.dummy_readout import DummyReadout"
   ]
  },
  {
   "cell_type": "code",
   "execution_count": null,
   "id": "b4135cd5-7144-481b-951f-f6eb16eb69e5",
   "metadata": {
    "execution": {
     "iopub.status.busy": "2025-09-02T07:56:27.636069Z",
     "iopub.status.idle": "2025-09-02T07:56:27.636069Z",
     "shell.execute_reply": "2025-09-02T07:56:27.636069Z",
     "shell.execute_reply.started": "2025-09-02T07:56:27.636069Z"
    }
   },
   "outputs": [],
   "source": [
    "from example_configs.square_pulse_config import square_pulse_conf\n",
    "from example_configs.dummy_readout_config import dummy_readout_config\n",
    "from example_configs.dummy_sample import dummy_sample"
   ]
  },
  {
   "cell_type": "markdown",
   "id": "6082e235-7873-4553-8c3d-c1fd6c13e376",
   "metadata": {},
   "source": [
    "### 1.3 Generic imports"
   ]
  },
  {
   "cell_type": "code",
   "execution_count": null,
   "id": "e127b2b6-456d-4f51-8820-101058c52af9",
   "metadata": {
    "execution": {
     "iopub.status.busy": "2025-09-02T07:56:27.637074Z",
     "iopub.status.idle": "2025-09-02T07:56:27.637074Z",
     "shell.execute_reply": "2025-09-02T07:56:27.637074Z",
     "shell.execute_reply.started": "2025-09-02T07:56:27.637074Z"
    }
   },
   "outputs": [],
   "source": [
    "import numpy as np\n",
    "import os\n",
    "%load_ext rich"
   ]
  },
  {
   "cell_type": "markdown",
   "id": "f67a55f0-78d9-48cc-86a1-ed0b4a55a0bc",
   "metadata": {},
   "source": [
    "## 2. Configuring the driver"
   ]
  },
  {
   "cell_type": "markdown",
   "id": "ea8eae5e-8fc3-414b-90b1-bec966fa1426",
   "metadata": {},
   "source": [
    "### 2.1 Instanciating driver, sequence and set relations"
   ]
  },
  {
   "cell_type": "code",
   "execution_count": null,
   "id": "ac2d5250-100d-460a-a316-49706b96adad",
   "metadata": {
    "execution": {
     "iopub.status.busy": "2025-09-02T07:56:27.638057Z",
     "iopub.status.idle": "2025-09-02T07:56:27.638057Z",
     "shell.execute_reply": "2025-09-02T07:56:27.638057Z",
     "shell.execute_reply.started": "2025-09-02T07:56:27.638057Z"
    }
   },
   "outputs": [],
   "source": [
    "qm_driver = ArbokDriver('qm_driver', dummy_sample)\n",
    "dummy_sequence = Measurement(qm_driver, 'dummy_sequence', dummy_sample)\n",
    "qm_driver.add_sequence(dummy_sequence)"
   ]
  },
  {
   "cell_type": "code",
   "execution_count": null,
   "id": "b7083d65-ebed-4531-83c4-8d2197ca7d04",
   "metadata": {
    "execution": {
     "iopub.status.busy": "2025-09-02T07:56:27.639056Z",
     "iopub.status.idle": "2025-09-02T07:56:27.639056Z",
     "shell.execute_reply": "2025-09-02T07:56:27.639056Z",
     "shell.execute_reply.started": "2025-09-02T07:56:27.639056Z"
    }
   },
   "outputs": [],
   "source": [
    "square_pulse = SquarePulse(dummy_sequence, 'square_pulse', dummy_sample, square_pulse_conf)\n",
    "readout = DummyReadout(dummy_sequence, 'readout', dummy_sample, dummy_readout_config)"
   ]
  },
  {
   "cell_type": "markdown",
   "id": "c3676df9-a505-4f59-a54c-7e2c57b87255",
   "metadata": {},
   "source": [
    "### 2.2 Set sweep parameters and values"
   ]
  },
  {
   "cell_type": "code",
   "execution_count": null,
   "id": "347d764c-735e-43d1-8be3-b2302576126c",
   "metadata": {
    "execution": {
     "iopub.status.busy": "2025-09-02T07:56:27.639056Z",
     "iopub.status.idle": "2025-09-02T07:56:27.640053Z",
     "shell.execute_reply": "2025-09-02T07:56:27.639056Z",
     "shell.execute_reply.started": "2025-09-02T07:56:27.639056Z"
    }
   },
   "outputs": [],
   "source": [
    "dummy_sequence.set_sweeps(\n",
    "    {\n",
    "        square_pulse.amplitude: np.linspace(0.1, 1, 5)\n",
    "    },\n",
    "    {\n",
    "        square_pulse.t_square_pulse: np.arange(20, 100, 10, dtype = int)\n",
    "    }, \n",
    ")"
   ]
  },
  {
   "cell_type": "markdown",
   "id": "0d405128-1397-4f93-ad00-0646db639b3d",
   "metadata": {},
   "source": [
    "### 2.3 Register the gettables to save"
   ]
  },
  {
   "cell_type": "markdown",
   "id": "f72390d1-7a18-421d-8f28-51d4c4b70002",
   "metadata": {},
   "source": [
    "Print gettables of a `ReadSequence` to see all available gettables."
   ]
  },
  {
   "cell_type": "code",
   "execution_count": null,
   "id": "36495891-f5ff-49e8-acc7-ff07d8e59147",
   "metadata": {
    "execution": {
     "iopub.status.busy": "2025-09-02T07:56:27.640053Z",
     "iopub.status.idle": "2025-09-02T07:56:27.641063Z",
     "shell.execute_reply": "2025-09-02T07:56:27.640053Z",
     "shell.execute_reply.started": "2025-09-02T07:56:27.640053Z"
    }
   },
   "outputs": [],
   "source": [
    "# readout.gettables"
   ]
  },
  {
   "cell_type": "code",
   "execution_count": null,
   "id": "50daa939-66a3-46c7-9300-d64241615f1b",
   "metadata": {
    "execution": {
     "iopub.status.busy": "2025-09-02T07:56:27.641063Z",
     "iopub.status.idle": "2025-09-02T07:56:27.641063Z",
     "shell.execute_reply": "2025-09-02T07:56:27.641063Z",
     "shell.execute_reply.started": "2025-09-02T07:56:27.641063Z"
    }
   },
   "outputs": [],
   "source": [
    "dummy_sequence.register_gettables(\n",
    "    readout.qubit1.diff(),\n",
    "    readout.qubit1.read.sensor1_IQ(),\n",
    "    readout.qubit1.ref.sensor1_IQ(),\n",
    ")"
   ]
  },
  {
   "cell_type": "markdown",
   "id": "f8a87e47-d1cc-49d6-b2c8-894e0ce58d2e",
   "metadata": {},
   "source": [
    "### 2.4 Compile QUA program and print to file"
   ]
  },
  {
   "cell_type": "code",
   "execution_count": null,
   "id": "9f67f2f5",
   "metadata": {
    "execution": {
     "iopub.status.busy": "2025-09-02T07:56:27.642049Z",
     "iopub.status.idle": "2025-09-02T07:56:27.642049Z",
     "shell.execute_reply": "2025-09-02T07:56:27.642049Z",
     "shell.execute_reply.started": "2025-09-02T07:56:27.642049Z"
    }
   },
   "outputs": [],
   "source": [
    "qm_driver.dummy_sequence"
   ]
  },
  {
   "cell_type": "code",
   "execution_count": null,
   "id": "69b6a25e-7b55-49fd-8936-2c545e85be94",
   "metadata": {
    "execution": {
     "iopub.status.busy": "2025-09-02T07:56:27.643048Z",
     "iopub.status.idle": "2025-09-02T07:56:27.643048Z",
     "shell.execute_reply": "2025-09-02T07:56:27.643048Z",
     "shell.execute_reply.started": "2025-09-02T07:56:27.643048Z"
    }
   },
   "outputs": [],
   "source": [
    "qua_program = qm_driver.dummy_sequence.get_qua_program()\n",
    "qm_driver.print_qua_program_to_file(\n",
    "    file_name = '0_qua_program.py', \n",
    "    qua_program = qua_program,\n",
    "    add_config=False)"
   ]
  },
  {
   "cell_type": "markdown",
   "id": "202b9945-1308-48ec-bfde-fad9bcf37a70",
   "metadata": {},
   "source": [
    "### 2.5 Connect QM and run program"
   ]
  },
  {
   "cell_type": "code",
   "execution_count": null,
   "id": "733a3077-46e4-44af-8a40-cb42dc09796a",
   "metadata": {
    "execution": {
     "iopub.status.busy": "2025-09-02T07:56:27.644042Z",
     "iopub.status.idle": "2025-09-02T07:56:27.644042Z",
     "shell.execute_reply": "2025-09-02T07:56:27.644042Z",
     "shell.execute_reply.started": "2025-09-02T07:56:27.644042Z"
    }
   },
   "outputs": [],
   "source": [
    "IP_ADDRESS = '<YOUR_QM_IP>'\n",
    "qm_driver.connect_opx(IP_ADDRESS)\n",
    "qm_driver.run(qua_program)"
   ]
  },
  {
   "cell_type": "code",
   "execution_count": null,
   "id": "5caa3b04-66fc-4b56-8f15-f0f2ff2a0fbe",
   "metadata": {
    "execution": {
     "iopub.status.busy": "2025-09-02T07:56:27.645039Z",
     "iopub.status.idle": "2025-09-02T07:56:27.645039Z",
     "shell.execute_reply": "2025-09-02T07:56:27.645039Z",
     "shell.execute_reply.started": "2025-09-02T07:56:27.645039Z"
    }
   },
   "outputs": [],
   "source": [
    "sweep_list = [\n",
    "    {qm_driver.iteration: np.arange(100)},\n",
    "]"
   ]
  },
  {
   "cell_type": "markdown",
   "id": "3710da86-dc84-4962-8b6e-8fe188d351cb",
   "metadata": {},
   "source": [
    "## 3. Set up QCoDeS datamanagement and run measurement "
   ]
  },
  {
   "cell_type": "markdown",
   "id": "5ee4aa92-004e-4f93-a00d-fcc32138e2d7",
   "metadata": {},
   "source": [
    "### 3.1 Define qcodes database path"
   ]
  },
  {
   "cell_type": "code",
   "execution_count": null,
   "id": "bd6bbadf-a130-463e-b904-991620d571a3",
   "metadata": {
    "execution": {
     "iopub.status.busy": "2025-09-02T07:56:27.646039Z",
     "iopub.status.idle": "2025-09-02T07:56:27.646039Z",
     "shell.execute_reply": "2025-09-02T07:56:27.646039Z",
     "shell.execute_reply.started": "2025-09-02T07:56:27.646039Z"
    }
   },
   "outputs": [],
   "source": [
    "db_file_path = os.path.join(os.getcwd(), 'example.db')\n",
    "initialise_or_create_database_at(db_file_path)"
   ]
  },
  {
   "cell_type": "markdown",
   "id": "d87e3fcc-bc70-47f2-9126-b9d2fcd5f86e",
   "metadata": {},
   "source": [
    "### 3.2 Define the experiment and measurement"
   ]
  },
  {
   "cell_type": "code",
   "execution_count": null,
   "id": "78a61c60-e1e8-4bb5-8dd2-de729c9902df",
   "metadata": {
    "execution": {
     "iopub.status.busy": "2025-09-02T07:56:27.646039Z",
     "iopub.status.idle": "2025-09-02T07:56:27.647034Z",
     "shell.execute_reply": "2025-09-02T07:56:27.646039Z",
     "shell.execute_reply.started": "2025-09-02T07:56:27.646039Z"
    }
   },
   "outputs": [],
   "source": [
    "MEASUREMENT_NAME = \"specific measurement name\""
   ]
  },
  {
   "cell_type": "code",
   "execution_count": null,
   "id": "8f65bc27-decf-43a1-bcb7-865bed6fc9c7",
   "metadata": {
    "execution": {
     "iopub.status.busy": "2025-09-02T07:56:27.647034Z",
     "iopub.status.idle": "2025-09-02T07:56:27.647034Z",
     "shell.execute_reply": "2025-09-02T07:56:27.647034Z",
     "shell.execute_reply.started": "2025-09-02T07:56:27.647034Z"
    }
   },
   "outputs": [],
   "source": [
    "tutorial_exp = load_or_create_experiment(\n",
    "    experiment_name=\"Example Experiment\",\n",
    "    sample_name=\"dummy_sample\"\n",
    ")\n",
    "meas = Measurement(exp = tutorial_exp, name = MEASUREMENT_NAME)"
   ]
  },
  {
   "cell_type": "markdown",
   "id": "cdf06ff1-cf87-47b9-8a39-27a0e341dce2",
   "metadata": {},
   "source": [
    "### 3.3 Create measurement loop and run the experiment"
   ]
  },
  {
   "cell_type": "code",
   "execution_count": null,
   "id": "381be620-b2b8-48f3-90c9-62dd04b0eaba",
   "metadata": {
    "execution": {
     "iopub.status.busy": "2025-09-02T07:56:27.648033Z",
     "iopub.status.idle": "2025-09-02T07:56:27.648033Z",
     "shell.execute_reply": "2025-09-02T07:56:27.648033Z",
     "shell.execute_reply.started": "2025-09-02T07:56:27.648033Z"
    }
   },
   "outputs": [],
   "source": [
    "@create_measurement_loop(\n",
    "    sequence = dummy_sequence, measurement=meas, sweep_list=sweep_list)\n",
    "def run_measurement_loop():\n",
    "    pass"
   ]
  },
  {
   "cell_type": "code",
   "execution_count": null,
   "id": "eedf0379-ed1a-456d-b5fb-0c553970d661",
   "metadata": {
    "execution": {
     "iopub.status.busy": "2025-09-02T07:56:27.649049Z",
     "iopub.status.idle": "2025-09-02T07:56:27.650039Z",
     "shell.execute_reply": "2025-09-02T07:56:27.650039Z",
     "shell.execute_reply.started": "2025-09-02T07:56:27.650039Z"
    }
   },
   "outputs": [],
   "source": [
    "run_measurement_loop()"
   ]
  }
 ],
 "metadata": {
  "kernelspec": {
   "display_name": "Python 3 (ipykernel)",
   "language": "python",
   "name": "python3"
  },
  "language_info": {
   "codemirror_mode": {
    "name": "ipython",
    "version": 3
   },
   "file_extension": ".py",
   "mimetype": "text/x-python",
   "name": "python",
   "nbconvert_exporter": "python",
   "pygments_lexer": "ipython3",
   "version": "3.12.11"
  }
 },
 "nbformat": 4,
 "nbformat_minor": 5
}
