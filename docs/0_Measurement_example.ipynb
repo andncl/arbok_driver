{
 "cells": [
  {
   "cell_type": "markdown",
   "id": "b4db0bfb-f716-41a4-a0e5-a7761c3ec941",
   "metadata": {},
   "source": [
    "# Measurement notebook example"
   ]
  },
  {
   "cell_type": "markdown",
   "id": "1ee2a9b7-9b9e-4e7b-8967-6bc9340a70c6",
   "metadata": {},
   "source": [
    "The following tutorials all focus on a specific aspect of arbok. This notebook on the other hand gives as few comments as possible and provides structure of a real world measurement notebook."
   ]
  },
  {
   "cell_type": "markdown",
   "id": "55cf8861-0348-4c57-8140-6110b6794f1d",
   "metadata": {},
   "source": [
    "## 1. Importing modules"
   ]
  },
  {
   "cell_type": "markdown",
   "id": "60e41cb9-3717-4cb4-8fae-da73b4e61a8e",
   "metadata": {},
   "source": [
    "### 1.1 Import of arbok modules"
   ]
  },
  {
   "cell_type": "code",
   "execution_count": 1,
   "id": "17286f7f-9390-4765-b690-58726119a17f",
   "metadata": {},
   "outputs": [
    {
     "name": "stdout",
     "output_type": "stream",
     "text": [
      "2024-12-30 15:38:24,509 - qm - INFO     - Starting session: bc981c6d-12ae-468c-8c11-da7eed121f2d\n"
     ]
    }
   ],
   "source": [
    "from arbok_driver import (\n",
    "    ArbokDriver,\n",
    "    Sample,\n",
    "    Measurement,\n",
    "    create_measurement_loop,\n",
    "    utils\n",
    ")"
   ]
  },
  {
   "cell_type": "markdown",
   "id": "d1ae8464-07c5-4124-a5e3-2ecc76eb9c63",
   "metadata": {},
   "source": [
    "### 1.2 Import self written sequences and configurations"
   ]
  },
  {
   "cell_type": "code",
   "execution_count": 2,
   "id": "241e4af2-7aeb-4c57-8d76-0186503c3329",
   "metadata": {},
   "outputs": [],
   "source": [
    "from example_sequences.square_pulse import SquarePulse\n",
    "from example_sequences.dummy_readout import DummyReadout"
   ]
  },
  {
   "cell_type": "code",
   "execution_count": 3,
   "id": "b4135cd5-7144-481b-951f-f6eb16eb69e5",
   "metadata": {},
   "outputs": [],
   "source": [
    "from example_configs.square_pulse_config import square_pulse_conf\n",
    "from example_configs.dummy_readout_config import dummy_readout_config\n",
    "from example_configs.dummy_sample import dummy_sample"
   ]
  },
  {
   "cell_type": "markdown",
   "id": "6082e235-7873-4553-8c3d-c1fd6c13e376",
   "metadata": {},
   "source": [
    "### 1.3 Generic imports"
   ]
  },
  {
   "cell_type": "code",
   "execution_count": 4,
   "id": "e127b2b6-456d-4f51-8820-101058c52af9",
   "metadata": {},
   "outputs": [],
   "source": [
    "import numpy as np\n",
    "import os\n",
    "%load_ext rich"
   ]
  },
  {
   "cell_type": "markdown",
   "id": "f67a55f0-78d9-48cc-86a1-ed0b4a55a0bc",
   "metadata": {},
   "source": [
    "## 2. Configuring the driver"
   ]
  },
  {
   "cell_type": "markdown",
   "id": "ea8eae5e-8fc3-414b-90b1-bec966fa1426",
   "metadata": {},
   "source": [
    "### 2.1 Instanciating driver, sequence and set relations"
   ]
  },
  {
   "cell_type": "code",
   "execution_count": 5,
   "id": "ac2d5250-100d-460a-a316-49706b96adad",
   "metadata": {},
   "outputs": [
    {
     "name": "stdout",
     "output_type": "stream",
     "text": [
      "Measrueement init\n"
     ]
    }
   ],
   "source": [
    "qm_driver = ArbokDriver('qm_driver', dummy_sample)\n",
    "dummy_sequence = Measurement(qm_driver, 'dummy_sequence', dummy_sample)\n",
    "qm_driver.add_sequence(dummy_sequence)"
   ]
  },
  {
   "cell_type": "code",
   "execution_count": 6,
   "id": "b7083d65-ebed-4531-83c4-8d2197ca7d04",
   "metadata": {},
   "outputs": [],
   "source": [
    "square_pulse = SquarePulse(dummy_sequence, 'square_pulse', dummy_sample, square_pulse_conf)\n",
    "readout = DummyReadout(dummy_sequence, 'readout', dummy_sample, dummy_readout_config)"
   ]
  },
  {
   "cell_type": "markdown",
   "id": "c3676df9-a505-4f59-a54c-7e2c57b87255",
   "metadata": {},
   "source": [
    "### 2.2 Set sweep parameters and values"
   ]
  },
  {
   "cell_type": "code",
   "execution_count": 7,
   "id": "347d764c-735e-43d1-8be3-b2302576126c",
   "metadata": {},
   "outputs": [
    {
     "name": "stdout",
     "output_type": "stream",
     "text": [
      "Declared 2-dimensional parameter sweep of size 40 [5, 8]\n"
     ]
    }
   ],
   "source": [
    "dummy_sequence.set_sweeps(\n",
    "    {\n",
    "        square_pulse.amplitude: np.linspace(0.1, 1, 5)\n",
    "    },\n",
    "    {\n",
    "        square_pulse.t_square_pulse: np.arange(20, 100, 10, dtype = int)\n",
    "    }, \n",
    ")"
   ]
  },
  {
   "cell_type": "markdown",
   "id": "0d405128-1397-4f93-ad00-0646db639b3d",
   "metadata": {},
   "source": [
    "### 2.3 Register the gettables to save"
   ]
  },
  {
   "cell_type": "markdown",
   "id": "f72390d1-7a18-421d-8f28-51d4c4b70002",
   "metadata": {},
   "source": [
    "Print gettables of a `ReadSequence` to see all available gettables."
   ]
  },
  {
   "cell_type": "code",
   "execution_count": 8,
   "id": "36495891-f5ff-49e8-acc7-ff07d8e59147",
   "metadata": {},
   "outputs": [],
   "source": [
    "# readout.gettables"
   ]
  },
  {
   "cell_type": "code",
   "execution_count": null,
   "id": "50daa939-66a3-46c7-9300-d64241615f1b",
   "metadata": {},
   "outputs": [],
   "source": [
    "dummy_sequence.register_gettables(\n",
    "    readout.qubit1.diff(),\n",
    "    readout.qubit1.read.sensor1_IQ(),\n",
    "    readout.qubit1.ref.sensor1_IQ(),\n",
    ")"
   ]
  },
  {
   "cell_type": "markdown",
   "id": "f8a87e47-d1cc-49d6-b2c8-894e0ce58d2e",
   "metadata": {},
   "source": [
    "### 2.4 Compile QUA program and print to file"
   ]
  },
  {
   "cell_type": "code",
   "execution_count": 13,
   "id": "9f67f2f5",
   "metadata": {},
   "outputs": [
    {
     "data": {
      "text/html": [
       "<pre style=\"white-space:pre;overflow-x:auto;line-height:normal;font-family:Menlo,'DejaVu Sans Mono',consolas,'Courier New',monospace\"></pre>\n"
      ],
      "text/plain": []
     },
     "metadata": {},
     "output_type": "display_data"
    },
    {
     "data": {
      "text/plain": [
       "\u001b[1m<\u001b[0m\u001b[1;95mArbokDriver:\u001b[0m\u001b[39m qm_driver\u001b[0m\u001b[1m>\u001b[0m"
      ]
     },
     "execution_count": 13,
     "metadata": {},
     "output_type": "execute_result"
    }
   ],
   "source": [
    "qm_driver.dummy_sequence"
   ]
  },
  {
   "cell_type": "code",
   "execution_count": 12,
   "id": "69b6a25e-7b55-49fd-8936-2c545e85be94",
   "metadata": {},
   "outputs": [
    {
     "data": {
      "text/html": [
       "<pre style=\"white-space:pre;overflow-x:auto;line-height:normal;font-family:Menlo,'DejaVu Sans Mono',consolas,'Courier New',monospace\"><span style=\"color: #800000; text-decoration-color: #800000\">╭─────────────────────────────── </span><span style=\"color: #800000; text-decoration-color: #800000; font-weight: bold\">Traceback </span><span style=\"color: #bf7f7f; text-decoration-color: #bf7f7f; font-weight: bold\">(most recent call last)</span><span style=\"color: #800000; text-decoration-color: #800000\"> ────────────────────────────────╮</span>\n",
       "<span style=\"color: #800000; text-decoration-color: #800000\">│</span> in <span style=\"color: #00ff00; text-decoration-color: #00ff00\">&lt;module&gt;</span>:<span style=\"color: #0000ff; text-decoration-color: #0000ff\">1</span>                                                                                    <span style=\"color: #800000; text-decoration-color: #800000\">│</span>\n",
       "<span style=\"color: #800000; text-decoration-color: #800000\">│</span>                                                                                                  <span style=\"color: #800000; text-decoration-color: #800000\">│</span>\n",
       "<span style=\"color: #800000; text-decoration-color: #800000\">│</span> <span style=\"color: #800000; text-decoration-color: #800000\">❱ </span>1 qua_program = qm_driver.dummy_sequence.get_qua_program()                                     <span style=\"color: #800000; text-decoration-color: #800000\">│</span>\n",
       "<span style=\"color: #800000; text-decoration-color: #800000\">│</span>   <span style=\"color: #7f7f7f; text-decoration-color: #7f7f7f\">2 </span>qm_driver.print_qua_program_to_file(                                                         <span style=\"color: #800000; text-decoration-color: #800000\">│</span>\n",
       "<span style=\"color: #800000; text-decoration-color: #800000\">│</span>   <span style=\"color: #7f7f7f; text-decoration-color: #7f7f7f\">3 </span><span style=\"color: #7f7f7f; text-decoration-color: #7f7f7f\">│   </span>file_name = <span style=\"color: #808000; text-decoration-color: #808000\">'0_qua_program.py'</span>,                                                          <span style=\"color: #800000; text-decoration-color: #800000\">│</span>\n",
       "<span style=\"color: #800000; text-decoration-color: #800000\">│</span>   <span style=\"color: #7f7f7f; text-decoration-color: #7f7f7f\">4 </span><span style=\"color: #7f7f7f; text-decoration-color: #7f7f7f\">│   </span>qua_program = qua_program,                                                               <span style=\"color: #800000; text-decoration-color: #800000\">│</span>\n",
       "<span style=\"color: #800000; text-decoration-color: #800000\">│</span>                                                                                                  <span style=\"color: #800000; text-decoration-color: #800000\">│</span>\n",
       "<span style=\"color: #800000; text-decoration-color: #800000\">│</span> <span style=\"color: #bfbf7f; text-decoration-color: #bfbf7f\">/home/flatmax/miniconda3/envs/arbok_base/lib/python3.11/site-packages/qcodes/utils/</span><span style=\"color: #808000; text-decoration-color: #808000; font-weight: bold\">attribute_hel</span> <span style=\"color: #800000; text-decoration-color: #800000\">│</span>\n",
       "<span style=\"color: #800000; text-decoration-color: #800000\">│</span> <span style=\"color: #808000; text-decoration-color: #808000; font-weight: bold\">pers.py</span>:<span style=\"color: #0000ff; text-decoration-color: #0000ff\">69</span> in <span style=\"color: #00ff00; text-decoration-color: #00ff00\">__getattr__</span>                                                                        <span style=\"color: #800000; text-decoration-color: #800000\">│</span>\n",
       "<span style=\"color: #800000; text-decoration-color: #800000\">│</span>                                                                                                  <span style=\"color: #800000; text-decoration-color: #800000\">│</span>\n",
       "<span style=\"color: #800000; text-decoration-color: #800000\">│</span>   <span style=\"color: #7f7f7f; text-decoration-color: #7f7f7f\"> 66 </span><span style=\"color: #7f7f7f; text-decoration-color: #7f7f7f\">│   │   │   </span><span style=\"color: #0000ff; text-decoration-color: #0000ff\">except</span> <span style=\"color: #00ffff; text-decoration-color: #00ffff\">AttributeError</span>:                                                         <span style=\"color: #800000; text-decoration-color: #800000\">│</span>\n",
       "<span style=\"color: #800000; text-decoration-color: #800000\">│</span>   <span style=\"color: #7f7f7f; text-decoration-color: #7f7f7f\"> 67 </span><span style=\"color: #7f7f7f; text-decoration-color: #7f7f7f\">│   │   │   │   </span><span style=\"color: #0000ff; text-decoration-color: #0000ff\">pass</span>                                                                       <span style=\"color: #800000; text-decoration-color: #800000\">│</span>\n",
       "<span style=\"color: #800000; text-decoration-color: #800000\">│</span>   <span style=\"color: #7f7f7f; text-decoration-color: #7f7f7f\"> 68 </span><span style=\"color: #7f7f7f; text-decoration-color: #7f7f7f\">│   │   </span>                                                                                   <span style=\"color: #800000; text-decoration-color: #800000\">│</span>\n",
       "<span style=\"color: #800000; text-decoration-color: #800000\">│</span> <span style=\"color: #800000; text-decoration-color: #800000\">❱ </span> 69 <span style=\"color: #7f7f7f; text-decoration-color: #7f7f7f\">│   │   </span><span style=\"color: #0000ff; text-decoration-color: #0000ff\">raise</span> <span style=\"color: #00ffff; text-decoration-color: #00ffff\">AttributeError</span>(                                                              <span style=\"color: #800000; text-decoration-color: #800000\">│</span>\n",
       "<span style=\"color: #800000; text-decoration-color: #800000\">│</span>   <span style=\"color: #7f7f7f; text-decoration-color: #7f7f7f\"> 70 </span><span style=\"color: #7f7f7f; text-decoration-color: #7f7f7f\">│   │   │   </span><span style=\"color: #808000; text-decoration-color: #808000\">f\"'{</span><span style=\"color: #00ffff; text-decoration-color: #00ffff\">self</span>.<span style=\"color: #ff0000; text-decoration-color: #ff0000\">__class__</span>.<span style=\"color: #ff0000; text-decoration-color: #ff0000\">__name__</span><span style=\"color: #808000; text-decoration-color: #808000\">}' object and its delegates have no attribute '{</span>k   <span style=\"color: #800000; text-decoration-color: #800000\">│</span>\n",
       "<span style=\"color: #800000; text-decoration-color: #800000\">│</span>   <span style=\"color: #7f7f7f; text-decoration-color: #7f7f7f\"> 71 </span><span style=\"color: #7f7f7f; text-decoration-color: #7f7f7f\">│   │   </span>)                                                                                  <span style=\"color: #800000; text-decoration-color: #800000\">│</span>\n",
       "<span style=\"color: #800000; text-decoration-color: #800000\">│</span>   <span style=\"color: #7f7f7f; text-decoration-color: #7f7f7f\"> 72 </span>                                                                                           <span style=\"color: #800000; text-decoration-color: #800000\">│</span>\n",
       "<span style=\"color: #800000; text-decoration-color: #800000\">╰──────────────────────────────────────────────────────────────────────────────────────────────────╯</span>\n",
       "<span style=\"color: #ff0000; text-decoration-color: #ff0000; font-weight: bold\">AttributeError: </span><span style=\"color: #008000; text-decoration-color: #008000\">'ArbokDriver'</span> object and its delegates have no attribute <span style=\"color: #008000; text-decoration-color: #008000\">'dummy_sequence'</span>\n",
       "</pre>\n"
      ],
      "text/plain": [
       "\u001b[31m╭─\u001b[0m\u001b[31m──────────────────────────────\u001b[0m\u001b[31m \u001b[0m\u001b[1;31mTraceback \u001b[0m\u001b[1;2;31m(most recent call last)\u001b[0m\u001b[31m \u001b[0m\u001b[31m───────────────────────────────\u001b[0m\u001b[31m─╮\u001b[0m\n",
       "\u001b[31m│\u001b[0m in \u001b[92m<module>\u001b[0m:\u001b[94m1\u001b[0m                                                                                    \u001b[31m│\u001b[0m\n",
       "\u001b[31m│\u001b[0m                                                                                                  \u001b[31m│\u001b[0m\n",
       "\u001b[31m│\u001b[0m \u001b[31m❱ \u001b[0m1 qua_program = qm_driver.dummy_sequence.get_qua_program()                                     \u001b[31m│\u001b[0m\n",
       "\u001b[31m│\u001b[0m   \u001b[2m2 \u001b[0mqm_driver.print_qua_program_to_file(                                                         \u001b[31m│\u001b[0m\n",
       "\u001b[31m│\u001b[0m   \u001b[2m3 \u001b[0m\u001b[2m│   \u001b[0mfile_name = \u001b[33m'\u001b[0m\u001b[33m0_qua_program.py\u001b[0m\u001b[33m'\u001b[0m,                                                          \u001b[31m│\u001b[0m\n",
       "\u001b[31m│\u001b[0m   \u001b[2m4 \u001b[0m\u001b[2m│   \u001b[0mqua_program = qua_program,                                                               \u001b[31m│\u001b[0m\n",
       "\u001b[31m│\u001b[0m                                                                                                  \u001b[31m│\u001b[0m\n",
       "\u001b[31m│\u001b[0m \u001b[2;33m/home/flatmax/miniconda3/envs/arbok_base/lib/python3.11/site-packages/qcodes/utils/\u001b[0m\u001b[1;33mattribute_hel\u001b[0m \u001b[31m│\u001b[0m\n",
       "\u001b[31m│\u001b[0m \u001b[1;33mpers.py\u001b[0m:\u001b[94m69\u001b[0m in \u001b[92m__getattr__\u001b[0m                                                                        \u001b[31m│\u001b[0m\n",
       "\u001b[31m│\u001b[0m                                                                                                  \u001b[31m│\u001b[0m\n",
       "\u001b[31m│\u001b[0m   \u001b[2m 66 \u001b[0m\u001b[2m│   │   │   \u001b[0m\u001b[94mexcept\u001b[0m \u001b[96mAttributeError\u001b[0m:                                                         \u001b[31m│\u001b[0m\n",
       "\u001b[31m│\u001b[0m   \u001b[2m 67 \u001b[0m\u001b[2m│   │   │   │   \u001b[0m\u001b[94mpass\u001b[0m                                                                       \u001b[31m│\u001b[0m\n",
       "\u001b[31m│\u001b[0m   \u001b[2m 68 \u001b[0m\u001b[2m│   │   \u001b[0m                                                                                   \u001b[31m│\u001b[0m\n",
       "\u001b[31m│\u001b[0m \u001b[31m❱ \u001b[0m 69 \u001b[2m│   │   \u001b[0m\u001b[94mraise\u001b[0m \u001b[96mAttributeError\u001b[0m(                                                              \u001b[31m│\u001b[0m\n",
       "\u001b[31m│\u001b[0m   \u001b[2m 70 \u001b[0m\u001b[2m│   │   │   \u001b[0m\u001b[33mf\u001b[0m\u001b[33m\"\u001b[0m\u001b[33m'\u001b[0m\u001b[33m{\u001b[0m\u001b[96mself\u001b[0m.\u001b[91m__class__\u001b[0m.\u001b[91m__name__\u001b[0m\u001b[33m}\u001b[0m\u001b[33m'\u001b[0m\u001b[33m object and its delegates have no attribute \u001b[0m\u001b[33m'\u001b[0m\u001b[33m{\u001b[0mk   \u001b[31m│\u001b[0m\n",
       "\u001b[31m│\u001b[0m   \u001b[2m 71 \u001b[0m\u001b[2m│   │   \u001b[0m)                                                                                  \u001b[31m│\u001b[0m\n",
       "\u001b[31m│\u001b[0m   \u001b[2m 72 \u001b[0m                                                                                           \u001b[31m│\u001b[0m\n",
       "\u001b[31m╰──────────────────────────────────────────────────────────────────────────────────────────────────╯\u001b[0m\n",
       "\u001b[1;91mAttributeError: \u001b[0m\u001b[32m'ArbokDriver'\u001b[0m object and its delegates have no attribute \u001b[32m'dummy_sequence'\u001b[0m\n"
      ]
     },
     "metadata": {},
     "output_type": "display_data"
    }
   ],
   "source": [
    "qua_program = qm_driver.dummy_sequence.get_qua_program()\n",
    "qm_driver.print_qua_program_to_file(\n",
    "    file_name = '0_qua_program.py', \n",
    "    qua_program = qua_program,\n",
    "    add_config=False)"
   ]
  },
  {
   "cell_type": "markdown",
   "id": "202b9945-1308-48ec-bfde-fad9bcf37a70",
   "metadata": {},
   "source": [
    "### 2.5 Connect QM and run program"
   ]
  },
  {
   "cell_type": "code",
   "execution_count": null,
   "id": "733a3077-46e4-44af-8a40-cb42dc09796a",
   "metadata": {},
   "outputs": [],
   "source": [
    "IP_ADDRESS = '<YOUR_QM_IP>'\n",
    "qm_driver.connect_opx(IP_ADDRESS)\n",
    "qm_driver.run(qua_program)"
   ]
  },
  {
   "cell_type": "code",
   "execution_count": null,
   "id": "5caa3b04-66fc-4b56-8f15-f0f2ff2a0fbe",
   "metadata": {},
   "outputs": [],
   "source": [
    "sweep_list = [\n",
    "    {qm_driver.iteration: np.arange(100)},\n",
    "]"
   ]
  },
  {
   "cell_type": "markdown",
   "id": "3710da86-dc84-4962-8b6e-8fe188d351cb",
   "metadata": {},
   "source": [
    "## 3. Set up QCoDeS datamanagement and run measurement "
   ]
  },
  {
   "cell_type": "markdown",
   "id": "5ee4aa92-004e-4f93-a00d-fcc32138e2d7",
   "metadata": {},
   "source": [
    "### 3.1 Define qcodes database path"
   ]
  },
  {
   "cell_type": "code",
   "execution_count": null,
   "id": "bd6bbadf-a130-463e-b904-991620d571a3",
   "metadata": {},
   "outputs": [],
   "source": [
    "db_file_path = os.path.join(os.getcwd(), 'example.db')\n",
    "initialise_or_create_database_at(db_file_path)"
   ]
  },
  {
   "cell_type": "markdown",
   "id": "d87e3fcc-bc70-47f2-9126-b9d2fcd5f86e",
   "metadata": {},
   "source": [
    "### 3.2 Define the experiment and measurement"
   ]
  },
  {
   "cell_type": "code",
   "execution_count": 25,
   "id": "78a61c60-e1e8-4bb5-8dd2-de729c9902df",
   "metadata": {},
   "outputs": [],
   "source": [
    "MEASUREMENT_NAME = \"specific measurement name\""
   ]
  },
  {
   "cell_type": "code",
   "execution_count": null,
   "id": "8f65bc27-decf-43a1-bcb7-865bed6fc9c7",
   "metadata": {},
   "outputs": [],
   "source": [
    "tutorial_exp = load_or_create_experiment(\n",
    "    experiment_name=\"Example Experiment\",\n",
    "    sample_name=\"dummy_sample\"\n",
    ")\n",
    "meas = Measurement(exp = tutorial_exp, name = MEASUREMENT_NAME)"
   ]
  },
  {
   "cell_type": "markdown",
   "id": "cdf06ff1-cf87-47b9-8a39-27a0e341dce2",
   "metadata": {},
   "source": [
    "### 3.3 Create measurement loop and run the experiment"
   ]
  },
  {
   "cell_type": "code",
   "execution_count": null,
   "id": "381be620-b2b8-48f3-90c9-62dd04b0eaba",
   "metadata": {},
   "outputs": [],
   "source": [
    "@create_measurement_loop(\n",
    "    sequence = dummy_sequence, measurement=meas, sweep_list=sweep_list)\n",
    "def run_measurement_loop():\n",
    "    pass"
   ]
  },
  {
   "cell_type": "code",
   "execution_count": null,
   "id": "eedf0379-ed1a-456d-b5fb-0c553970d661",
   "metadata": {},
   "outputs": [],
   "source": [
    "run_measurement_loop()"
   ]
  }
 ],
 "metadata": {
  "kernelspec": {
   "display_name": "arbok_base",
   "language": "python",
   "name": "python3"
  },
  "language_info": {
   "codemirror_mode": {
    "name": "ipython",
    "version": 3
   },
   "file_extension": ".py",
   "mimetype": "text/x-python",
   "name": "python",
   "nbconvert_exporter": "python",
   "pygments_lexer": "ipython3",
   "version": "3.11.11"
  }
 },
 "nbformat": 4,
 "nbformat_minor": 5
}
